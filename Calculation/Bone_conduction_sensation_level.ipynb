{
 "cells": [
  {
   "cell_type": "markdown",
   "metadata": {},
   "source": [
    "# Calculation of BC sensation level"
   ]
  },
  {
   "cell_type": "markdown",
   "metadata": {},
   "source": [
    "18-01-2021 GC"
   ]
  },
  {
   "cell_type": "code",
   "execution_count": 1,
   "metadata": {},
   "outputs": [],
   "source": [
    "from pathlib import Path\n",
    "import pandas as pd"
   ]
  },
  {
   "cell_type": "code",
   "execution_count": 2,
   "metadata": {},
   "outputs": [],
   "source": [
    "def read_BC_thresholds():\n",
    "    # function to read threshold in dB FL\n",
    "    f_in = '/media/guido/LACIE/Cingle_Guido/Master/Headband/BC_dir_thr_third.xlsx'\n",
    "    p_in = Path(f_in)   \n",
    "    df = pd.read_excel(p_in, sheet_name='BC_dir_thr_third', header=0, nrows=85)\n",
    "    df = df.drop(['Unnamed: 0'], axis=1)\n",
    "    df = df.fillna(pd.NA)\n",
    "    return df"
   ]
  },
  {
   "cell_type": "code",
   "execution_count": 3,
   "metadata": {},
   "outputs": [],
   "source": [
    "def read_HRTF_BAHA():\n",
    "    # function to read HRTF data for the BC path, collected by Stenfelt\n",
    "    f_in = '/media/guido/LACIE/Cingle_Guido/Master/Headband/constants.xlsx'\n",
    "    p_in = Path(f_in)   \n",
    "    col_to_use = list(range(20))\n",
    "    df = pd.read_excel(p_in, sheet_name='HRTF_BAHA_Stenfelt', \n",
    "                       header=0, nrows=3, usecols=col_to_use)\n",
    "    df = df.fillna(pd.NA)\n",
    "    df = df.rename(columns={'Unnamed: 0' : 'Angle'})\n",
    "    df = df.set_index(['Angle'])\n",
    "    df = df.round(1)\n",
    "    s0 = pd.Series(df.iloc[0])\n",
    "    s90 = pd.Series(df.iloc[1])\n",
    "    s270 = pd.Series(df.iloc[2])\n",
    "    return (s0, s90, s270)"
   ]
  },
  {
   "cell_type": "code",
   "execution_count": 4,
   "metadata": {},
   "outputs": [],
   "source": [
    "def read_BCD_output_65():\n",
    "    # function to read threshold in dB FL\n",
    "    f_in = '/media/guido/LACIE/Cingle_Guido/Master/Headband/BCD_band_output.xlsx'\n",
    "    p_in = Path(f_in)   \n",
    "    df = pd.read_excel(p_in, sheet_name='BCD_output_65', header=0, nrows=85)\n",
    "    df = df.drop(['Unnamed: 0'], axis=1)\n",
    "    df = df.fillna(pd.NA)\n",
    "    return df"
   ]
  },
  {
   "cell_type": "code",
   "execution_count": 5,
   "metadata": {},
   "outputs": [],
   "source": [
    "def read_BCD_output_55():\n",
    "    # function to read threshold in dB FL\n",
    "    f_in = '/media/guido/LACIE/Cingle_Guido/Master/Headband/BCD_band_output.xlsx'\n",
    "    p_in = Path(f_in)   \n",
    "    df = pd.read_excel(p_in, sheet_name='BCD_output_55', header=0, nrows=85)\n",
    "    df = df.drop(['Unnamed: 0'], axis=1)\n",
    "    df = df.fillna(pd.NA)\n",
    "    return df"
   ]
  },
  {
   "cell_type": "code",
   "execution_count": 6,
   "metadata": {},
   "outputs": [],
   "source": [
    "def sl_65():\n",
    "    # return list with BC sensation levels for 0, 90 and 270 degrees\n",
    "    bcd_out = read_BCD_output_65()\n",
    "    info = bcd_out[['Study_ID', 'Device']]\n",
    "    bcd_out = bcd_out.drop(columns=['Study_ID', 'Device'])\n",
    "    \n",
    "    bc_thr = read_BC_thresholds()\n",
    "    bc_thr = bc_thr.drop(columns=['Study_ID', 'Device'])\n",
    "    \n",
    "    l = list()\n",
    "    \n",
    "    for i in range(len(read_HRTF_BAHA())):\n",
    "        sl = read_HRTF_BAHA()[i] + bcd_out - bc_thr\n",
    "        idx = (read_HRTF_BAHA()[i]).index\n",
    "        sl = sl.reindex(columns=idx)\n",
    "        sl = pd.concat([info, sl], axis=1)\n",
    "        # set low f SL = SL at 250 Hz\n",
    "        for f in ['125_Hz', '160_Hz', '200_Hz']: sl[f] = sl['250_Hz']   \n",
    "        \n",
    "        l.append(sl)\n",
    "    return l"
   ]
  },
  {
   "cell_type": "code",
   "execution_count": 7,
   "metadata": {},
   "outputs": [],
   "source": [
    "def sl_55():\n",
    "    # return list with BC sensation levels for 0, 90 and 270 degrees\n",
    "    bcd_out = read_BCD_output_55()\n",
    "    info = bcd_out[['Study_ID', 'Device']]\n",
    "    bcd_out = bcd_out.drop(columns=['Study_ID', 'Device'])\n",
    "    \n",
    "    bc_thr = read_BC_thresholds()\n",
    "    bc_thr = bc_thr.drop(columns=['Study_ID', 'Device'])\n",
    "    \n",
    "    l = list()\n",
    "    \n",
    "    for i in range(len(read_HRTF_BAHA())):\n",
    "        sl = read_HRTF_BAHA()[i] + bcd_out - bc_thr\n",
    "        idx = (read_HRTF_BAHA()[i]).index\n",
    "        sl = sl.reindex(columns=idx)\n",
    "        sl = pd.concat([info, sl], axis=1)\n",
    "        for f in ['125_Hz', '160_Hz', '200_Hz']: sl[f] = sl['250_Hz']   \n",
    "        \n",
    "        l.append(sl)\n",
    "    return l"
   ]
  },
  {
   "cell_type": "code",
   "execution_count": 8,
   "metadata": {},
   "outputs": [],
   "source": [
    "sl65 = sl_65()\n",
    "sl55 = sl_55()"
   ]
  },
  {
   "cell_type": "code",
   "execution_count": 9,
   "metadata": {},
   "outputs": [],
   "source": [
    "# write results to xls file in Master directory\n",
    "fout = '/media/guido/LACIE/Cingle_Guido/Master/Headband/SL_BC.xlsx'\n",
    "pout = Path(fout)\n",
    "with pd.ExcelWriter(pout) as writer:\n",
    "    sl65[0].to_excel(writer, sheet_name='BC_SL_65dB_0deg')\n",
    "    sl65[1].to_excel(writer, sheet_name='BC_SL_65dB_90deg')\n",
    "    sl65[2].to_excel(writer, sheet_name='BC_SL_65dB_270deg')\n",
    "    sl55[0].to_excel(writer, sheet_name='BC_SL_55dB_0deg')\n",
    "    sl55[1].to_excel(writer, sheet_name='BC_SL_55dB_90deg')\n",
    "    sl55[2].to_excel(writer, sheet_name='BC_SL_55dB_270deg')"
   ]
  }
 ],
 "metadata": {
  "kernelspec": {
   "display_name": "Python 3 (ipykernel)",
   "language": "python",
   "name": "python3"
  },
  "language_info": {
   "codemirror_mode": {
    "name": "ipython",
    "version": 3
   },
   "file_extension": ".py",
   "mimetype": "text/x-python",
   "name": "python",
   "nbconvert_exporter": "python",
   "pygments_lexer": "ipython3",
   "version": "3.8.12"
  }
 },
 "nbformat": 4,
 "nbformat_minor": 4
}
