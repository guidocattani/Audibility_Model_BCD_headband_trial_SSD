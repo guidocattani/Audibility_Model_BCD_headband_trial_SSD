{
 "cells": [
  {
   "cell_type": "markdown",
   "metadata": {},
   "source": [
    "#  Read & interpolate AC thresholds, convert in thresholds on the tympanic membrane in the free field"
   ]
  },
  {
   "cell_type": "markdown",
   "metadata": {},
   "source": [
    "8-8-2020 Guido Cattani"
   ]
  },
  {
   "cell_type": "code",
   "execution_count": 1,
   "metadata": {},
   "outputs": [],
   "source": [
    "from math import log10\n",
    "from pathlib import Path\n",
    "import pandas as pd"
   ]
  },
  {
   "cell_type": "code",
   "execution_count": 2,
   "metadata": {},
   "outputs": [],
   "source": [
    "def read_AC_thresholds():\n",
    "    f_in = '/media/guido/LACIE/Cingle_Guido/Master/Headband/AC_thresholds.xlsx'\n",
    "    p_in = Path(f_in)   \n",
    "    df = pd.read_excel(p_in, sheet_name=0, header=0, nrows=85)\n",
    "    df = df.drop(['Unnamed: 0'], axis=1)\n",
    "    type_dict = {'Study_ID': 'str', 'Device': 'str',\n",
    "             'AC_125':'float32', 'AC_250':'float32', 'AC_500':'float32', \n",
    "             'AC_1000': 'float32', 'AC_2000': 'float32', \n",
    "             'AC_4000': 'float32', 'AC_8000': 'float32'}\n",
    "    df = df.astype(type_dict)\n",
    "    df = df.fillna(pd.NA)\n",
    "    return df"
   ]
  },
  {
   "cell_type": "code",
   "execution_count": 3,
   "metadata": {},
   "outputs": [],
   "source": [
    "def read_REDD():\n",
    "    f_in = '/media/guido/LACIE/Cingle_Guido/Master/constants.xlsx'\n",
    "    p_in = Path(f_in)   \n",
    "    df = pd.read_excel(p_in, sheet_name='REDD', header = 0, usecols='E:W', skiprows=[1, 2, 3, 4, 5], nrows=1)\n",
    "    df = df.fillna(pd.NA)\n",
    "    sr = pd.Series(df.iloc[0], dtype='float32')\n",
    "    return sr"
   ]
  },
  {
   "cell_type": "code",
   "execution_count": 4,
   "metadata": {},
   "outputs": [],
   "source": [
    "def log_f_third():\n",
    "    frequencies = [125, 160, 200, 250, 315, 400, 500, 630, 800, 1000, \n",
    "                   1250, 1600, 2000, 2500, 3150, 4000, 5000, 6300, 8000]\n",
    "\n",
    "    f = pd.Series(frequencies, dtype = 'int16')                             # array with 1/3 octave band CF\n",
    "    f_log_third_bands = f.apply(log10)                                      # log version of the same array\n",
    "    return f_log_third_bands"
   ]
  },
  {
   "cell_type": "code",
   "execution_count": 5,
   "metadata": {},
   "outputs": [],
   "source": [
    "def change_columns(df):\n",
    "    n = [0, 1, 2, 5, 8, 11, 14, 17, 20]\n",
    "    cls = list()\n",
    "    for col in df.columns: \n",
    "        cls.append(col) \n",
    "    d = dict()\n",
    "    for i in range(len(cls)):\n",
    "        d.update({cls[i] : n[i]})\n",
    "    df = df.rename(columns=d)\n",
    "    return df"
   ]
  },
  {
   "cell_type": "code",
   "execution_count": 6,
   "metadata": {},
   "outputs": [],
   "source": [
    "def interpolation_AC_thresholds(df):\n",
    "    # interpolation of audiometric threholds to obtain threshold for single 1/3 octave band\n",
    "    frequencies = [125, 160, 200, 250, 315, 400, 500, 630, 800, \n",
    "                   1000, 1250, 1600, 2000, 2500, 3150, 4000, 5000, 6300, 8000] # third bands\n",
    "\n",
    "    flog = log_f_third()\n",
    "\n",
    "    idx = pd.RangeIndex(21)\n",
    "    interpol = pd.Series(idx, dtype='float64')\n",
    "\n",
    "    interpolated = pd.DataFrame()\n",
    "\n",
    "    for g in range(len(df.index)):\n",
    "        thr = pd.Series(df.iloc[g])\n",
    "\n",
    "        interpol[0] = thr[0]\n",
    "        interpol[1] = thr[1]\n",
    "        interpol[20] = thr[20]\n",
    "        for i in range(6):\n",
    "            j = 3 * i + 2\n",
    "            t = 3 * i\n",
    "            interpol[j] = thr[j]\n",
    "            interpol[j+1] = thr[j] + (thr[j+3] - thr[j]) * (flog[t+1] - flog[t]) / (flog[t+3] - flog[t])\n",
    "            interpol[j+2] = thr[j] + (thr[j+3] - thr[j]) * (flog[t+2] - flog[t]) / (flog[t+3] - flog[t])\n",
    "\n",
    "        interpolated = pd.concat([interpolated, interpol], axis = 1)        # concatenation of lines with data\n",
    "\n",
    "    interpolated = interpolated.T\n",
    "    interpolated = interpolated.reset_index()\n",
    "    interpolated  = interpolated.drop(columns=['index'])\n",
    "\n",
    "    f_names = [str(f) + '_Hz' for f in frequencies]\n",
    "    name_columns = ['Study_ID', 'Device'] + f_names\n",
    "    f_dict=dict()\n",
    "    for i in range(len(f_names)): f_dict.update({f_names[i]:'int32'})\n",
    "\n",
    "    interpolated.columns = name_columns\n",
    "    interpolated = interpolated.fillna(-999)\n",
    "    interpolated = interpolated.round(0)\n",
    "    interpolated = interpolated.astype(f_dict)\n",
    "    interpolated = interpolated.replace(-999, pd.NA)\n",
    "    return interpolated"
   ]
  },
  {
   "cell_type": "code",
   "execution_count": 7,
   "metadata": {},
   "outputs": [],
   "source": [
    "def correction_REDD(df):\n",
    "    info = df[['Study_ID', 'Device']]                              # select columns 0 and 1\n",
    "    df1 = df.drop(columns=['Study_ID', 'Device'])                   # drop columns 0 and 1\n",
    "    redd = read_REDD()                                               # call function read-REDD\n",
    "    corrected = df1.add(redd, axis = 1)                               # add Series with REDD values\n",
    "    corrected = corrected.round(0)\n",
    "    corrected = corrected.astype('int')\n",
    "    corrected = pd.concat([info, corrected], axis=1)                 # add newly columns 0 and 1\n",
    "    return corrected"
   ]
  },
  {
   "cell_type": "code",
   "execution_count": 8,
   "metadata": {},
   "outputs": [],
   "source": [
    "act = read_AC_thresholds()\n",
    "act = change_columns(act)\n",
    "AC_thr_int = interpolation_AC_thresholds(act)\n",
    "AC_thr_eardrum = correction_REDD(AC_thr_int)"
   ]
  },
  {
   "cell_type": "code",
   "execution_count": 9,
   "metadata": {},
   "outputs": [],
   "source": [
    "# write results to xlsx file in Master directory\n",
    "fout = '/media/guido/LACIE/Cingle_Guido/Master/AC_thr_third.xlsx'\n",
    "pout = Path(fout)\n",
    "with pd.ExcelWriter(pout) as writer:\n",
    "    AC_thr_int.to_excel(writer, sheet_name='AC_thr_interpolated')\n",
    "    AC_thr_eardrum.to_excel(writer, sheet_name='AC_thr_eardrum')"
   ]
  }
 ],
 "metadata": {
  "kernelspec": {
   "display_name": "Python 3 (ipykernel)",
   "language": "python",
   "name": "python3"
  },
  "language_info": {
   "codemirror_mode": {
    "name": "ipython",
    "version": 3
   },
   "file_extension": ".py",
   "mimetype": "text/x-python",
   "name": "python",
   "nbconvert_exporter": "python",
   "pygments_lexer": "ipython3",
   "version": "3.8.12"
  }
 },
 "nbformat": 4,
 "nbformat_minor": 4
}
