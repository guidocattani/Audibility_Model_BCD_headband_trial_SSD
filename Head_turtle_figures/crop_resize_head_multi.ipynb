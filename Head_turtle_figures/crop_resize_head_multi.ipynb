{
 "cells": [
  {
   "cell_type": "markdown",
   "id": "8e20a3ea",
   "metadata": {},
   "source": [
    "25 January 2022 Guido Cattani, crop en resize (for turtle head)"
   ]
  },
  {
   "cell_type": "code",
   "execution_count": 1,
   "id": "polar-founder",
   "metadata": {},
   "outputs": [],
   "source": [
    "# import pillow en path\n",
    "from PIL import Image \n",
    "from pathlib import Path"
   ]
  },
  {
   "cell_type": "code",
   "execution_count": 2,
   "id": "imperial-morocco",
   "metadata": {},
   "outputs": [],
   "source": [
    "def cropping(im):   \n",
    "    # Setting the points for cropped image\n",
    "    left = 94\n",
    "    top = 65\n",
    "    right = 400\n",
    "    bottom = 300\n",
    "\n",
    "    # Cropped image of above dimension\n",
    "    # (It will not change orginal image)\n",
    "    im1 = im.crop((left, top, right, bottom))\n",
    "    return im1"
   ]
  },
  {
   "cell_type": "code",
   "execution_count": 3,
   "id": "demonstrated-midwest",
   "metadata": {},
   "outputs": [],
   "source": [
    "def resizing(im):\n",
    "    basewidth = 600\n",
    "    wpercent = (basewidth/float(im.size[0]))\n",
    "    hsize = int((float(im.size[1])*float(wpercent)))\n",
    "    im1 = im.resize((basewidth,hsize), Image.ANTIALIAS)\n",
    "    return im1"
   ]
  },
  {
   "cell_type": "code",
   "execution_count": 4,
   "id": "d851cbf3",
   "metadata": {},
   "outputs": [],
   "source": [
    "def crop_and_resize(im):\n",
    "    im1 = cropping(im)\n",
    "    im2 = resizing(im1)\n",
    "    return im2"
   ]
  },
  {
   "cell_type": "code",
   "execution_count": 5,
   "id": "c7ec4d5b",
   "metadata": {},
   "outputs": [],
   "source": [
    "def list_of_tiff(p):\n",
    "    l = list(Path(p).glob('*.tiff'))\n",
    "    return l"
   ]
  },
  {
   "cell_type": "code",
   "execution_count": 6,
   "id": "d07a1d6e",
   "metadata": {},
   "outputs": [],
   "source": [
    "def all_resize(p):\n",
    "    ldir = list_of_tiff(p)\n",
    "    for dr in ldir:\n",
    "        drs = str(dr)\n",
    "        f = drs.split('/')[-1]\n",
    "        im = Image.open(dr) \n",
    "        im = crop_and_resize(im)\n",
    "        pout = p + 'cropped/' + f\n",
    "        im.save(pout) \n",
    "        print(pout)"
   ]
  },
  {
   "cell_type": "code",
   "execution_count": 7,
   "id": "dfec11d8",
   "metadata": {},
   "outputs": [],
   "source": [
    "pin = '/media/guido/LACIE/Cingle_Guido/turtle_head_figures/Band/'"
   ]
  },
  {
   "cell_type": "code",
   "execution_count": 8,
   "id": "52fe7af5",
   "metadata": {},
   "outputs": [
    {
     "name": "stdout",
     "output_type": "stream",
     "text": [
      "/media/guido/LACIE/Cingle_Guido/turtle_head_figures/Band/cropped/head_Sbcd_Nbest.tiff\n",
      "/media/guido/LACIE/Cingle_Guido/turtle_head_figures/Band/cropped/head_Sbcd_Nfront.tiff\n",
      "/media/guido/LACIE/Cingle_Guido/turtle_head_figures/Band/cropped/head_Sbcd_Nnone.tiff\n",
      "/media/guido/LACIE/Cingle_Guido/turtle_head_figures/Band/cropped/head_Sbest_Nbcd.tiff\n",
      "/media/guido/LACIE/Cingle_Guido/turtle_head_figures/Band/cropped/head_Sbest_Nfront.tiff\n",
      "/media/guido/LACIE/Cingle_Guido/turtle_head_figures/Band/cropped/head_Sbest_Nnone.tiff\n",
      "/media/guido/LACIE/Cingle_Guido/turtle_head_figures/Band/cropped/head_Sfront_Nbcd.tiff\n",
      "/media/guido/LACIE/Cingle_Guido/turtle_head_figures/Band/cropped/head_Sfront_Nbest.tiff\n",
      "/media/guido/LACIE/Cingle_Guido/turtle_head_figures/Band/cropped/head_Sfront_Nfront.tiff\n",
      "/media/guido/LACIE/Cingle_Guido/turtle_head_figures/Band/cropped/head_Sfront_Nnone.tiff\n"
     ]
    }
   ],
   "source": [
    "all_resize(pin)"
   ]
  },
  {
   "cell_type": "code",
   "execution_count": 9,
   "id": "220b84ca",
   "metadata": {},
   "outputs": [
    {
     "name": "stdout",
     "output_type": "stream",
     "text": [
      "Done\n"
     ]
    }
   ],
   "source": [
    "print(\"Done\")"
   ]
  }
 ],
 "metadata": {
  "kernelspec": {
   "display_name": "Python 3 (ipykernel)",
   "language": "python",
   "name": "python3"
  },
  "language_info": {
   "codemirror_mode": {
    "name": "ipython",
    "version": 3
   },
   "file_extension": ".py",
   "mimetype": "text/x-python",
   "name": "python",
   "nbconvert_exporter": "python",
   "pygments_lexer": "ipython3",
   "version": "3.8.12"
  }
 },
 "nbformat": 4,
 "nbformat_minor": 5
}
