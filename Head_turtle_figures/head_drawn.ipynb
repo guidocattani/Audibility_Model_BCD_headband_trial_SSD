{
 "cells": [
  {
   "cell_type": "code",
   "execution_count": 1,
   "metadata": {},
   "outputs": [],
   "source": [
    "# import turtle package to draw\n",
    "import turtle"
   ]
  },
  {
   "cell_type": "code",
   "execution_count": 2,
   "metadata": {},
   "outputs": [],
   "source": [
    "# import pillow\n",
    "from PIL import Image "
   ]
  },
  {
   "cell_type": "code",
   "execution_count": 3,
   "metadata": {},
   "outputs": [],
   "source": [
    "def stop_drawing():\n",
    "    #turtle.hideturtle()\n",
    "    color = '#000000'\n",
    "    turtle.pencolor(color)\n",
    "    turtle.fillcolor(color)\n",
    "    turtle.pensize(2)\n",
    "    turtle.penup()\n",
    "    turtle.goto(0, 0)\n",
    "    turtle.seth(45) # tilt the shape to negative direction 45"
   ]
  },
  {
   "cell_type": "code",
   "execution_count": 4,
   "metadata": {},
   "outputs": [],
   "source": [
    "# function to draw ellipse\n",
    "def head(radius):\n",
    "    # rad --> radius of arc\n",
    "    turtle.pendown()\n",
    "\n",
    "    for i in range(2):\n",
    "        # two arcs\n",
    "        turtle.circle(radius,90)\n",
    "        turtle.circle(radius//1.5,90)\n",
    "    stop_drawing()"
   ]
  },
  {
   "cell_type": "code",
   "execution_count": 5,
   "metadata": {},
   "outputs": [],
   "source": [
    "def nose():\n",
    "    mx, my = mid()\n",
    "    turtle.circle(rad//1.5, -10)\n",
    "    n1x, ny = turtle.pos()\n",
    "    distancex = n1x - mx\n",
    "    n2x = mx - distancex\n",
    "    px, py = mx, my + 2 * rad / 10\n",
    "    a1 = (ny - py)/ (n1x - px)\n",
    "    b1 = ny - a1 * n1x\n",
    "    a2 = (ny - py)/ (n2x - px)\n",
    "    b2 = ny - a2 * n2x\n",
    "    deltax = 0.26 * distancex\n",
    "    x1 = mx + deltax\n",
    "    x2 = mx - deltax\n",
    "    y = a1 * x1 + b1\n",
    "    turtle.pendown()\n",
    "    turtle.goto(x1, y)\n",
    "    turtle.goto(x2, y)\n",
    "    turtle.goto(n2x, ny)\n",
    "    stop_drawing()"
   ]
  },
  {
   "cell_type": "code",
   "execution_count": 6,
   "metadata": {},
   "outputs": [],
   "source": [
    "def mid():\n",
    "    stop_drawing()\n",
    "    turtle.circle(rad, 90)\n",
    "    turtle.circle(rad//1.5, 45)\n",
    "    mx, my = turtle.pos()\n",
    "    return (mx, my)"
   ]
  },
  {
   "cell_type": "code",
   "execution_count": 7,
   "metadata": {},
   "outputs": [],
   "source": [
    "def right_ear():\n",
    "    turtle.circle(rad, 45)\n",
    "    turtle.seth(-175)\n",
    "    turtle.pendown()\n",
    "    turtle.circle(rad/9.5, -195)\n",
    "    stop_drawing()"
   ]
  },
  {
   "cell_type": "code",
   "execution_count": 8,
   "metadata": {},
   "outputs": [],
   "source": [
    "def pos_left():\n",
    "    stop_drawing()\n",
    "    turtle.circle(rad, 90)\n",
    "    turtle.circle(rad//1.5, 90)\n",
    "    turtle.circle(rad, 45)\n",
    "    x, y = turtle.pos()\n",
    "    return (x, y)"
   ]
  },
  {
   "cell_type": "code",
   "execution_count": 9,
   "metadata": {},
   "outputs": [],
   "source": [
    "def left_ear():\n",
    "    pos_left()\n",
    "    turtle.seth(+175)\n",
    "    turtle.pendown()\n",
    "    turtle.circle(rad/9.5, +195)\n",
    "    stop_drawing()"
   ]
  },
  {
   "cell_type": "code",
   "execution_count": 10,
   "metadata": {},
   "outputs": [],
   "source": [
    "def bcd():\n",
    "    turtle.circle(rad, 17)\n",
    "    p1x, p1y = turtle.pos()\n",
    "    stop_drawing()\n",
    "    turtle.circle(rad, 29)\n",
    "    p2x, p2y = turtle.pos()\n",
    "    deltax = 10\n",
    "    p3x = p2x + deltax\n",
    "    a1 = (p1y - p2y)/ (p1x - p2x)\n",
    "    b1 = p1y - a1 * p1x\n",
    "    a2 = - 1 / a1\n",
    "    b2 = p2y - a2 * p2x\n",
    "    p3y = a2 * p3x + b2\n",
    "    b2 = p2y - a2 * p2x\n",
    "    p4x = p1x + deltax\n",
    "    b4 = p1y - a2 * p1x\n",
    "    p4y = a2 * p4x + b4\n",
    "    turtle.pendown()\n",
    "    color = '#000000'\n",
    "    turtle.fillcolor(color)\n",
    "    turtle.begin_fill()\n",
    "    turtle.goto(p3x, p3y)\n",
    "    turtle.goto(p4x, p4y)\n",
    "    turtle.goto(p1x, p1y)\n",
    "    turtle.goto(p2x, p2y)\n",
    "    turtle.end_fill()\n",
    "    stop_drawing()"
   ]
  },
  {
   "cell_type": "code",
   "execution_count": 11,
   "metadata": {},
   "outputs": [],
   "source": [
    "def headband():\n",
    "    turtle.circle(rad, 21)\n",
    "    p1 = turtle.pos()\n",
    "    stop_drawing()\n",
    "    turtle.circle(rad, 25)\n",
    "    p2 = turtle.pos()\n",
    "    stop_drawing()\n",
    "    turtle.circle(rad, 90)\n",
    "    turtle.circle(rad//1.5, 90)\n",
    "    turtle.circle(rad, 34)\n",
    "    p3 = turtle.pos()\n",
    "    stop_drawing()\n",
    "    turtle.circle(rad, 90)\n",
    "    turtle.circle(rad//1.5, 90)\n",
    "    turtle.circle(rad, 38)\n",
    "    p4 = turtle.pos()\n",
    "    turtle.pendown()\n",
    "    color = '#B3B3B3'\n",
    "    turtle.pencolor(color)\n",
    "    turtle.fillcolor(color)\n",
    "    turtle.begin_fill()\n",
    "    turtle.goto(p1)\n",
    "    turtle.goto(p2)\n",
    "    turtle.goto(p3)\n",
    "    turtle.goto(p4)\n",
    "    turtle.end_fill()\n",
    "    stop_drawing()"
   ]
  },
  {
   "cell_type": "code",
   "execution_count": 12,
   "metadata": {},
   "outputs": [],
   "source": [
    "def loudspeaker_right():\n",
    "    turtle.circle(rad, 45)\n",
    "    turtle.seth(-175)\n",
    "    turtle.circle(rad/9.5, -98)\n",
    "    xo, yo = turtle.pos()\n",
    "    x1 = xo + 55\n",
    "    y1 = yo +40\n",
    "    turtle.goto(x1, y1)\n",
    "    turtle.seth(-90)\n",
    "    turtle.pendown()\n",
    "    turtle.pensize(5)\n",
    "    turtle.forward(80)\n",
    "    turtle.right(-135)\n",
    "    turtle.forward(35)\n",
    "    turtle.right(45)\n",
    "    turtle.forward(30)\n",
    "    turtle.left(90)\n",
    "    turtle.forward(32)\n",
    "    turtle.left(90)\n",
    "    turtle.forward(30)\n",
    "    turtle.right(45)\n",
    "    turtle.forward(35)\n",
    "    stop_drawing()"
   ]
  },
  {
   "cell_type": "code",
   "execution_count": 13,
   "metadata": {},
   "outputs": [],
   "source": [
    "def loudspeaker_left():\n",
    "    pos_left()\n",
    "    turtle.seth(+175)\n",
    "    turtle.circle(rad/9.5, 98)\n",
    "    xo, yo = turtle.pos()\n",
    "    x1 = xo - 55\n",
    "    y1 = yo + 40\n",
    "    turtle.goto(x1, y1)\n",
    "    turtle.seth(-90)\n",
    "    turtle.pendown()\n",
    "    turtle.pensize(5)\n",
    "    turtle.forward(80)\n",
    "    turtle.left(-135)\n",
    "    turtle.forward(35)\n",
    "    turtle.left(45)\n",
    "    turtle.forward(30)\n",
    "    turtle.right(90)\n",
    "    turtle.forward(32)\n",
    "    turtle.right(90)\n",
    "    turtle.forward(30)\n",
    "    turtle.left(45)\n",
    "    turtle.forward(35)\n",
    "    stop_drawing()"
   ]
  },
  {
   "cell_type": "code",
   "execution_count": 14,
   "metadata": {},
   "outputs": [],
   "source": [
    "def loudspeaker_front():\n",
    "    mx, my = mid()\n",
    "    x1 = mx - 40\n",
    "    y1 = my + 65\n",
    "    turtle.goto(x1, y1)\n",
    "    turtle.seth(0)\n",
    "    turtle.pendown()\n",
    "    turtle.pensize(5)\n",
    "    turtle.forward(80)\n",
    "    turtle.right(-135)\n",
    "    turtle.forward(35)\n",
    "    turtle.right(45)\n",
    "    turtle.forward(30)\n",
    "    turtle.left(90)\n",
    "    turtle.forward(32)\n",
    "    turtle.left(90)\n",
    "    turtle.forward(30)\n",
    "    turtle.right(45)\n",
    "    turtle.forward(35)\n",
    "    stop_drawing()"
   ]
  },
  {
   "cell_type": "code",
   "execution_count": 15,
   "metadata": {},
   "outputs": [],
   "source": [
    "def deaf_ear():    \n",
    "    turtle.circle(rad, 45)\n",
    "    xd, yd = turtle.pos()\n",
    "    x0 = xd - 9\n",
    "    y0 = yd - 24\n",
    "    a = 27\n",
    "    color = '#B22222'\n",
    "    turtle.pencolor(color)\n",
    "    turtle.pensize(4)\n",
    "    turtle.goto(x0, y0)\n",
    "    turtle.pendown()\n",
    "    turtle.goto(x0 + a, y0 + a)\n",
    "    turtle.penup()\n",
    "    turtle.goto(x0, y0 + a)\n",
    "    turtle.pendown()\n",
    "    turtle.goto(x0 + a, y0)\n",
    "    stop_drawing()"
   ]
  },
  {
   "cell_type": "code",
   "execution_count": 16,
   "metadata": {},
   "outputs": [],
   "source": [
    "def draw_N(x, y):\n",
    "    h = 28\n",
    "    w = 16\n",
    "    turtle.goto(x, y)\n",
    "    turtle.pendown()\n",
    "    turtle.pensize(4)\n",
    "    turtle.goto(x, y + h)\n",
    "    turtle.goto(x + w, y)\n",
    "    turtle.goto(x + w, y + h)\n",
    "    turtle.penup()"
   ]
  },
  {
   "cell_type": "code",
   "execution_count": 17,
   "metadata": {},
   "outputs": [],
   "source": [
    "def draw_more_N():   \n",
    "    x0, y0 = -172, 45      # best-ear-side\n",
    "    x1, y1 = 64, 45        # BCD-side\n",
    "    x2, y2 = mid()         # front\n",
    "    x2 = x2 - 8\n",
    "    y2 = y2 + 23\n",
    "\n",
    "    draw_N(x0, y0)         # best-ear-side\n",
    "    draw_N(x1, y1)         # BCD-side\n",
    "    draw_N(x2, y2)         # front"
   ]
  },
  {
   "cell_type": "code",
   "execution_count": 18,
   "metadata": {},
   "outputs": [],
   "source": [
    "def draw_S(x, y):\n",
    "    turtle.goto(x + 16, y + 28)   \n",
    "    turtle.pendown()\n",
    "    turtle.pensize(4)\n",
    "    turtle.seth(150)\n",
    "    turtle.circle(7, 30)\n",
    "    turtle.seth(180) \n",
    "    turtle.circle(7, 180)\n",
    "    turtle.seth(-180)\n",
    "    turtle.circle(7, -180)\n",
    "    turtle.forward(-8)\n",
    "    turtle.penup()"
   ]
  },
  {
   "cell_type": "code",
   "execution_count": 19,
   "metadata": {},
   "outputs": [],
   "source": [
    "def draw_more_S():   \n",
    "    x0, y0 = -171, 45           # best-ear-side\n",
    "    x1, y1 = 63, 45             # BCD-side\n",
    "    x3, y3 = mid()              # front\n",
    "    x3 = x3 - 10                \n",
    "    y3 = y3 + 25\n",
    "\n",
    "    draw_S(x0, y0)              # best-ear-side\n",
    "    draw_S(x1, y1)              # BCD-side\n",
    "    draw_S(x3, y3)              # front"
   ]
  },
  {
   "cell_type": "code",
   "execution_count": 20,
   "metadata": {},
   "outputs": [],
   "source": [
    "def draw_N_and_S():\n",
    "    x, y = mid()\n",
    "    turtle.goto(x, y + 28)\n",
    "    turtle.pendown()\n",
    "    turtle.pensize(3)\n",
    "    turtle.goto(x, y + 42)\n",
    "    turtle.penup()\n",
    "    turtle.goto(x - 7, y + 35)\n",
    "    turtle.pendown()\n",
    "    turtle.pensize(4)\n",
    "    turtle.goto(x + 7, y + 35)\n",
    "    turtle.penup()\n",
    "    draw_N(x - 32, y + 23)\n",
    "    x, y = turtle.pos()\n",
    "    draw_S(x + 28, y - 28)"
   ]
  },
  {
   "cell_type": "code",
   "execution_count": 21,
   "metadata": {},
   "outputs": [],
   "source": [
    "# Main section\n",
    "\n",
    "screen = turtle.Screen()\n",
    "screen.setup(750, 750)\n",
    "\n",
    "# set radius\n",
    "rad = 100\n",
    "\n",
    "#initialize drawing\n",
    "stop_drawing()\n",
    "\n",
    "# draw head\n",
    "head(rad)\n",
    "\n",
    "# draw nose\n",
    "nose()\n",
    "\n",
    "# draw right ear\n",
    "right_ear()\n",
    "\n",
    "# draw left ear\n",
    "left_ear()\n",
    "\n",
    "# draw cross above deaf ear\n",
    "deaf_ear()\n",
    "\n",
    "# draw bcd behind right ear\n",
    "bcd()\n",
    "\n",
    "# draw the headband\n",
    "headband()"
   ]
  },
  {
   "cell_type": "code",
   "execution_count": 22,
   "metadata": {},
   "outputs": [],
   "source": [
    "# draw the loudspeaker right, BCD-side\n",
    "loudspeaker_right()"
   ]
  },
  {
   "cell_type": "code",
   "execution_count": 23,
   "metadata": {},
   "outputs": [],
   "source": [
    "# draw the loudspeaker left, best-ear-side\n",
    "loudspeaker_left()"
   ]
  },
  {
   "cell_type": "code",
   "execution_count": 24,
   "metadata": {},
   "outputs": [],
   "source": [
    "# draw the loudspeaker front\n",
    "loudspeaker_front()"
   ]
  },
  {
   "cell_type": "code",
   "execution_count": 25,
   "metadata": {},
   "outputs": [],
   "source": [
    "# draw the N of noise near loudspreakers\n",
    "draw_more_N()"
   ]
  },
  {
   "cell_type": "code",
   "execution_count": 26,
   "metadata": {},
   "outputs": [],
   "source": [
    "# draw the S of signal near loudspreakers\n",
    "draw_more_S()"
   ]
  },
  {
   "cell_type": "code",
   "execution_count": 27,
   "metadata": {},
   "outputs": [],
   "source": [
    "# draw the N of noise an S of signal near loudspreker in front\n",
    "draw_N_and_S()"
   ]
  },
  {
   "cell_type": "code",
   "execution_count": 28,
   "metadata": {},
   "outputs": [],
   "source": [
    "turtle.hideturtle()"
   ]
  },
  {
   "cell_type": "code",
   "execution_count": 29,
   "metadata": {},
   "outputs": [],
   "source": [
    "drct = '/media/guido/LACIE/Cingle_Guido/turtle_head_figures/'\n",
    "fileName = 'head_all'"
   ]
  },
  {
   "cell_type": "code",
   "execution_count": 30,
   "metadata": {},
   "outputs": [],
   "source": [
    "# save turtle drawn to file and convert in .tiff\n",
    "canvas = screen.getcanvas()\n",
    "canvas.postscript(file = drct + 'tmp' +'.eps', width=750, height=750)\n",
    " \n",
    "img = Image.open(drct + 'tmp' + '.eps') \n",
    "\n",
    "img.save(drct + fileName + '.tiff')  "
   ]
  },
  {
   "cell_type": "code",
   "execution_count": 31,
   "metadata": {},
   "outputs": [
    {
     "name": "stdout",
     "output_type": "stream",
     "text": [
      "READY\n"
     ]
    }
   ],
   "source": [
    "print('READY')"
   ]
  }
 ],
 "metadata": {
  "kernelspec": {
   "display_name": "Python 3 (ipykernel)",
   "language": "python",
   "name": "python3"
  },
  "language_info": {
   "codemirror_mode": {
    "name": "ipython",
    "version": 3
   },
   "file_extension": ".py",
   "mimetype": "text/x-python",
   "name": "python",
   "nbconvert_exporter": "python",
   "pygments_lexer": "ipython3",
   "version": "3.8.12"
  }
 },
 "nbformat": 4,
 "nbformat_minor": 4
}
