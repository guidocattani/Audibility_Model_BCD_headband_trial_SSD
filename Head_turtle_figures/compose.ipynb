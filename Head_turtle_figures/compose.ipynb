{
 "cells": [
  {
   "cell_type": "code",
   "execution_count": 1,
   "id": "mighty-button",
   "metadata": {},
   "outputs": [],
   "source": [
    "# import pillow\n",
    "from PIL import Image "
   ]
  },
  {
   "cell_type": "code",
   "execution_count": 2,
   "id": "9868257c",
   "metadata": {},
   "outputs": [],
   "source": [
    "fin = \"CVC_Sfront_Nfront.tiff\""
   ]
  },
  {
   "cell_type": "code",
   "execution_count": 3,
   "id": "c71c4d02",
   "metadata": {},
   "outputs": [],
   "source": [
    "din = \"/home/guido/R/cingle/figures/\"\n",
    "pin = din + fin"
   ]
  },
  {
   "cell_type": "code",
   "execution_count": 4,
   "id": "8ffffbae",
   "metadata": {},
   "outputs": [],
   "source": [
    "pout = din + 'with_head/' + fin"
   ]
  },
  {
   "cell_type": "code",
   "execution_count": 5,
   "id": "alert-budget",
   "metadata": {},
   "outputs": [],
   "source": [
    "l = fin.split('_')\n",
    "hs = 'head_' + l[1] + '_' + l[2]\n",
    "ph = '/media/guido/LACIE/Cingle_Guido/turtle_head_figures/Band/cropped/' + hs"
   ]
  },
  {
   "cell_type": "code",
   "execution_count": 6,
   "id": "98d0daad",
   "metadata": {},
   "outputs": [],
   "source": [
    "im1 = Image.open(pin)"
   ]
  },
  {
   "cell_type": "code",
   "execution_count": 7,
   "id": "7f6b1252",
   "metadata": {},
   "outputs": [],
   "source": [
    "im2 = Image.open(ph)"
   ]
  },
  {
   "cell_type": "code",
   "execution_count": 8,
   "id": "upper-lightning",
   "metadata": {},
   "outputs": [],
   "source": [
    "back_im = im1.copy()\n",
    "back_im.paste(im2, (1300, 1300))"
   ]
  },
  {
   "cell_type": "code",
   "execution_count": 9,
   "id": "adjacent-affairs",
   "metadata": {},
   "outputs": [],
   "source": [
    "back_im.show()"
   ]
  },
  {
   "cell_type": "code",
   "execution_count": 10,
   "id": "secret-boston",
   "metadata": {},
   "outputs": [],
   "source": [
    "back_im.save(pout, quality=95)"
   ]
  },
  {
   "cell_type": "code",
   "execution_count": 11,
   "id": "a1f9c2bc",
   "metadata": {},
   "outputs": [
    {
     "name": "stdout",
     "output_type": "stream",
     "text": [
      "Done!\n"
     ]
    }
   ],
   "source": [
    "print('Done!')"
   ]
  }
 ],
 "metadata": {
  "kernelspec": {
   "display_name": "Python 3 (ipykernel)",
   "language": "python",
   "name": "python3"
  },
  "language_info": {
   "codemirror_mode": {
    "name": "ipython",
    "version": 3
   },
   "file_extension": ".py",
   "mimetype": "text/x-python",
   "name": "python",
   "nbconvert_exporter": "python",
   "pygments_lexer": "ipython3",
   "version": "3.8.12"
  }
 },
 "nbformat": 4,
 "nbformat_minor": 5
}
