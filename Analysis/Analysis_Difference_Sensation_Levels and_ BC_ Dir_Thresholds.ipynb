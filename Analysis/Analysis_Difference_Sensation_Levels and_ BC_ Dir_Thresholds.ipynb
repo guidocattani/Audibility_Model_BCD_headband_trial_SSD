{
 "cells": [
  {
   "cell_type": "markdown",
   "metadata": {},
   "source": [
    "# Analysis of the relation between the sensation level difference (SL BC - SL AC) and the BC direct thresholds (linear regression)"
   ]
  },
  {
   "cell_type": "markdown",
   "metadata": {},
   "source": [
    "14-03-2021 Guido Cattani"
   ]
  },
  {
   "cell_type": "code",
   "execution_count": 1,
   "metadata": {},
   "outputs": [],
   "source": [
    "from pathlib import Path\n",
    "import pandas as pd\n",
    "import numpy as np\n",
    "import matplotlib\n",
    "import matplotlib.pyplot as plt\n",
    "import matplotlib.lines as mlines\n",
    "import matplotlib.patches as mpatches\n",
    "from scipy.stats import linregress as linregress"
   ]
  },
  {
   "cell_type": "code",
   "execution_count": 2,
   "metadata": {},
   "outputs": [],
   "source": [
    "# read difference sensation levels BC - AC simulated with a 65 dB ISDS input signal at BCD side (90 degree angle)\n",
    "def read_diff_sl():\n",
    "    f_in = '/media/guido/LACIE/Cingle_Guido/Master/Headband/Diff_SL.xlsx'\n",
    "    p_in = Path(f_in)   \n",
    "    df = pd.read_excel(p_in, engine='openpyxl', sheet_name='Diff_SL_65dB_90deg', header=0, nrows=85)\n",
    "    df = df.drop(['Unnamed: 0'], axis=1)\n",
    "    df = df.drop(columns='Study_ID')\n",
    "    df = df.fillna(pd.NA)\n",
    "    return df"
   ]
  },
  {
   "cell_type": "code",
   "execution_count": 3,
   "metadata": {},
   "outputs": [],
   "source": [
    "# read measured BC direct thresholds\n",
    "def read_BC_direct_thresholds():\n",
    "    f_in = '/media/guido/LACIE/Cingle_Guido/Master/Headband/BC_direct_thresholds.xlsx'\n",
    "    p_in = Path(f_in)   \n",
    "    df = pd.read_excel(p_in, engine='openpyxl', sheet_name=0, header=0, nrows=85)\n",
    "    df = df.drop(['Unnamed: 0'], axis=1)\n",
    "    df = df.drop(columns='Study_ID')\n",
    "    df = df.fillna(pd.NA)\n",
    "    return df"
   ]
  },
  {
   "cell_type": "code",
   "execution_count": 4,
   "metadata": {},
   "outputs": [],
   "source": [
    "def select_bp110(df):\n",
    "    # select BP110 data\n",
    "    is_bp110 =  df['Device']=='BP110'\n",
    "    df_bp110 = df[is_bp110]\n",
    "    df_bp110.pop('Device')\n",
    "    return(df_bp110)"
   ]
  },
  {
   "cell_type": "code",
   "execution_count": 5,
   "metadata": {},
   "outputs": [],
   "source": [
    "def select_bh5(df):\n",
    "    # select BAHA5P data\n",
    "    is_baha5p =  df['Device']=='BAHA5P'\n",
    "    df_baha5p = df[is_baha5p]\n",
    "    df_baha5p.pop('Device')\n",
    "    return(df_baha5p)"
   ]
  },
  {
   "cell_type": "code",
   "execution_count": 6,
   "metadata": {},
   "outputs": [
    {
     "data": {
      "text/html": [
       "<div>\n",
       "<style scoped>\n",
       "    .dataframe tbody tr th:only-of-type {\n",
       "        vertical-align: middle;\n",
       "    }\n",
       "\n",
       "    .dataframe tbody tr th {\n",
       "        vertical-align: top;\n",
       "    }\n",
       "\n",
       "    .dataframe thead th {\n",
       "        text-align: right;\n",
       "    }\n",
       "</style>\n",
       "<table border=\"1\" class=\"dataframe\">\n",
       "  <thead>\n",
       "    <tr style=\"text-align: right;\">\n",
       "      <th></th>\n",
       "      <th>Device</th>\n",
       "      <th>BCd_250</th>\n",
       "      <th>BCd_500</th>\n",
       "      <th>BCd_1000</th>\n",
       "      <th>BCd_1500</th>\n",
       "      <th>BCd_2000</th>\n",
       "      <th>BCd_3000</th>\n",
       "      <th>BCd_4000</th>\n",
       "    </tr>\n",
       "  </thead>\n",
       "  <tbody>\n",
       "    <tr>\n",
       "      <th>0</th>\n",
       "      <td>BP110</td>\n",
       "      <td>25.0</td>\n",
       "      <td>35.0</td>\n",
       "      <td>35</td>\n",
       "      <td>40.0</td>\n",
       "      <td>45</td>\n",
       "      <td>40.0</td>\n",
       "      <td>35.0</td>\n",
       "    </tr>\n",
       "    <tr>\n",
       "      <th>1</th>\n",
       "      <td>BP110</td>\n",
       "      <td>25.0</td>\n",
       "      <td>35.0</td>\n",
       "      <td>30</td>\n",
       "      <td>10.0</td>\n",
       "      <td>30</td>\n",
       "      <td>50.0</td>\n",
       "      <td>70.0</td>\n",
       "    </tr>\n",
       "    <tr>\n",
       "      <th>2</th>\n",
       "      <td>BP110</td>\n",
       "      <td>30.0</td>\n",
       "      <td>40.0</td>\n",
       "      <td>20</td>\n",
       "      <td>&lt;NA&gt;</td>\n",
       "      <td>25</td>\n",
       "      <td>45.0</td>\n",
       "      <td>70.0</td>\n",
       "    </tr>\n",
       "    <tr>\n",
       "      <th>3</th>\n",
       "      <td>BP110</td>\n",
       "      <td>20.0</td>\n",
       "      <td>20.0</td>\n",
       "      <td>20</td>\n",
       "      <td>&lt;NA&gt;</td>\n",
       "      <td>30</td>\n",
       "      <td>&lt;NA&gt;</td>\n",
       "      <td>40.0</td>\n",
       "    </tr>\n",
       "    <tr>\n",
       "      <th>4</th>\n",
       "      <td>BP110</td>\n",
       "      <td>15.0</td>\n",
       "      <td>10.0</td>\n",
       "      <td>10</td>\n",
       "      <td>&lt;NA&gt;</td>\n",
       "      <td>20</td>\n",
       "      <td>&lt;NA&gt;</td>\n",
       "      <td>25.0</td>\n",
       "    </tr>\n",
       "    <tr>\n",
       "      <th>...</th>\n",
       "      <td>...</td>\n",
       "      <td>...</td>\n",
       "      <td>...</td>\n",
       "      <td>...</td>\n",
       "      <td>...</td>\n",
       "      <td>...</td>\n",
       "      <td>...</td>\n",
       "      <td>...</td>\n",
       "    </tr>\n",
       "    <tr>\n",
       "      <th>80</th>\n",
       "      <td>BAHA5P</td>\n",
       "      <td>30.0</td>\n",
       "      <td>45.0</td>\n",
       "      <td>20</td>\n",
       "      <td>40.0</td>\n",
       "      <td>35</td>\n",
       "      <td>25.0</td>\n",
       "      <td>45.0</td>\n",
       "    </tr>\n",
       "    <tr>\n",
       "      <th>81</th>\n",
       "      <td>BAHA5P</td>\n",
       "      <td>20.0</td>\n",
       "      <td>40.0</td>\n",
       "      <td>30</td>\n",
       "      <td>30.0</td>\n",
       "      <td>25</td>\n",
       "      <td>35.0</td>\n",
       "      <td>45.0</td>\n",
       "    </tr>\n",
       "    <tr>\n",
       "      <th>82</th>\n",
       "      <td>BAHA5P</td>\n",
       "      <td>25.0</td>\n",
       "      <td>25.0</td>\n",
       "      <td>25</td>\n",
       "      <td>5.0</td>\n",
       "      <td>15</td>\n",
       "      <td>35.0</td>\n",
       "      <td>50.0</td>\n",
       "    </tr>\n",
       "    <tr>\n",
       "      <th>83</th>\n",
       "      <td>BAHA5P</td>\n",
       "      <td>30.0</td>\n",
       "      <td>45.0</td>\n",
       "      <td>20</td>\n",
       "      <td>35.0</td>\n",
       "      <td>50</td>\n",
       "      <td>65.0</td>\n",
       "      <td>60.0</td>\n",
       "    </tr>\n",
       "    <tr>\n",
       "      <th>84</th>\n",
       "      <td>BAHA5P</td>\n",
       "      <td>30.0</td>\n",
       "      <td>35.0</td>\n",
       "      <td>30</td>\n",
       "      <td>35.0</td>\n",
       "      <td>30</td>\n",
       "      <td>15.0</td>\n",
       "      <td>35.0</td>\n",
       "    </tr>\n",
       "  </tbody>\n",
       "</table>\n",
       "<p>85 rows × 8 columns</p>\n",
       "</div>"
      ],
      "text/plain": [
       "    Device BCd_250 BCd_500  BCd_1000 BCd_1500  BCd_2000 BCd_3000 BCd_4000\n",
       "0    BP110    25.0    35.0        35     40.0        45     40.0     35.0\n",
       "1    BP110    25.0    35.0        30     10.0        30     50.0     70.0\n",
       "2    BP110    30.0    40.0        20     <NA>        25     45.0     70.0\n",
       "3    BP110    20.0    20.0        20     <NA>        30     <NA>     40.0\n",
       "4    BP110    15.0    10.0        10     <NA>        20     <NA>     25.0\n",
       "..     ...     ...     ...       ...      ...       ...      ...      ...\n",
       "80  BAHA5P    30.0    45.0        20     40.0        35     25.0     45.0\n",
       "81  BAHA5P    20.0    40.0        30     30.0        25     35.0     45.0\n",
       "82  BAHA5P    25.0    25.0        25      5.0        15     35.0     50.0\n",
       "83  BAHA5P    30.0    45.0        20     35.0        50     65.0     60.0\n",
       "84  BAHA5P    30.0    35.0        30     35.0        30     15.0     35.0\n",
       "\n",
       "[85 rows x 8 columns]"
      ]
     },
     "execution_count": 6,
     "metadata": {},
     "output_type": "execute_result"
    }
   ],
   "source": [
    "read_BC_direct_thresholds()"
   ]
  },
  {
   "cell_type": "code",
   "execution_count": 7,
   "metadata": {},
   "outputs": [
    {
     "data": {
      "text/html": [
       "<div>\n",
       "<style scoped>\n",
       "    .dataframe tbody tr th:only-of-type {\n",
       "        vertical-align: middle;\n",
       "    }\n",
       "\n",
       "    .dataframe tbody tr th {\n",
       "        vertical-align: top;\n",
       "    }\n",
       "\n",
       "    .dataframe thead th {\n",
       "        text-align: right;\n",
       "    }\n",
       "</style>\n",
       "<table border=\"1\" class=\"dataframe\">\n",
       "  <thead>\n",
       "    <tr style=\"text-align: right;\">\n",
       "      <th></th>\n",
       "      <th>Device</th>\n",
       "      <th>BCd_1000</th>\n",
       "      <th>BCd_2000</th>\n",
       "      <th>BCd_4000</th>\n",
       "      <th>1000_Hz</th>\n",
       "      <th>2000_Hz</th>\n",
       "      <th>4000_Hz</th>\n",
       "    </tr>\n",
       "  </thead>\n",
       "  <tbody>\n",
       "    <tr>\n",
       "      <th>0</th>\n",
       "      <td>BP110</td>\n",
       "      <td>35</td>\n",
       "      <td>45</td>\n",
       "      <td>35.0</td>\n",
       "      <td>-18</td>\n",
       "      <td>-28</td>\n",
       "      <td>-32.0</td>\n",
       "    </tr>\n",
       "    <tr>\n",
       "      <th>1</th>\n",
       "      <td>BP110</td>\n",
       "      <td>30</td>\n",
       "      <td>30</td>\n",
       "      <td>70.0</td>\n",
       "      <td>-12</td>\n",
       "      <td>-4</td>\n",
       "      <td>-6.0</td>\n",
       "    </tr>\n",
       "    <tr>\n",
       "      <th>2</th>\n",
       "      <td>BP110</td>\n",
       "      <td>20</td>\n",
       "      <td>25</td>\n",
       "      <td>70.0</td>\n",
       "      <td>4</td>\n",
       "      <td>-7</td>\n",
       "      <td>-36.0</td>\n",
       "    </tr>\n",
       "    <tr>\n",
       "      <th>3</th>\n",
       "      <td>BP110</td>\n",
       "      <td>20</td>\n",
       "      <td>30</td>\n",
       "      <td>40.0</td>\n",
       "      <td>-9</td>\n",
       "      <td>-1</td>\n",
       "      <td>2.0</td>\n",
       "    </tr>\n",
       "    <tr>\n",
       "      <th>4</th>\n",
       "      <td>BP110</td>\n",
       "      <td>10</td>\n",
       "      <td>20</td>\n",
       "      <td>25.0</td>\n",
       "      <td>3</td>\n",
       "      <td>-8</td>\n",
       "      <td>-7.0</td>\n",
       "    </tr>\n",
       "  </tbody>\n",
       "</table>\n",
       "</div>"
      ],
      "text/plain": [
       "  Device  BCd_1000  BCd_2000 BCd_4000  1000_Hz  2000_Hz 4000_Hz\n",
       "0  BP110        35        45     35.0      -18      -28   -32.0\n",
       "1  BP110        30        30     70.0      -12       -4    -6.0\n",
       "2  BP110        20        25     70.0        4       -7   -36.0\n",
       "3  BP110        20        30     40.0       -9       -1     2.0\n",
       "4  BP110        10        20     25.0        3       -8    -7.0"
      ]
     },
     "execution_count": 7,
     "metadata": {},
     "output_type": "execute_result"
    }
   ],
   "source": [
    "bct = read_BC_direct_thresholds()\n",
    "dsl = read_diff_sl()\n",
    "bct1 = bct[['Device', 'BCd_1000', 'BCd_2000', 'BCd_4000']].copy()\n",
    "dsl1 = dsl[['1000_Hz', '2000_Hz', '4000_Hz']].copy()\n",
    "combi = pd.concat([bct1, dsl1], axis=1)\n",
    "combi = combi.dropna()\n",
    "combi.head()"
   ]
  },
  {
   "cell_type": "code",
   "execution_count": 8,
   "metadata": {},
   "outputs": [
    {
     "data": {
      "text/html": [
       "<div>\n",
       "<style scoped>\n",
       "    .dataframe tbody tr th:only-of-type {\n",
       "        vertical-align: middle;\n",
       "    }\n",
       "\n",
       "    .dataframe tbody tr th {\n",
       "        vertical-align: top;\n",
       "    }\n",
       "\n",
       "    .dataframe thead th {\n",
       "        text-align: right;\n",
       "    }\n",
       "</style>\n",
       "<table border=\"1\" class=\"dataframe\">\n",
       "  <thead>\n",
       "    <tr style=\"text-align: right;\">\n",
       "      <th></th>\n",
       "      <th>BCd_1000</th>\n",
       "      <th>BCd_2000</th>\n",
       "      <th>BCd_4000</th>\n",
       "      <th>1000_Hz</th>\n",
       "      <th>2000_Hz</th>\n",
       "      <th>4000_Hz</th>\n",
       "    </tr>\n",
       "  </thead>\n",
       "  <tbody>\n",
       "    <tr>\n",
       "      <th>20</th>\n",
       "      <td>20</td>\n",
       "      <td>30</td>\n",
       "      <td>35.0</td>\n",
       "      <td>-13</td>\n",
       "      <td>-4</td>\n",
       "      <td>0.0</td>\n",
       "    </tr>\n",
       "    <tr>\n",
       "      <th>37</th>\n",
       "      <td>45</td>\n",
       "      <td>15</td>\n",
       "      <td>35.0</td>\n",
       "      <td>-17</td>\n",
       "      <td>3</td>\n",
       "      <td>-20.0</td>\n",
       "    </tr>\n",
       "    <tr>\n",
       "      <th>47</th>\n",
       "      <td>20</td>\n",
       "      <td>30</td>\n",
       "      <td>25.0</td>\n",
       "      <td>-13</td>\n",
       "      <td>-9</td>\n",
       "      <td>-17.0</td>\n",
       "    </tr>\n",
       "    <tr>\n",
       "      <th>51</th>\n",
       "      <td>15</td>\n",
       "      <td>30</td>\n",
       "      <td>30.0</td>\n",
       "      <td>0</td>\n",
       "      <td>-9</td>\n",
       "      <td>-7.0</td>\n",
       "    </tr>\n",
       "    <tr>\n",
       "      <th>53</th>\n",
       "      <td>20</td>\n",
       "      <td>35</td>\n",
       "      <td>50.0</td>\n",
       "      <td>-9</td>\n",
       "      <td>-9</td>\n",
       "      <td>-5.0</td>\n",
       "    </tr>\n",
       "  </tbody>\n",
       "</table>\n",
       "</div>"
      ],
      "text/plain": [
       "    BCd_1000  BCd_2000 BCd_4000  1000_Hz  2000_Hz 4000_Hz\n",
       "20        20        30     35.0      -13       -4     0.0\n",
       "37        45        15     35.0      -17        3   -20.0\n",
       "47        20        30     25.0      -13       -9   -17.0\n",
       "51        15        30     30.0        0       -9    -7.0\n",
       "53        20        35     50.0       -9       -9    -5.0"
      ]
     },
     "execution_count": 8,
     "metadata": {},
     "output_type": "execute_result"
    }
   ],
   "source": [
    "combi_bh5 = select_bh5(combi)\n",
    "combi_bp110 = select_bp110(combi)\n",
    "combi_bh5.head()"
   ]
  },
  {
   "cell_type": "code",
   "execution_count": 9,
   "metadata": {},
   "outputs": [
    {
     "name": "stdout",
     "output_type": "stream",
     "text": [
      "1 kHz LinregressResult(slope=-0.5672327129466105, intercept=4.817823665262871, rvalue=-0.5172168592408936, pvalue=4.7168204555163794e-07, stderr=0.10365292165925495, intercept_stderr=2.7661979723777543)\n",
      "2 kHz LinregressResult(slope=-0.5896712851976759, intercept=9.874690179188166, rvalue=-0.5909245260843662, pvalue=3.2702973533051686e-09, stderr=0.08889913753556963, intercept_stderr=2.940062621090559)\n",
      "4 kHz LinregressResult(slope=-0.10352957575057034, intercept=-5.6759875298749245, rvalue=-0.11075447672842607, pvalue=0.3158794714652174, stderr=0.10259261469534696, intercept_stderr=4.496274996797567)\n"
     ]
    }
   ],
   "source": [
    "for i in range(1, 4):\n",
    "    bcdt = (combi.iloc[:,i]).to_numpy(dtype='float')\n",
    "    dsl = (combi.iloc[:,i+3]).to_numpy(dtype='float')\n",
    "    lrgrs = linregress(bcdt, dsl)\n",
    "    print(2**(i-1),'kHz', lrgrs)"
   ]
  },
  {
   "cell_type": "code",
   "execution_count": 10,
   "metadata": {},
   "outputs": [
    {
     "name": "stdout",
     "output_type": "stream",
     "text": [
      "1 kHz LinregressResult(slope=-0.6188358842587421, intercept=9.793207462853314, rvalue=-0.6485940580525047, pvalue=6.190847586083582e-07, stderr=0.10707424555275978, intercept_stderr=2.929292858105807)\n",
      "2 kHz LinregressResult(slope=-0.6336223143611006, intercept=9.39489885664028, rvalue=-0.6215806819979396, pvalue=2.41711348705736e-06, stderr=0.11773618771273169, intercept_stderr=4.01516795390499)\n",
      "4 kHz LinregressResult(slope=-0.0711080187858758, intercept=-9.283469588914013, rvalue=-0.07806201588351044, pvalue=0.5979302134200449, stderr=0.1338975488219846, intercept_stderr=6.177664678250256)\n"
     ]
    }
   ],
   "source": [
    "for i in range(3):\n",
    "    bcdt_bp110 = (combi_bp110.iloc[:,i]).to_numpy(dtype='float')\n",
    "    dsl_bp110 = (combi_bp110.iloc[:,i+3]).to_numpy(dtype='float')\n",
    "    lrgrs = linregress(bcdt_bp110, dsl_bp110)\n",
    "    print(2**i,'kHz', lrgrs)"
   ]
  },
  {
   "cell_type": "code",
   "execution_count": 11,
   "metadata": {},
   "outputs": [
    {
     "name": "stdout",
     "output_type": "stream",
     "text": [
      "1 kHz LinregressResult(slope=-0.5143484626647145, intercept=-1.3674963396778939, rvalue=-0.4654542088220822, pvalue=0.004228068769034862, stderr=0.16773342279481795, intercept_stderr=4.321826314145049)\n",
      "2 kHz LinregressResult(slope=-0.4531449407474931, intercept=8.303555150410208, rvalue=-0.5272609035678524, pvalue=0.0009524589412180307, stderr=0.12523896938186518, intercept_stderr=3.963153276813157)\n",
      "4 kHz LinregressResult(slope=-0.04983454461110251, intercept=-4.863392608628422, rvalue=-0.051918768901124165, pvalue=0.7636267627503851, stderr=0.16439194209486988, intercept_stderr=6.664635321800784)\n"
     ]
    }
   ],
   "source": [
    "for i in range(3):\n",
    "    bcdt_bh5 = (combi_bh5.iloc[:,i]).to_numpy(dtype='float')\n",
    "    dsl_bh5 = (combi_bh5.iloc[:,i+3]).to_numpy(dtype='float')\n",
    "    lrgrs = linregress(bcdt_bh5, dsl_bh5)\n",
    "    print(2**i,'kHz', lrgrs)"
   ]
  },
  {
   "cell_type": "code",
   "execution_count": 12,
   "metadata": {},
   "outputs": [
    {
     "name": "stdout",
     "output_type": "stream",
     "text": [
      "r square 1 kHz =0.22\n"
     ]
    }
   ],
   "source": [
    "bcdt_1k_bh5 = combi_bh5.iloc[:,0].to_numpy(dtype='float')\n",
    "dsl_1k_bh5 = (combi_bh5.iloc[:,3]).to_numpy(dtype='float')\n",
    "lrgrs_1k_bh5 = linregress(bcdt_1k_bh5, dsl_1k_bh5)\n",
    "r2_1k_bh5 = (lrgrs_1k_bh5[2])**2\n",
    "r2_1k_bh5 = round(r2_1k_bh5, 2)\n",
    "s_1k = 'r square 1 kHz =' + str(r2_1k_bh5)\n",
    "print(s_1k)"
   ]
  },
  {
   "cell_type": "code",
   "execution_count": 13,
   "metadata": {},
   "outputs": [
    {
     "data": {
      "image/png": "[encoded data removed]",
      "text/plain": [
       "<Figure size 432x288 with 1 Axes>"
      ]
     },
     "metadata": {
      "needs_background": "light"
     },
     "output_type": "display_data"
    }
   ],
   "source": [
    "plt.scatter(bcdt_1k_bh5, dsl_1k_bh5, c='black')\n",
    "plt.title(\"Relation BC direct thresholds and diff SL at 1 kHz for BAHA5P\")\n",
    "plt.xlabel(\"BC direct thresholds at 1 kHz [dB HL]\")\n",
    "plt.ylabel(\"Diff. SL BC-AC at 1 kHz [dB]\")\n",
    "slope = lrgrs_1k_bh5[0]\n",
    "intercept = lrgrs_1k_bh5[1]\n",
    "plt.plot(bcdt_1k_bh5, slope*bcdt_1k_bh5 + intercept, color='grey')\n",
    "plt.text(32, -23, s_1k)\n",
    "plt.show()"
   ]
  },
  {
   "cell_type": "code",
   "execution_count": 14,
   "metadata": {},
   "outputs": [
    {
     "name": "stdout",
     "output_type": "stream",
     "text": [
      "r square 2 kHz =0.28\n"
     ]
    }
   ],
   "source": [
    "bcdt_2k_bh5 = combi_bh5.iloc[:,1].to_numpy(dtype='float')\n",
    "dsl_2k_bh5 = (combi_bh5.iloc[:,4]).to_numpy(dtype='float')\n",
    "lrgrs_2k_bh5 = linregress(bcdt_2k_bh5, dsl_2k_bh5)\n",
    "r2_2k_bh5= (lrgrs_2k_bh5[2])**2\n",
    "r2_2k_bh5 = round(r2_2k_bh5, 2)\n",
    "s_2k = 'r square 2 kHz =' + str(r2_2k_bh5)\n",
    "print(s_2k)"
   ]
  },
  {
   "cell_type": "code",
   "execution_count": 15,
   "metadata": {},
   "outputs": [
    {
     "data": {
      "image/png": "[encoded data removed]",
      "text/plain": [
       "<Figure size 432x288 with 1 Axes>"
      ]
     },
     "metadata": {
      "needs_background": "light"
     },
     "output_type": "display_data"
    }
   ],
   "source": [
    "plt.scatter(bcdt_2k_bh5, dsl_2k_bh5, c='black')\n",
    "plt.title(\"Relation BC direct thresholds and diff SL at 2 kHz for BAHA5P\")\n",
    "plt.xlabel(\"BC direct thresholds at 2 kHz [dB HL]\")\n",
    "plt.ylabel(\"Diff. SL BC-AC at 2 kHz [dB]\")\n",
    "slope = lrgrs_2k_bh5[0]\n",
    "intercept = lrgrs_2k_bh5[1]\n",
    "plt.plot(bcdt_2k_bh5, slope*bcdt_2k_bh5 + intercept, color='grey')\n",
    "plt.text(30, 4, s_2k)\n",
    "plt.show()"
   ]
  },
  {
   "cell_type": "code",
   "execution_count": 16,
   "metadata": {},
   "outputs": [
    {
     "name": "stdout",
     "output_type": "stream",
     "text": [
      "r square 4 kHz =0.0\n"
     ]
    }
   ],
   "source": [
    "bcdt_4k_bh5 = combi_bh5.iloc[:,2].to_numpy(dtype='float')\n",
    "dsl_4k_bh5 = (combi_bh5.iloc[:,5]).to_numpy(dtype='float')\n",
    "lrgrs_4k_bh5 = linregress(bcdt_4k_bh5, dsl_4k_bh5)\n",
    "r2_4k_bh5= (lrgrs_4k_bh5[2])**2\n",
    "r2_4k_bh5 = round(r2_4k_bh5, 2)\n",
    "s_4k = 'r square 4 kHz =' + str(r2_4k_bh5)\n",
    "print(s_4k)"
   ]
  },
  {
   "cell_type": "code",
   "execution_count": 17,
   "metadata": {},
   "outputs": [
    {
     "data": {
      "image/png": "[encoded data removed]",
      "text/plain": [
       "<Figure size 432x288 with 1 Axes>"
      ]
     },
     "metadata": {
      "needs_background": "light"
     },
     "output_type": "display_data"
    }
   ],
   "source": [
    "plt.scatter(bcdt_4k_bh5, dsl_4k_bh5, c='black')\n",
    "plt.title(\"Relation BC direct thresholds and diff SL at 4 kHz for BAHA5P\")\n",
    "plt.xlabel(\"BC direct thresholds at 4 kHz [dB HL]\")\n",
    "plt.ylabel(\"Diff. SL BC-AC at 4 kHz [dB]\")\n",
    "slope = lrgrs_4k_bh5[0]\n",
    "intercept = lrgrs_4k_bh5[1]\n",
    "plt.plot(bcdt_4k_bh5, slope*bcdt_4k_bh5 + intercept, color='grey')\n",
    "plt.text(40, 0, s_4k)\n",
    "plt.show()"
   ]
  }
 ],
 "metadata": {
  "kernelspec": {
   "display_name": "Python 3 (ipykernel)",
   "language": "python",
   "name": "python3"
  },
  "language_info": {
   "codemirror_mode": {
    "name": "ipython",
    "version": 3
   },
   "file_extension": ".py",
   "mimetype": "text/x-python",
   "name": "python",
   "nbconvert_exporter": "python",
   "pygments_lexer": "ipython3",
   "version": "3.8.12"
  }
 },
 "nbformat": 4,
 "nbformat_minor": 4
}
