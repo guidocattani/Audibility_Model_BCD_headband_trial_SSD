{
 "cells": [
  {
   "cell_type": "markdown",
   "metadata": {},
   "source": [
    "# Analysis of cases with missing data (in the BP110 group)"
   ]
  },
  {
   "cell_type": "markdown",
   "metadata": {},
   "source": [
    "analysis of characteristics of the lost data population vs. the complete data population in BP110 group"
   ]
  },
  {
   "cell_type": "markdown",
   "metadata": {},
   "source": [
    "1 March 2021 Guido Cattani"
   ]
  },
  {
   "cell_type": "code",
   "execution_count": 1,
   "metadata": {},
   "outputs": [],
   "source": [
    "from pathlib import Path\n",
    "import numpy as np\n",
    "import pandas as pd"
   ]
  },
  {
   "cell_type": "code",
   "execution_count": 2,
   "metadata": {},
   "outputs": [],
   "source": [
    "import matplotlib\n",
    "import matplotlib.pyplot as plt\n",
    "import seaborn as sns"
   ]
  },
  {
   "cell_type": "code",
   "execution_count": 3,
   "metadata": {},
   "outputs": [],
   "source": [
    "from scipy.stats import mannwhitneyu as mannwhitneyu"
   ]
  },
  {
   "cell_type": "code",
   "execution_count": 4,
   "metadata": {},
   "outputs": [],
   "source": [
    "def read_BC_thresholds():\n",
    "    # function to read threshold in dB FL\n",
    "    f_in = '/media/guido/LACIE/Cingle_Guido/Master/BC_direct_thresholds.xlsx'\n",
    "    p_in = Path(f_in)   \n",
    "    df = pd.read_excel(p_in, header=0, nrows=85)\n",
    "    df = df.drop(['Unnamed: 0'], axis=1)\n",
    "    df = df.fillna(pd.NA)\n",
    "    df.set_index('Study_ID', drop=True, append=False, inplace=True, verify_integrity=True)\n",
    "    df = select_bp110(df)\n",
    "    return df"
   ]
  },
  {
   "cell_type": "code",
   "execution_count": 5,
   "metadata": {},
   "outputs": [],
   "source": [
    "def read_AC_thresholds():\n",
    "    # function to read threshold in dB SPL op de eardrum\n",
    "    f_in = '/media/guido/LACIE/Cingle_Guido/Master/AC_thresholds.xlsx'\n",
    "    p_in = Path(f_in)   \n",
    "    df = pd.read_excel(p_in, header=0, nrows=85)\n",
    "    df = df.drop(['Unnamed: 0'], axis=1)\n",
    "    df = df.fillna(pd.NA)\n",
    "    df.set_index('Study_ID', drop=True, append=False, inplace=True, verify_integrity=True)\n",
    "    df = select_bp110(df)\n",
    "    return df"
   ]
  },
  {
   "cell_type": "code",
   "execution_count": 6,
   "metadata": {},
   "outputs": [],
   "source": [
    "def read_BCD_output_65():\n",
    "    # function to read threshold in dB FL\n",
    "    f_in = '/media/guido/LACIE/Cingle_Guido/Master/BCD_band_output.xlsx'\n",
    "    p_in = Path(f_in)   \n",
    "    df = pd.read_excel(p_in, sheet_name='BCD_output_65', header=0, nrows=85)\n",
    "    df = df.drop(['Unnamed: 0'], axis=1)\n",
    "    df = df.fillna(pd.NA)\n",
    "    df.set_index('Study_ID', drop=True, append=False, inplace=True, verify_integrity=True)\n",
    "    df = select_bp110(df)\n",
    "    return df"
   ]
  },
  {
   "cell_type": "code",
   "execution_count": 7,
   "metadata": {},
   "outputs": [],
   "source": [
    "def read_BCD_output_55():\n",
    "    # function to read threshold in dB FL\n",
    "    f_in = '/media/guido/LACIE/Cingle_Guido/Master/BCD_band_output.xlsx'\n",
    "    p_in = Path(f_in)   \n",
    "    df = pd.read_excel(p_in, sheet_name='BCD_output_55', header=0, nrows=85)\n",
    "    df = df.drop(['Unnamed: 0'], axis=1)\n",
    "    df = df.fillna(pd.NA)\n",
    "    df.set_index('Study_ID', drop=True, append=False, inplace=True, verify_integrity=True)\n",
    "    df = select_bp110(df)\n",
    "    return df"
   ]
  },
  {
   "cell_type": "code",
   "execution_count": 8,
   "metadata": {},
   "outputs": [],
   "source": [
    "def select_bp110(df):\n",
    "    # select BP110 data\n",
    "    is_bp110 =  df['Device']=='BP110'\n",
    "    df_bp110 = df[is_bp110]\n",
    "    df_bp110.pop('Device')\n",
    "    return(df_bp110)"
   ]
  },
  {
   "cell_type": "code",
   "execution_count": 9,
   "metadata": {},
   "outputs": [],
   "source": [
    "def warning_loss(df):\n",
    "    bs = df.notna().all(axis=1)\n",
    "    t = bs.sum()\n",
    "    if t == len(bs): print('Fine: these data are complete')\n",
    "    else: print ('Attention: loss of data!!!')"
   ]
  },
  {
   "cell_type": "code",
   "execution_count": 10,
   "metadata": {},
   "outputs": [],
   "source": [
    "def idx_loss():\n",
    "    df = read_BC_thresholds()\n",
    "    lost = df[df.isna().any(axis=1)]\n",
    "    return lost.index"
   ]
  },
  {
   "cell_type": "code",
   "execution_count": 11,
   "metadata": {},
   "outputs": [],
   "source": [
    "def idx_complete():\n",
    "    df = read_BC_thresholds()\n",
    "    complete = df[df.notna().all(axis=1)]\n",
    "    return complete.index"
   ]
  },
  {
   "cell_type": "code",
   "execution_count": 12,
   "metadata": {},
   "outputs": [],
   "source": [
    "def split_dataframe(df):\n",
    "    df_lost = df.loc[idx_loss(),]\n",
    "    df_complete = df.loc[idx_complete(),]\n",
    "    return (df_lost, df_complete)"
   ]
  },
  {
   "cell_type": "code",
   "execution_count": 13,
   "metadata": {},
   "outputs": [],
   "source": [
    "def mwu_test(df1,df2):\n",
    "    # compare distribution with Mann Whitney U test\n",
    "\n",
    "    mwu = dict()\n",
    "    f = df1.columns.values.tolist()\n",
    "\n",
    "    for i in range(len(f)):\n",
    "        a = df1.iloc[:, i]\n",
    "        b = df2.iloc[:, i]\n",
    "        u_statistic, pVal = mannwhitneyu(a , b, use_continuity=False, alternative='two-sided') # scipy.stats mannwhitneyu test\n",
    "        pVal = round(pVal, 3)\n",
    "        st = {f[i]: [u_statistic, pVal]}\n",
    "        mwu.update(st)\n",
    "\n",
    "    u_test = pd.DataFrame.from_dict(mwu, dtype='float')\n",
    "    diu =  {0: 'Mann-Whitney U statistic', 1: 'p-value (two-sided)'}\n",
    "    u_test = u_test.rename(index=diu)\n",
    "    return u_test"
   ]
  },
  {
   "cell_type": "code",
   "execution_count": 14,
   "metadata": {},
   "outputs": [],
   "source": [
    "def bct_mwu():  \n",
    "    # compare distribution with Mann Whitney U test for the BC direct thresholds\n",
    "    mwu = dict()\n",
    "    bct_lost, bct_complete = split_dataframe(bct)\n",
    "    f = bct_lost.columns.values.tolist()\n",
    "\n",
    "    for i in range(len(f)):\n",
    "        a = bct_lost.iloc[:, i]\n",
    "        a.dropna(inplace=True)\n",
    "        b = bct_complete.iloc[:, i]\n",
    "        u_statistic, pVal = mannwhitneyu(a , b, use_continuity=False, alternative='two-sided') # scipy.stats mannwhitneyu test\n",
    "        pVal = round(pVal, 3)\n",
    "        st = {f[i]: [u_statistic, pVal]}\n",
    "        mwu.update(st)\n",
    "\n",
    "    u_test = pd.DataFrame.from_dict(mwu, dtype='float')\n",
    "    diu =  {0: 'Mann-Whitney U statistic', 1: 'p-value (two-sided)'}\n",
    "    u_test = u_test.rename(index=diu)\n",
    "    return u_test"
   ]
  },
  {
   "cell_type": "code",
   "execution_count": 15,
   "metadata": {},
   "outputs": [
    {
     "data": {
      "text/plain": [
       "35"
      ]
     },
     "execution_count": 15,
     "metadata": {},
     "output_type": "execute_result"
    }
   ],
   "source": [
    "# number of subjects in BP110 group with complete BC direct thresholds data\n",
    "len(idx_complete()) "
   ]
  },
  {
   "cell_type": "code",
   "execution_count": 16,
   "metadata": {},
   "outputs": [
    {
     "data": {
      "text/plain": [
       "14"
      ]
     },
     "execution_count": 16,
     "metadata": {},
     "output_type": "execute_result"
    }
   ],
   "source": [
    "# number of subjects in BP110 group with incomplete BC direct thresholds data\n",
    "len(idx_loss()) "
   ]
  },
  {
   "cell_type": "markdown",
   "metadata": {},
   "source": [
    "BC direct thresholds"
   ]
  },
  {
   "cell_type": "code",
   "execution_count": 17,
   "metadata": {},
   "outputs": [
    {
     "name": "stdout",
     "output_type": "stream",
     "text": [
      "Attention: loss of data!!!\n"
     ]
    }
   ],
   "source": [
    "bct = read_BC_thresholds() # bc direct thresholds data\n",
    "warning_loss(bct)"
   ]
  },
  {
   "cell_type": "code",
   "execution_count": 18,
   "metadata": {},
   "outputs": [
    {
     "data": {
      "text/html": [
       "<div>\n",
       "<style scoped>\n",
       "    .dataframe tbody tr th:only-of-type {\n",
       "        vertical-align: middle;\n",
       "    }\n",
       "\n",
       "    .dataframe tbody tr th {\n",
       "        vertical-align: top;\n",
       "    }\n",
       "\n",
       "    .dataframe thead th {\n",
       "        text-align: right;\n",
       "    }\n",
       "</style>\n",
       "<table border=\"1\" class=\"dataframe\">\n",
       "  <thead>\n",
       "    <tr style=\"text-align: right;\">\n",
       "      <th></th>\n",
       "      <th>BCd_250</th>\n",
       "      <th>BCd_500</th>\n",
       "      <th>BCd_1000</th>\n",
       "      <th>BCd_1500</th>\n",
       "      <th>BCd_2000</th>\n",
       "      <th>BCd_3000</th>\n",
       "      <th>BCd_4000</th>\n",
       "    </tr>\n",
       "  </thead>\n",
       "  <tbody>\n",
       "    <tr>\n",
       "      <th>Mann-Whitney U statistic</th>\n",
       "      <td>186.000</td>\n",
       "      <td>189.000</td>\n",
       "      <td>223.000</td>\n",
       "      <td>102.000</td>\n",
       "      <td>208.500</td>\n",
       "      <td>162.000</td>\n",
       "      <td>241.500</td>\n",
       "    </tr>\n",
       "    <tr>\n",
       "      <th>p-value (two-sided)</th>\n",
       "      <td>0.323</td>\n",
       "      <td>0.363</td>\n",
       "      <td>0.621</td>\n",
       "      <td>0.134</td>\n",
       "      <td>0.412</td>\n",
       "      <td>0.895</td>\n",
       "      <td>0.743</td>\n",
       "    </tr>\n",
       "  </tbody>\n",
       "</table>\n",
       "</div>"
      ],
      "text/plain": [
       "                          BCd_250  BCd_500  BCd_1000  BCd_1500  BCd_2000  \\\n",
       "Mann-Whitney U statistic  186.000  189.000   223.000   102.000   208.500   \n",
       "p-value (two-sided)         0.323    0.363     0.621     0.134     0.412   \n",
       "\n",
       "                          BCd_3000  BCd_4000  \n",
       "Mann-Whitney U statistic   162.000   241.500  \n",
       "p-value (two-sided)          0.895     0.743  "
      ]
     },
     "execution_count": 18,
     "metadata": {},
     "output_type": "execute_result"
    }
   ],
   "source": [
    "bct_mwu()"
   ]
  },
  {
   "cell_type": "markdown",
   "metadata": {},
   "source": [
    "AC thresholds"
   ]
  },
  {
   "cell_type": "code",
   "execution_count": 19,
   "metadata": {},
   "outputs": [
    {
     "name": "stdout",
     "output_type": "stream",
     "text": [
      "Fine: these data are complete\n"
     ]
    }
   ],
   "source": [
    "act = read_AC_thresholds()\n",
    "warning_loss(act)"
   ]
  },
  {
   "cell_type": "code",
   "execution_count": 20,
   "metadata": {},
   "outputs": [
    {
     "data": {
      "text/html": [
       "<div>\n",
       "<style scoped>\n",
       "    .dataframe tbody tr th:only-of-type {\n",
       "        vertical-align: middle;\n",
       "    }\n",
       "\n",
       "    .dataframe tbody tr th {\n",
       "        vertical-align: top;\n",
       "    }\n",
       "\n",
       "    .dataframe thead th {\n",
       "        text-align: right;\n",
       "    }\n",
       "</style>\n",
       "<table border=\"1\" class=\"dataframe\">\n",
       "  <thead>\n",
       "    <tr style=\"text-align: right;\">\n",
       "      <th></th>\n",
       "      <th>AC_125</th>\n",
       "      <th>AC_250</th>\n",
       "      <th>AC_500</th>\n",
       "      <th>AC_1000</th>\n",
       "      <th>AC_2000</th>\n",
       "      <th>AC_4000</th>\n",
       "      <th>AC_8000</th>\n",
       "    </tr>\n",
       "  </thead>\n",
       "  <tbody>\n",
       "    <tr>\n",
       "      <th>Mann-Whitney U statistic</th>\n",
       "      <td>250.000</td>\n",
       "      <td>260.500</td>\n",
       "      <td>246.500</td>\n",
       "      <td>243.500</td>\n",
       "      <td>240.500</td>\n",
       "      <td>301.500</td>\n",
       "      <td>257.00</td>\n",
       "    </tr>\n",
       "    <tr>\n",
       "      <th>p-value (two-sided)</th>\n",
       "      <td>0.908</td>\n",
       "      <td>0.726</td>\n",
       "      <td>0.973</td>\n",
       "      <td>0.973</td>\n",
       "      <td>0.919</td>\n",
       "      <td>0.209</td>\n",
       "      <td>0.79</td>\n",
       "    </tr>\n",
       "  </tbody>\n",
       "</table>\n",
       "</div>"
      ],
      "text/plain": [
       "                           AC_125   AC_250   AC_500  AC_1000  AC_2000  \\\n",
       "Mann-Whitney U statistic  250.000  260.500  246.500  243.500  240.500   \n",
       "p-value (two-sided)         0.908    0.726    0.973    0.973    0.919   \n",
       "\n",
       "                          AC_4000  AC_8000  \n",
       "Mann-Whitney U statistic  301.500   257.00  \n",
       "p-value (two-sided)         0.209     0.79  "
      ]
     },
     "execution_count": 20,
     "metadata": {},
     "output_type": "execute_result"
    }
   ],
   "source": [
    "act_lost, act_complete = split_dataframe(act)\n",
    "mwu_test(act_lost, act_complete)"
   ]
  },
  {
   "cell_type": "markdown",
   "metadata": {},
   "source": [
    "BCD output for input 65 dB (ISTS)"
   ]
  },
  {
   "cell_type": "code",
   "execution_count": 21,
   "metadata": {},
   "outputs": [
    {
     "name": "stdout",
     "output_type": "stream",
     "text": [
      "Fine: these data are complete\n"
     ]
    }
   ],
   "source": [
    "out65 = read_BCD_output_65()\n",
    "warning_loss(out65)"
   ]
  },
  {
   "cell_type": "code",
   "execution_count": 22,
   "metadata": {},
   "outputs": [
    {
     "data": {
      "text/html": [
       "<div>\n",
       "<style scoped>\n",
       "    .dataframe tbody tr th:only-of-type {\n",
       "        vertical-align: middle;\n",
       "    }\n",
       "\n",
       "    .dataframe tbody tr th {\n",
       "        vertical-align: top;\n",
       "    }\n",
       "\n",
       "    .dataframe thead th {\n",
       "        text-align: right;\n",
       "    }\n",
       "</style>\n",
       "<table border=\"1\" class=\"dataframe\">\n",
       "  <thead>\n",
       "    <tr style=\"text-align: right;\">\n",
       "      <th></th>\n",
       "      <th>250_Hz</th>\n",
       "      <th>315_Hz</th>\n",
       "      <th>400_Hz</th>\n",
       "      <th>500_Hz</th>\n",
       "      <th>630_Hz</th>\n",
       "      <th>800_Hz</th>\n",
       "      <th>1000_Hz</th>\n",
       "      <th>1250_Hz</th>\n",
       "      <th>1600_Hz</th>\n",
       "      <th>2000_Hz</th>\n",
       "      <th>2500_Hz</th>\n",
       "      <th>3150_Hz</th>\n",
       "      <th>4000_Hz</th>\n",
       "      <th>5000_Hz</th>\n",
       "      <th>6300_Hz</th>\n",
       "      <th>8000_Hz</th>\n",
       "    </tr>\n",
       "  </thead>\n",
       "  <tbody>\n",
       "    <tr>\n",
       "      <th>Mann-Whitney U statistic</th>\n",
       "      <td>221.000</td>\n",
       "      <td>253.500</td>\n",
       "      <td>241.500</td>\n",
       "      <td>284.500</td>\n",
       "      <td>281.500</td>\n",
       "      <td>273.000</td>\n",
       "      <td>264.500</td>\n",
       "      <td>228.500</td>\n",
       "      <td>225.000</td>\n",
       "      <td>219.500</td>\n",
       "      <td>201.500</td>\n",
       "      <td>253.000</td>\n",
       "      <td>266.000</td>\n",
       "      <td>271.000</td>\n",
       "      <td>257.500</td>\n",
       "      <td>273.000</td>\n",
       "    </tr>\n",
       "    <tr>\n",
       "      <th>p-value (two-sided)</th>\n",
       "      <td>0.595</td>\n",
       "      <td>0.851</td>\n",
       "      <td>0.938</td>\n",
       "      <td>0.382</td>\n",
       "      <td>0.419</td>\n",
       "      <td>0.535</td>\n",
       "      <td>0.665</td>\n",
       "      <td>0.714</td>\n",
       "      <td>0.657</td>\n",
       "      <td>0.572</td>\n",
       "      <td>0.335</td>\n",
       "      <td>0.859</td>\n",
       "      <td>0.641</td>\n",
       "      <td>0.565</td>\n",
       "      <td>0.782</td>\n",
       "      <td>0.535</td>\n",
       "    </tr>\n",
       "  </tbody>\n",
       "</table>\n",
       "</div>"
      ],
      "text/plain": [
       "                           250_Hz   315_Hz   400_Hz   500_Hz   630_Hz  \\\n",
       "Mann-Whitney U statistic  221.000  253.500  241.500  284.500  281.500   \n",
       "p-value (two-sided)         0.595    0.851    0.938    0.382    0.419   \n",
       "\n",
       "                           800_Hz  1000_Hz  1250_Hz  1600_Hz  2000_Hz  \\\n",
       "Mann-Whitney U statistic  273.000  264.500  228.500  225.000  219.500   \n",
       "p-value (two-sided)         0.535    0.665    0.714    0.657    0.572   \n",
       "\n",
       "                          2500_Hz  3150_Hz  4000_Hz  5000_Hz  6300_Hz  8000_Hz  \n",
       "Mann-Whitney U statistic  201.500  253.000  266.000  271.000  257.500  273.000  \n",
       "p-value (two-sided)         0.335    0.859    0.641    0.565    0.782    0.535  "
      ]
     },
     "execution_count": 22,
     "metadata": {},
     "output_type": "execute_result"
    }
   ],
   "source": [
    "out65_lost, out65_complete = split_dataframe(out65)\n",
    "mwu_test(out65_lost, out65_complete)"
   ]
  },
  {
   "cell_type": "markdown",
   "metadata": {},
   "source": [
    "BCD output for input 55 dB (ISTS)"
   ]
  },
  {
   "cell_type": "code",
   "execution_count": 23,
   "metadata": {},
   "outputs": [
    {
     "name": "stdout",
     "output_type": "stream",
     "text": [
      "Fine: these data are complete\n"
     ]
    }
   ],
   "source": [
    "out55 = read_BCD_output_55()\n",
    "warning_loss(out55)"
   ]
  },
  {
   "cell_type": "code",
   "execution_count": 24,
   "metadata": {},
   "outputs": [
    {
     "data": {
      "text/html": [
       "<div>\n",
       "<style scoped>\n",
       "    .dataframe tbody tr th:only-of-type {\n",
       "        vertical-align: middle;\n",
       "    }\n",
       "\n",
       "    .dataframe tbody tr th {\n",
       "        vertical-align: top;\n",
       "    }\n",
       "\n",
       "    .dataframe thead th {\n",
       "        text-align: right;\n",
       "    }\n",
       "</style>\n",
       "<table border=\"1\" class=\"dataframe\">\n",
       "  <thead>\n",
       "    <tr style=\"text-align: right;\">\n",
       "      <th></th>\n",
       "      <th>250_Hz</th>\n",
       "      <th>315_Hz</th>\n",
       "      <th>400_Hz</th>\n",
       "      <th>500_Hz</th>\n",
       "      <th>630_Hz</th>\n",
       "      <th>800_Hz</th>\n",
       "      <th>1000_Hz</th>\n",
       "      <th>1250_Hz</th>\n",
       "      <th>1600_Hz</th>\n",
       "      <th>2000_Hz</th>\n",
       "      <th>2500_Hz</th>\n",
       "      <th>3150_Hz</th>\n",
       "      <th>4000_Hz</th>\n",
       "      <th>5000_Hz</th>\n",
       "      <th>6300_Hz</th>\n",
       "      <th>8000_Hz</th>\n",
       "    </tr>\n",
       "  </thead>\n",
       "  <tbody>\n",
       "    <tr>\n",
       "      <th>Mann-Whitney U statistic</th>\n",
       "      <td>221.000</td>\n",
       "      <td>253.500</td>\n",
       "      <td>241.500</td>\n",
       "      <td>284.500</td>\n",
       "      <td>281.500</td>\n",
       "      <td>273.000</td>\n",
       "      <td>264.500</td>\n",
       "      <td>228.500</td>\n",
       "      <td>225.000</td>\n",
       "      <td>219.500</td>\n",
       "      <td>201.500</td>\n",
       "      <td>253.000</td>\n",
       "      <td>266.000</td>\n",
       "      <td>271.000</td>\n",
       "      <td>257.500</td>\n",
       "      <td>273.000</td>\n",
       "    </tr>\n",
       "    <tr>\n",
       "      <th>p-value (two-sided)</th>\n",
       "      <td>0.595</td>\n",
       "      <td>0.851</td>\n",
       "      <td>0.938</td>\n",
       "      <td>0.382</td>\n",
       "      <td>0.419</td>\n",
       "      <td>0.535</td>\n",
       "      <td>0.665</td>\n",
       "      <td>0.714</td>\n",
       "      <td>0.657</td>\n",
       "      <td>0.572</td>\n",
       "      <td>0.335</td>\n",
       "      <td>0.859</td>\n",
       "      <td>0.641</td>\n",
       "      <td>0.565</td>\n",
       "      <td>0.782</td>\n",
       "      <td>0.535</td>\n",
       "    </tr>\n",
       "  </tbody>\n",
       "</table>\n",
       "</div>"
      ],
      "text/plain": [
       "                           250_Hz   315_Hz   400_Hz   500_Hz   630_Hz  \\\n",
       "Mann-Whitney U statistic  221.000  253.500  241.500  284.500  281.500   \n",
       "p-value (two-sided)         0.595    0.851    0.938    0.382    0.419   \n",
       "\n",
       "                           800_Hz  1000_Hz  1250_Hz  1600_Hz  2000_Hz  \\\n",
       "Mann-Whitney U statistic  273.000  264.500  228.500  225.000  219.500   \n",
       "p-value (two-sided)         0.535    0.665    0.714    0.657    0.572   \n",
       "\n",
       "                          2500_Hz  3150_Hz  4000_Hz  5000_Hz  6300_Hz  8000_Hz  \n",
       "Mann-Whitney U statistic  201.500  253.000  266.000  271.000  257.500  273.000  \n",
       "p-value (two-sided)         0.335    0.859    0.641    0.565    0.782    0.535  "
      ]
     },
     "execution_count": 24,
     "metadata": {},
     "output_type": "execute_result"
    }
   ],
   "source": [
    "out55_lost, out55_complete = split_dataframe(out55)\n",
    "mwu_test(out65_lost, out65_complete)"
   ]
  }
 ],
 "metadata": {
  "kernelspec": {
   "display_name": "Python 3 (ipykernel)",
   "language": "python",
   "name": "python3"
  },
  "language_info": {
   "codemirror_mode": {
    "name": "ipython",
    "version": 3
   },
   "file_extension": ".py",
   "mimetype": "text/x-python",
   "name": "python",
   "nbconvert_exporter": "python",
   "pygments_lexer": "ipython3",
   "version": "3.8.12"
  }
 },
 "nbformat": 4,
 "nbformat_minor": 4
}
