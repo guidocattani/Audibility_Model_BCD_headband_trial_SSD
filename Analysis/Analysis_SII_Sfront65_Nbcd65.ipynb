{
 "cells": [
  {
   "cell_type": "markdown",
   "metadata": {},
   "source": [
    "# Analysis SII, S in front 65 dB N BCD-side 65 dB"
   ]
  },
  {
   "cell_type": "markdown",
   "metadata": {},
   "source": [
    "30 January 2021 Guido Cattani"
   ]
  },
  {
   "cell_type": "code",
   "execution_count": 1,
   "metadata": {},
   "outputs": [],
   "source": [
    "from pathlib import Path\n",
    "import pandas as pd\n",
    "import numpy as np"
   ]
  },
  {
   "cell_type": "code",
   "execution_count": 2,
   "metadata": {},
   "outputs": [],
   "source": [
    "from scipy.stats import mannwhitneyu as mannwhitneyu\n",
    "from scipy.stats import wilcoxon as wilcoxon\n",
    "from scipy.stats import rankdata as rankdata\n",
    "from scipy.stats import shapiro as shapiro\n",
    "from scipy.stats import ttest_rel as ttest_rel\n",
    "from scipy.stats import ttest_ind as ttest_ind"
   ]
  },
  {
   "cell_type": "code",
   "execution_count": 3,
   "metadata": {},
   "outputs": [],
   "source": [
    "import matplotlib\n",
    "import matplotlib.pyplot as plt\n",
    "import seaborn as sns"
   ]
  },
  {
   "cell_type": "code",
   "execution_count": 4,
   "metadata": {},
   "outputs": [],
   "source": [
    "def select_bp110(df):\n",
    "    # select BP110 data\n",
    "    is_bp110 =  df['Device']=='BP110'\n",
    "    df_bp110 = df[is_bp110]\n",
    "    df_bp110.pop('Device')\n",
    "    return(df_bp110)"
   ]
  },
  {
   "cell_type": "code",
   "execution_count": 5,
   "metadata": {},
   "outputs": [],
   "source": [
    "def select_bh5(df):\n",
    "    # select BAHA5P data\n",
    "    is_baha5p =  df['Device']=='BAHA5P'\n",
    "    df_baha5p = df[is_baha5p]\n",
    "    df_baha5p.pop('Device')\n",
    "    return(df_baha5p)"
   ]
  },
  {
   "cell_type": "code",
   "execution_count": 6,
   "metadata": {},
   "outputs": [],
   "source": [
    "def read_SII():\n",
    "    f_in =  '/media/guido/LACIE/Cingle_Guido/Master/Headband/SII_Sfront65_Nbcd65.xlsx'\n",
    "    p_in = Path(f_in)   \n",
    "    df = pd.read_excel(p_in, sheet_name='SII_Sfront65_Nbcd65', header=0, nrows=85)\n",
    "    df = df.drop(['Unnamed: 0', 'Study_ID'], axis=1)\n",
    "    return df"
   ]
  },
  {
   "cell_type": "code",
   "execution_count": 7,
   "metadata": {},
   "outputs": [
    {
     "data": {
      "text/html": [
       "<div>\n",
       "<style scoped>\n",
       "    .dataframe tbody tr th:only-of-type {\n",
       "        vertical-align: middle;\n",
       "    }\n",
       "\n",
       "    .dataframe tbody tr th {\n",
       "        vertical-align: top;\n",
       "    }\n",
       "\n",
       "    .dataframe thead th {\n",
       "        text-align: right;\n",
       "    }\n",
       "</style>\n",
       "<table border=\"1\" class=\"dataframe\">\n",
       "  <thead>\n",
       "    <tr style=\"text-align: right;\">\n",
       "      <th></th>\n",
       "      <th>Device</th>\n",
       "      <th>AC_path</th>\n",
       "      <th>BC_path</th>\n",
       "      <th>AC&amp;BC_path</th>\n",
       "      <th>diff_combi_AC</th>\n",
       "    </tr>\n",
       "  </thead>\n",
       "  <tbody>\n",
       "    <tr>\n",
       "      <th>0</th>\n",
       "      <td>BP110</td>\n",
       "      <td>0.6513</td>\n",
       "      <td>0.1142</td>\n",
       "      <td>0.6513</td>\n",
       "      <td>0.0000</td>\n",
       "    </tr>\n",
       "    <tr>\n",
       "      <th>1</th>\n",
       "      <td>BP110</td>\n",
       "      <td>0.6017</td>\n",
       "      <td>0.1299</td>\n",
       "      <td>0.5668</td>\n",
       "      <td>-0.0349</td>\n",
       "    </tr>\n",
       "    <tr>\n",
       "      <th>2</th>\n",
       "      <td>BP110</td>\n",
       "      <td>0.6458</td>\n",
       "      <td>0.1234</td>\n",
       "      <td>0.6129</td>\n",
       "      <td>-0.0329</td>\n",
       "    </tr>\n",
       "    <tr>\n",
       "      <th>3</th>\n",
       "      <td>BP110</td>\n",
       "      <td>0.6434</td>\n",
       "      <td>0.1147</td>\n",
       "      <td>0.6365</td>\n",
       "      <td>-0.0069</td>\n",
       "    </tr>\n",
       "    <tr>\n",
       "      <th>4</th>\n",
       "      <td>BP110</td>\n",
       "      <td>0.6513</td>\n",
       "      <td>0.1141</td>\n",
       "      <td>0.6513</td>\n",
       "      <td>0.0000</td>\n",
       "    </tr>\n",
       "    <tr>\n",
       "      <th>...</th>\n",
       "      <td>...</td>\n",
       "      <td>...</td>\n",
       "      <td>...</td>\n",
       "      <td>...</td>\n",
       "      <td>...</td>\n",
       "    </tr>\n",
       "    <tr>\n",
       "      <th>65</th>\n",
       "      <td>BAHA5P</td>\n",
       "      <td>0.6513</td>\n",
       "      <td>0.1849</td>\n",
       "      <td>0.6328</td>\n",
       "      <td>-0.0185</td>\n",
       "    </tr>\n",
       "    <tr>\n",
       "      <th>66</th>\n",
       "      <td>BAHA5P</td>\n",
       "      <td>0.6513</td>\n",
       "      <td>0.2902</td>\n",
       "      <td>0.6513</td>\n",
       "      <td>0.0000</td>\n",
       "    </tr>\n",
       "    <tr>\n",
       "      <th>67</th>\n",
       "      <td>BAHA5P</td>\n",
       "      <td>0.6513</td>\n",
       "      <td>0.2649</td>\n",
       "      <td>0.6056</td>\n",
       "      <td>-0.0457</td>\n",
       "    </tr>\n",
       "    <tr>\n",
       "      <th>68</th>\n",
       "      <td>BAHA5P</td>\n",
       "      <td>0.6250</td>\n",
       "      <td>0.2279</td>\n",
       "      <td>0.5920</td>\n",
       "      <td>-0.0330</td>\n",
       "    </tr>\n",
       "    <tr>\n",
       "      <th>69</th>\n",
       "      <td>BAHA5P</td>\n",
       "      <td>0.6513</td>\n",
       "      <td>0.2026</td>\n",
       "      <td>0.6449</td>\n",
       "      <td>-0.0064</td>\n",
       "    </tr>\n",
       "  </tbody>\n",
       "</table>\n",
       "<p>70 rows × 5 columns</p>\n",
       "</div>"
      ],
      "text/plain": [
       "    Device  AC_path  BC_path  AC&BC_path  diff_combi_AC\n",
       "0    BP110   0.6513   0.1142      0.6513         0.0000\n",
       "1    BP110   0.6017   0.1299      0.5668        -0.0349\n",
       "2    BP110   0.6458   0.1234      0.6129        -0.0329\n",
       "3    BP110   0.6434   0.1147      0.6365        -0.0069\n",
       "4    BP110   0.6513   0.1141      0.6513         0.0000\n",
       "..     ...      ...      ...         ...            ...\n",
       "65  BAHA5P   0.6513   0.1849      0.6328        -0.0185\n",
       "66  BAHA5P   0.6513   0.2902      0.6513         0.0000\n",
       "67  BAHA5P   0.6513   0.2649      0.6056        -0.0457\n",
       "68  BAHA5P   0.6250   0.2279      0.5920        -0.0330\n",
       "69  BAHA5P   0.6513   0.2026      0.6449        -0.0064\n",
       "\n",
       "[70 rows x 5 columns]"
      ]
     },
     "execution_count": 7,
     "metadata": {},
     "output_type": "execute_result"
    }
   ],
   "source": [
    "SII = read_SII()\n",
    "SII"
   ]
  },
  {
   "cell_type": "code",
   "execution_count": 8,
   "metadata": {},
   "outputs": [],
   "source": [
    "# group data by device type and perform calculation of quantiles 10, 50, 90\n",
    "dvc = SII.groupby('Device')\n",
    "quantiles = [0.10, 0.50, 0.90]\n",
    "q = dvc.quantile(q=quantiles)"
   ]
  },
  {
   "cell_type": "code",
   "execution_count": 9,
   "metadata": {},
   "outputs": [
    {
     "data": {
      "text/html": [
       "<div>\n",
       "<style scoped>\n",
       "    .dataframe tbody tr th:only-of-type {\n",
       "        vertical-align: middle;\n",
       "    }\n",
       "\n",
       "    .dataframe tbody tr th {\n",
       "        vertical-align: top;\n",
       "    }\n",
       "\n",
       "    .dataframe thead th {\n",
       "        text-align: right;\n",
       "    }\n",
       "</style>\n",
       "<table border=\"1\" class=\"dataframe\">\n",
       "  <thead>\n",
       "    <tr style=\"text-align: right;\">\n",
       "      <th></th>\n",
       "      <th>AC_path</th>\n",
       "      <th>BC_path</th>\n",
       "      <th>AC&amp;BC_path</th>\n",
       "      <th>diff_combi_AC</th>\n",
       "    </tr>\n",
       "  </thead>\n",
       "  <tbody>\n",
       "    <tr>\n",
       "      <th>BAHA5P P10</th>\n",
       "      <td>0.6268</td>\n",
       "      <td>0.2049</td>\n",
       "      <td>0.5870</td>\n",
       "      <td>-0.0566</td>\n",
       "    </tr>\n",
       "    <tr>\n",
       "      <th>BAHA5P P50</th>\n",
       "      <td>0.6513</td>\n",
       "      <td>0.2468</td>\n",
       "      <td>0.6312</td>\n",
       "      <td>-0.0185</td>\n",
       "    </tr>\n",
       "    <tr>\n",
       "      <th>BAHA5P P90</th>\n",
       "      <td>0.6513</td>\n",
       "      <td>0.2806</td>\n",
       "      <td>0.6504</td>\n",
       "      <td>-0.0009</td>\n",
       "    </tr>\n",
       "    <tr>\n",
       "      <th>BP110 P10</th>\n",
       "      <td>0.6259</td>\n",
       "      <td>0.1017</td>\n",
       "      <td>0.5721</td>\n",
       "      <td>-0.0596</td>\n",
       "    </tr>\n",
       "    <tr>\n",
       "      <th>BP110 P50</th>\n",
       "      <td>0.6513</td>\n",
       "      <td>0.1147</td>\n",
       "      <td>0.6273</td>\n",
       "      <td>-0.0067</td>\n",
       "    </tr>\n",
       "    <tr>\n",
       "      <th>BP110 P90</th>\n",
       "      <td>0.6513</td>\n",
       "      <td>0.1381</td>\n",
       "      <td>0.6513</td>\n",
       "      <td>0.0000</td>\n",
       "    </tr>\n",
       "  </tbody>\n",
       "</table>\n",
       "</div>"
      ],
      "text/plain": [
       "            AC_path  BC_path  AC&BC_path  diff_combi_AC\n",
       "BAHA5P P10   0.6268   0.2049      0.5870        -0.0566\n",
       "BAHA5P P50   0.6513   0.2468      0.6312        -0.0185\n",
       "BAHA5P P90   0.6513   0.2806      0.6504        -0.0009\n",
       "BP110 P10    0.6259   0.1017      0.5721        -0.0596\n",
       "BP110 P50    0.6513   0.1147      0.6273        -0.0067\n",
       "BP110 P90    0.6513   0.1381      0.6513         0.0000"
      ]
     },
     "execution_count": 9,
     "metadata": {},
     "output_type": "execute_result"
    }
   ],
   "source": [
    "q= q.round(decimals=4)\n",
    "q = q.reset_index()\n",
    "diq = {0:'BAHA5P P10', 1:'BAHA5P P50', 2:'BAHA5P P90', \n",
    "      3:'BP110 P10', 4:'BP110 P50', 5:'BP110 P90'} \n",
    "\n",
    "q = q.rename(index=diq)\n",
    "q.drop(['Device', 'level_1'], axis=1, inplace = True)\n",
    "q"
   ]
  },
  {
   "cell_type": "code",
   "execution_count": 10,
   "metadata": {},
   "outputs": [
    {
     "data": {
      "text/plain": [
       "(35, 35)"
      ]
     },
     "execution_count": 10,
     "metadata": {},
     "output_type": "execute_result"
    }
   ],
   "source": [
    "SII_bp110 = select_bp110(SII)\n",
    "SII_bh5 = select_bh5(SII)\n",
    "len(SII_bp110), len(SII_bh5)"
   ]
  },
  {
   "cell_type": "code",
   "execution_count": 11,
   "metadata": {},
   "outputs": [],
   "source": [
    "bh5 = SII_bh5.T.to_numpy()\n",
    "bp110 = SII_bp110.T.to_numpy()"
   ]
  },
  {
   "cell_type": "code",
   "execution_count": 12,
   "metadata": {},
   "outputs": [
    {
     "data": {
      "text/html": [
       "<div>\n",
       "<style scoped>\n",
       "    .dataframe tbody tr th:only-of-type {\n",
       "        vertical-align: middle;\n",
       "    }\n",
       "\n",
       "    .dataframe tbody tr th {\n",
       "        vertical-align: top;\n",
       "    }\n",
       "\n",
       "    .dataframe thead th {\n",
       "        text-align: right;\n",
       "    }\n",
       "</style>\n",
       "<table border=\"1\" class=\"dataframe\">\n",
       "  <thead>\n",
       "    <tr style=\"text-align: right;\">\n",
       "      <th></th>\n",
       "      <th>AC_path</th>\n",
       "      <th>BC_path</th>\n",
       "      <th>AC&amp;BC_path</th>\n",
       "      <th>diff_combi_AC</th>\n",
       "    </tr>\n",
       "  </thead>\n",
       "  <tbody>\n",
       "    <tr>\n",
       "      <th>Shapiro test statistic BH5</th>\n",
       "      <td>0.455211</td>\n",
       "      <td>0.974444</td>\n",
       "      <td>0.83003</td>\n",
       "      <td>0.867628</td>\n",
       "    </tr>\n",
       "    <tr>\n",
       "      <th>p-value BH5</th>\n",
       "      <td>0.0</td>\n",
       "      <td>0.576112</td>\n",
       "      <td>0.000084</td>\n",
       "      <td>0.000595</td>\n",
       "    </tr>\n",
       "    <tr>\n",
       "      <th>normally distributed in BH5</th>\n",
       "      <td>False</td>\n",
       "      <td>True</td>\n",
       "      <td>False</td>\n",
       "      <td>False</td>\n",
       "    </tr>\n",
       "    <tr>\n",
       "      <th>Shapiro test statistic BP110</th>\n",
       "      <td>0.712379</td>\n",
       "      <td>0.890474</td>\n",
       "      <td>0.880727</td>\n",
       "      <td>0.795442</td>\n",
       "    </tr>\n",
       "    <tr>\n",
       "      <th>p-value BP110</th>\n",
       "      <td>0.000001</td>\n",
       "      <td>0.002214</td>\n",
       "      <td>0.001248</td>\n",
       "      <td>0.000017</td>\n",
       "    </tr>\n",
       "    <tr>\n",
       "      <th>normally distributed in BP110</th>\n",
       "      <td>False</td>\n",
       "      <td>False</td>\n",
       "      <td>False</td>\n",
       "      <td>False</td>\n",
       "    </tr>\n",
       "  </tbody>\n",
       "</table>\n",
       "</div>"
      ],
      "text/plain": [
       "                                AC_path   BC_path AC&BC_path diff_combi_AC\n",
       "Shapiro test statistic BH5     0.455211  0.974444    0.83003      0.867628\n",
       "p-value BH5                         0.0  0.576112   0.000084      0.000595\n",
       "normally distributed in BH5       False      True      False         False\n",
       "Shapiro test statistic BP110   0.712379  0.890474   0.880727      0.795442\n",
       "p-value BP110                  0.000001  0.002214   0.001248      0.000017\n",
       "normally distributed in BP110     False     False      False         False"
      ]
     },
     "execution_count": 12,
     "metadata": {},
     "output_type": "execute_result"
    }
   ],
   "source": [
    "# check normality output group BAHA5P & BP110 with Shapiro-Wilk test\n",
    "\n",
    "shp = dict()\n",
    "\n",
    "for i in range(0, 4):\n",
    "    a = bh5[i]\n",
    "    b = bp110[i]\n",
    "    shapiro_stat_bh5, pVal_bh5 = shapiro(a) # bh5 scipy.stats Shapiro-Wilk test test\n",
    "    shapiro_stat_bp110, pVal_bp110 = shapiro(b) # bp110 scipy.stats Shapiro-Wilk test test\n",
    "    bh5_is_normal = False if pVal_bh5 < 0.05 else True\n",
    "    bp110_is_normal = False if pVal_bp110 < 0.05 else True\n",
    "    st = {i: [shapiro_stat_bh5, pVal_bh5, bh5_is_normal, shapiro_stat_bp110, pVal_bp110, bp110_is_normal]}\n",
    "    shp.update(st)\n",
    "\n",
    "shapiro_test = pd.DataFrame.from_dict(shp)\n",
    "dish =  {0: 'Shapiro test statistic BH5', 1: 'p-value BH5', 2: 'normally distributed in BH5', 3: 'Shapiro test statistic BP110', \n",
    "         4: 'p-value BP110', 5: 'normally distributed in BP110'}\n",
    "clmns = {0 : 'AC_path', 1 : 'BC_path', 2 : 'AC&BC_path', 3 : 'diff_combi_AC'}\n",
    "shapiro_test.rename(index=dish, columns = clmns, inplace = True)\n",
    "\n",
    "shapiro_test"
   ]
  },
  {
   "cell_type": "code",
   "execution_count": 13,
   "metadata": {},
   "outputs": [],
   "source": [
    "d1 = dict()\n",
    "d2 = dict()\n",
    "for i in range(0, 4):\n",
    "    (stat, pvalue) = mannwhitneyu(bp110[i], bh5[i], use_continuity=False, alternative='two-sided')\n",
    "    d1.update({i : stat})\n",
    "    d2.update({i : pvalue})"
   ]
  },
  {
   "cell_type": "code",
   "execution_count": 14,
   "metadata": {},
   "outputs": [
    {
     "data": {
      "text/html": [
       "<div>\n",
       "<style scoped>\n",
       "    .dataframe tbody tr th:only-of-type {\n",
       "        vertical-align: middle;\n",
       "    }\n",
       "\n",
       "    .dataframe tbody tr th {\n",
       "        vertical-align: top;\n",
       "    }\n",
       "\n",
       "    .dataframe thead th {\n",
       "        text-align: right;\n",
       "    }\n",
       "</style>\n",
       "<table border=\"1\" class=\"dataframe\">\n",
       "  <thead>\n",
       "    <tr style=\"text-align: right;\">\n",
       "      <th></th>\n",
       "      <th>AC_path</th>\n",
       "      <th>BC_path</th>\n",
       "      <th>AC&amp;BC_path</th>\n",
       "      <th>diff_combi_AC</th>\n",
       "    </tr>\n",
       "  </thead>\n",
       "  <tbody>\n",
       "    <tr>\n",
       "      <th>Mann-Whitney U statistic</th>\n",
       "      <td>438.5000</td>\n",
       "      <td>0.0</td>\n",
       "      <td>622.5000</td>\n",
       "      <td>742.5000</td>\n",
       "    </tr>\n",
       "    <tr>\n",
       "      <th>p-value (two-sided)</th>\n",
       "      <td>0.0144</td>\n",
       "      <td>0.0</td>\n",
       "      <td>0.9064</td>\n",
       "      <td>0.1262</td>\n",
       "    </tr>\n",
       "  </tbody>\n",
       "</table>\n",
       "</div>"
      ],
      "text/plain": [
       "                           AC_path  BC_path  AC&BC_path  diff_combi_AC\n",
       "Mann-Whitney U statistic  438.5000      0.0    622.5000       742.5000\n",
       "p-value (two-sided)         0.0144      0.0      0.9064         0.1262"
      ]
     },
     "execution_count": 14,
     "metadata": {},
     "output_type": "execute_result"
    }
   ],
   "source": [
    "mwu = pd.DataFrame.from_dict([d1, d2])\n",
    "rws = {0: 'Mann-Whitney U statistic', 1: 'p-value (two-sided)'}\n",
    "clmns = {0 : 'AC_path', 1 : 'BC_path', 2 : 'AC&BC_path', 3 : 'diff_combi_AC'}\n",
    "mwu.rename(index = rws, columns = clmns, inplace = True)\n",
    "mwu = mwu.round(decimals=4)\n",
    "mwu"
   ]
  },
  {
   "cell_type": "code",
   "execution_count": 15,
   "metadata": {},
   "outputs": [
    {
     "data": {
      "text/plain": [
       "WilcoxonResult(statistic=0.0, pvalue=3.789619441580871e-06)"
      ]
     },
     "execution_count": 15,
     "metadata": {},
     "output_type": "execute_result"
    }
   ],
   "source": [
    "# Wilcoxon signed-rank test\n",
    "w_bp110 = wilcoxon(bp110[3])\n",
    "w_bp110"
   ]
  },
  {
   "cell_type": "code",
   "execution_count": 16,
   "metadata": {},
   "outputs": [
    {
     "data": {
      "text/plain": [
       "WilcoxonResult(statistic=0.0, pvalue=7.952884142692727e-07)"
      ]
     },
     "execution_count": 16,
     "metadata": {},
     "output_type": "execute_result"
    }
   ],
   "source": [
    "w_bh5 = wilcoxon(bh5[3])\n",
    "w_bh5"
   ]
  },
  {
   "cell_type": "code",
   "execution_count": 17,
   "metadata": {},
   "outputs": [
    {
     "data": {
      "text/html": [
       "<div>\n",
       "<style scoped>\n",
       "    .dataframe tbody tr th:only-of-type {\n",
       "        vertical-align: middle;\n",
       "    }\n",
       "\n",
       "    .dataframe tbody tr th {\n",
       "        vertical-align: top;\n",
       "    }\n",
       "\n",
       "    .dataframe thead th {\n",
       "        text-align: right;\n",
       "    }\n",
       "</style>\n",
       "<table border=\"1\" class=\"dataframe\">\n",
       "  <thead>\n",
       "    <tr style=\"text-align: right;\">\n",
       "      <th></th>\n",
       "      <th>Wilcoxon s-r test diff_combi_AC</th>\n",
       "      <th>p-value (2s)</th>\n",
       "    </tr>\n",
       "  </thead>\n",
       "  <tbody>\n",
       "    <tr>\n",
       "      <th>BAHA5P P50</th>\n",
       "      <td>0.0</td>\n",
       "      <td>7.952884e-07</td>\n",
       "    </tr>\n",
       "    <tr>\n",
       "      <th>BP110 P50</th>\n",
       "      <td>0.0</td>\n",
       "      <td>3.789619e-06</td>\n",
       "    </tr>\n",
       "  </tbody>\n",
       "</table>\n",
       "</div>"
      ],
      "text/plain": [
       "            Wilcoxon s-r test diff_combi_AC  p-value (2s)\n",
       "BAHA5P P50                              0.0  7.952884e-07\n",
       "BP110 P50                               0.0  3.789619e-06"
      ]
     },
     "execution_count": 17,
     "metadata": {},
     "output_type": "execute_result"
    }
   ],
   "source": [
    "# make dataframe with results wilcoxon\n",
    "dwx = {'BAHA5P P50': [w_bh5[0], w_bh5[1]], 'BP110 P50' : [w_bp110[0], w_bp110[1]]} \n",
    "dfx = pd.DataFrame.from_dict(dwx, orient = 'index', columns = ['Wilcoxon s-r test diff_combi_AC', 'p-value (2s)'])\n",
    "dfx "
   ]
  },
  {
   "cell_type": "code",
   "execution_count": 18,
   "metadata": {
    "scrolled": true
   },
   "outputs": [
    {
     "data": {
      "text/html": [
       "<div>\n",
       "<style scoped>\n",
       "    .dataframe tbody tr th:only-of-type {\n",
       "        vertical-align: middle;\n",
       "    }\n",
       "\n",
       "    .dataframe tbody tr th {\n",
       "        vertical-align: top;\n",
       "    }\n",
       "\n",
       "    .dataframe thead th {\n",
       "        text-align: right;\n",
       "    }\n",
       "</style>\n",
       "<table border=\"1\" class=\"dataframe\">\n",
       "  <thead>\n",
       "    <tr style=\"text-align: right;\">\n",
       "      <th></th>\n",
       "      <th>AC_path</th>\n",
       "      <th>BC_path</th>\n",
       "      <th>AC&amp;BC_path</th>\n",
       "      <th>diff_combi_AC</th>\n",
       "      <th>Wilcoxon s-r test diff_combi_AC</th>\n",
       "      <th>p-value (2s)</th>\n",
       "    </tr>\n",
       "  </thead>\n",
       "  <tbody>\n",
       "    <tr>\n",
       "      <th>BAHA5P P10</th>\n",
       "      <td>0.6268</td>\n",
       "      <td>0.2049</td>\n",
       "      <td>0.5870</td>\n",
       "      <td>-0.0566</td>\n",
       "      <td>NaN</td>\n",
       "      <td>NaN</td>\n",
       "    </tr>\n",
       "    <tr>\n",
       "      <th>BAHA5P P50</th>\n",
       "      <td>0.6513</td>\n",
       "      <td>0.2468</td>\n",
       "      <td>0.6312</td>\n",
       "      <td>-0.0185</td>\n",
       "      <td>0.0</td>\n",
       "      <td>7.952884e-07</td>\n",
       "    </tr>\n",
       "    <tr>\n",
       "      <th>BAHA5P P90</th>\n",
       "      <td>0.6513</td>\n",
       "      <td>0.2806</td>\n",
       "      <td>0.6504</td>\n",
       "      <td>-0.0009</td>\n",
       "      <td>NaN</td>\n",
       "      <td>NaN</td>\n",
       "    </tr>\n",
       "    <tr>\n",
       "      <th>BP110 P10</th>\n",
       "      <td>0.6259</td>\n",
       "      <td>0.1017</td>\n",
       "      <td>0.5721</td>\n",
       "      <td>-0.0596</td>\n",
       "      <td>NaN</td>\n",
       "      <td>NaN</td>\n",
       "    </tr>\n",
       "    <tr>\n",
       "      <th>BP110 P50</th>\n",
       "      <td>0.6513</td>\n",
       "      <td>0.1147</td>\n",
       "      <td>0.6273</td>\n",
       "      <td>-0.0067</td>\n",
       "      <td>0.0</td>\n",
       "      <td>3.789619e-06</td>\n",
       "    </tr>\n",
       "    <tr>\n",
       "      <th>BP110 P90</th>\n",
       "      <td>0.6513</td>\n",
       "      <td>0.1381</td>\n",
       "      <td>0.6513</td>\n",
       "      <td>0.0000</td>\n",
       "      <td>NaN</td>\n",
       "      <td>NaN</td>\n",
       "    </tr>\n",
       "    <tr>\n",
       "      <th>Mann-Whitney U statistic</th>\n",
       "      <td>438.5000</td>\n",
       "      <td>0.0000</td>\n",
       "      <td>622.5000</td>\n",
       "      <td>742.5000</td>\n",
       "      <td>NaN</td>\n",
       "      <td>NaN</td>\n",
       "    </tr>\n",
       "    <tr>\n",
       "      <th>p-value (two-sided)</th>\n",
       "      <td>0.0144</td>\n",
       "      <td>0.0000</td>\n",
       "      <td>0.9064</td>\n",
       "      <td>0.1262</td>\n",
       "      <td>NaN</td>\n",
       "      <td>NaN</td>\n",
       "    </tr>\n",
       "  </tbody>\n",
       "</table>\n",
       "</div>"
      ],
      "text/plain": [
       "                           AC_path  BC_path  AC&BC_path  diff_combi_AC  \\\n",
       "BAHA5P P10                  0.6268   0.2049      0.5870        -0.0566   \n",
       "BAHA5P P50                  0.6513   0.2468      0.6312        -0.0185   \n",
       "BAHA5P P90                  0.6513   0.2806      0.6504        -0.0009   \n",
       "BP110 P10                   0.6259   0.1017      0.5721        -0.0596   \n",
       "BP110 P50                   0.6513   0.1147      0.6273        -0.0067   \n",
       "BP110 P90                   0.6513   0.1381      0.6513         0.0000   \n",
       "Mann-Whitney U statistic  438.5000   0.0000    622.5000       742.5000   \n",
       "p-value (two-sided)         0.0144   0.0000      0.9064         0.1262   \n",
       "\n",
       "                          Wilcoxon s-r test diff_combi_AC  p-value (2s)  \n",
       "BAHA5P P10                                            NaN           NaN  \n",
       "BAHA5P P50                                            0.0  7.952884e-07  \n",
       "BAHA5P P90                                            NaN           NaN  \n",
       "BP110 P10                                             NaN           NaN  \n",
       "BP110 P50                                             0.0  3.789619e-06  \n",
       "BP110 P90                                             NaN           NaN  \n",
       "Mann-Whitney U statistic                              NaN           NaN  \n",
       "p-value (two-sided)                                   NaN           NaN  "
      ]
     },
     "execution_count": 18,
     "metadata": {},
     "output_type": "execute_result"
    }
   ],
   "source": [
    "# make dataframe with all results\n",
    "analysis_output = pd.concat([q, mwu])\n",
    "analysis_output = pd.concat([analysis_output, dfx], axis = 1)\n",
    "analysis_output"
   ]
  },
  {
   "cell_type": "code",
   "execution_count": 19,
   "metadata": {},
   "outputs": [],
   "source": [
    "# write to xlsx file\n",
    "analysis_output.to_excel(\"/media/guido/LACIE/Cingle_Guido/Project_band/Analysis_results/analysis_SII_Sfront65_Nbcd65.xlsx\",\n",
    "                         sheet_name='SII_Sfront65_Nbcd65')  "
   ]
  },
  {
   "cell_type": "code",
   "execution_count": 20,
   "metadata": {},
   "outputs": [
    {
     "data": {
      "image/png": "[encoded data removed]",
      "text/plain": [
       "<Figure size 792x432 with 1 Axes>"
      ]
     },
     "metadata": {
      "needs_background": "light"
     },
     "output_type": "display_data"
    }
   ],
   "source": [
    "# make a figure to plot SII for the 3 paths\n",
    "ttl = 'BP110: SII for the combination path, air conduction path, bone conduction path, S in front 65 dB, N BCD side 65 dB'\n",
    "SII_combi = SII_bp110['AC&BC_path']\n",
    "SII_ac = SII_bp110['AC_path']\n",
    "SII_bc = SII_bp110['BC_path']\n",
    "tp = pd.melt(pd.DataFrame( {'AC & BC' : SII_combi, 'AC' : SII_ac, 'BC' : SII_bc }), \n",
    "             var_name = 'Transmission path', value_name = 'Speech Intelligibility Index') \n",
    "\n",
    "fig, ax = plt.subplots(constrained_layout=True)\n",
    "\n",
    "fig.set_figheight(6)\n",
    "fig.set_figwidth(11)\n",
    "\n",
    "ax = sns.swarmplot(data = tp, x = 'Transmission path', y = 'Speech Intelligibility Index', \n",
    "              hue = 'Transmission path', size=5, palette={'silver', 'grey', 'black'})\n",
    "\n",
    "ax.set_title(ttl)\n",
    "plt.legend(bbox_to_anchor=(0.15, 0.25), fontsize='large')\n",
    "\n",
    "# save figure to file\n",
    "plt.savefig('/media/guido/LACIE/Cingle_Guido/Project_band/Analysis_results/BP110_SII_Sfront65_Nbcd65.tiff', \n",
    "           transparent=False, dpi=500, bbox_inches=\"tight\")\n",
    "\n",
    "plt.show()"
   ]
  },
  {
   "cell_type": "code",
   "execution_count": 21,
   "metadata": {},
   "outputs": [
    {
     "data": {
      "image/png": "[encoded data removed]",
      "text/plain": [
       "<Figure size 864x432 with 1 Axes>"
      ]
     },
     "metadata": {
      "needs_background": "light"
     },
     "output_type": "display_data"
    }
   ],
   "source": [
    "# make a figure to plot SII for the 3 paths\n",
    "ttl = 'BAHA5P: SII for the combination path, air conduction path, bone conduction path, S in front 65 dB, N BCD side 65 dB'\n",
    "SII_combi = SII_bh5['AC&BC_path']\n",
    "SII_ac = SII_bh5['AC_path']\n",
    "SII_bc = SII_bh5['BC_path']\n",
    "tp = pd.melt(pd.DataFrame( {'AC & BC' : SII_combi, 'AC' : SII_ac, 'BC' : SII_bc }), \n",
    "             var_name = 'Transmission path', value_name = 'Speech Intelligibility Index') \n",
    "\n",
    "fig, ax = plt.subplots(constrained_layout=True)\n",
    "\n",
    "fig.set_figheight(6)\n",
    "fig.set_figwidth(12)\n",
    "\n",
    "ax = sns.swarmplot(data = tp, x = 'Transmission path', y = 'Speech Intelligibility Index', \n",
    "              hue = 'Transmission path', size=6, palette={'silver', 'grey', 'black'})\n",
    "\n",
    "ax.set_title(ttl)\n",
    "plt.legend(bbox_to_anchor=(0.15, 0.25), fontsize='large')\n",
    "\n",
    "# save figure to file\n",
    "plt.savefig('/media/guido/LACIE/Cingle_Guido/Project_band/Analysis_results/BAHA5P_SII_Sfront65_Nbcd65.tiff', \n",
    "           transparent=False, dpi=500, bbox_inches=\"tight\")\n",
    "\n",
    "plt.show()"
   ]
  }
 ],
 "metadata": {
  "kernelspec": {
   "display_name": "Python 3 (ipykernel)",
   "language": "python",
   "name": "python3"
  },
  "language_info": {
   "codemirror_mode": {
    "name": "ipython",
    "version": 3
   },
   "file_extension": ".py",
   "mimetype": "text/x-python",
   "name": "python",
   "nbconvert_exporter": "python",
   "pygments_lexer": "ipython3",
   "version": "3.8.12"
  }
 },
 "nbformat": 4,
 "nbformat_minor": 4
}
