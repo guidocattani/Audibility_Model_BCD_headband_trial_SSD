{
 "cells": [
  {
   "cell_type": "markdown",
   "metadata": {},
   "source": [
    "# Code to analyse usage BCD vs. CROS"
   ]
  },
  {
   "cell_type": "markdown",
   "metadata": {},
   "source": [
    "1 March 2021 Guido Cattani"
   ]
  },
  {
   "cell_type": "code",
   "execution_count": 1,
   "metadata": {},
   "outputs": [],
   "source": [
    "from pathlib import Path\n",
    "import pandas as pd\n",
    "import numpy as np\n",
    "import matplotlib\n",
    "import matplotlib.pyplot as plt\n",
    "import matplotlib.lines as mlines\n",
    "import matplotlib.patches as mpatches\n",
    "import seaborn as sns\n",
    "from scipy.stats import mannwhitneyu as mannwhitneyu\n",
    "from scipy.stats import wilcoxon as wilcoxon\n",
    "from scipy.stats import shapiro as shapiro"
   ]
  },
  {
   "cell_type": "code",
   "execution_count": 2,
   "metadata": {},
   "outputs": [],
   "source": [
    "# read usage BCD vs. CROS\n",
    "def read_usage():\n",
    "    f_in = '/media/guido/LACIE/Cingle_Guido/Master/Headband/Usage_BCD_CROS.xlsx'\n",
    "    p_in = Path(f_in)   \n",
    "    df = pd.read_excel(p_in, header=0, nrows=85)\n",
    "    df = df.drop(['Unnamed: 0',], axis=1)\n",
    "    df = df.fillna(pd.NA)\n",
    "    return df"
   ]
  },
  {
   "cell_type": "code",
   "execution_count": 3,
   "metadata": {},
   "outputs": [
    {
     "data": {
      "text/html": [
       "<div>\n",
       "<style scoped>\n",
       "    .dataframe tbody tr th:only-of-type {\n",
       "        vertical-align: middle;\n",
       "    }\n",
       "\n",
       "    .dataframe tbody tr th {\n",
       "        vertical-align: top;\n",
       "    }\n",
       "\n",
       "    .dataframe thead th {\n",
       "        text-align: right;\n",
       "    }\n",
       "</style>\n",
       "<table border=\"1\" class=\"dataframe\">\n",
       "  <thead>\n",
       "    <tr style=\"text-align: right;\">\n",
       "      <th></th>\n",
       "      <th>Device</th>\n",
       "      <th>Average_use_BCD</th>\n",
       "      <th>Average_use_CROS</th>\n",
       "    </tr>\n",
       "  </thead>\n",
       "  <tbody>\n",
       "    <tr>\n",
       "      <th>2</th>\n",
       "      <td>BP110</td>\n",
       "      <td>0.4</td>\n",
       "      <td>4.9</td>\n",
       "    </tr>\n",
       "    <tr>\n",
       "      <th>3</th>\n",
       "      <td>BP110</td>\n",
       "      <td>1.0</td>\n",
       "      <td>2.0</td>\n",
       "    </tr>\n",
       "    <tr>\n",
       "      <th>4</th>\n",
       "      <td>BP110</td>\n",
       "      <td>1.4</td>\n",
       "      <td>2.3</td>\n",
       "    </tr>\n",
       "    <tr>\n",
       "      <th>6</th>\n",
       "      <td>BP110</td>\n",
       "      <td>3.2</td>\n",
       "      <td>4.4</td>\n",
       "    </tr>\n",
       "    <tr>\n",
       "      <th>7</th>\n",
       "      <td>BP110</td>\n",
       "      <td>0.7</td>\n",
       "      <td>13.1</td>\n",
       "    </tr>\n",
       "    <tr>\n",
       "      <th>...</th>\n",
       "      <td>...</td>\n",
       "      <td>...</td>\n",
       "      <td>...</td>\n",
       "    </tr>\n",
       "    <tr>\n",
       "      <th>80</th>\n",
       "      <td>BAHA5P</td>\n",
       "      <td>3.9</td>\n",
       "      <td>10.5</td>\n",
       "    </tr>\n",
       "    <tr>\n",
       "      <th>81</th>\n",
       "      <td>BAHA5P</td>\n",
       "      <td>0.6</td>\n",
       "      <td>13.9</td>\n",
       "    </tr>\n",
       "    <tr>\n",
       "      <th>82</th>\n",
       "      <td>BAHA5P</td>\n",
       "      <td>0.3</td>\n",
       "      <td>4.8</td>\n",
       "    </tr>\n",
       "    <tr>\n",
       "      <th>83</th>\n",
       "      <td>BAHA5P</td>\n",
       "      <td>1.1</td>\n",
       "      <td>12.0</td>\n",
       "    </tr>\n",
       "    <tr>\n",
       "      <th>84</th>\n",
       "      <td>BAHA5P</td>\n",
       "      <td>0.0</td>\n",
       "      <td>5.3</td>\n",
       "    </tr>\n",
       "  </tbody>\n",
       "</table>\n",
       "<p>71 rows × 3 columns</p>\n",
       "</div>"
      ],
      "text/plain": [
       "    Device  Average_use_BCD  Average_use_CROS\n",
       "2    BP110              0.4               4.9\n",
       "3    BP110              1.0               2.0\n",
       "4    BP110              1.4               2.3\n",
       "6    BP110              3.2               4.4\n",
       "7    BP110              0.7              13.1\n",
       "..     ...              ...               ...\n",
       "80  BAHA5P              3.9              10.5\n",
       "81  BAHA5P              0.6              13.9\n",
       "82  BAHA5P              0.3               4.8\n",
       "83  BAHA5P              1.1              12.0\n",
       "84  BAHA5P              0.0               5.3\n",
       "\n",
       "[71 rows x 3 columns]"
      ]
     },
     "execution_count": 3,
     "metadata": {},
     "output_type": "execute_result"
    }
   ],
   "source": [
    "df = read_usage()\n",
    "df_usage = df.drop(columns='Study_ID') # drop first column\n",
    "df_usage = df_usage.dropna(axis='index')\n",
    "type_device = df_usage.pop('Device')\n",
    "df_usage = df_usage.astype('float64')    # change numeric data to type float, because of objects\n",
    "df_usage.insert(0, 'Device', type_device)\n",
    "df_usage"
   ]
  },
  {
   "cell_type": "code",
   "execution_count": 4,
   "metadata": {},
   "outputs": [
    {
     "data": {
      "image/png": "[encoded data removed]",
      "text/plain": [
       "<Figure size 504x360 with 1 Axes>"
      ]
     },
     "metadata": {
      "needs_background": "light"
     },
     "output_type": "display_data"
    }
   ],
   "source": [
    "# make a figure to plot the usage\n",
    "ttl = 'Average Daily use of BCD and CROS in both groups together'\n",
    "\n",
    "pp= df_usage.drop(columns='Device') # drop first column with Device info\n",
    "tp = pd.melt(pp, var_name = 'Used device', value_name = 'Average Daily Use [Hours]') \n",
    "\n",
    "fig, ax = plt.subplots(constrained_layout=True)\n",
    "\n",
    "fig.set_figheight(5)\n",
    "fig.set_figwidth(7)\n",
    "\n",
    "ax = sns.swarmplot(data = tp, x = 'Used device', y = 'Average Daily Use [Hours]', \n",
    "                   size=6, palette={'grey', 'black'})\n",
    "\n",
    "ax.set_title(ttl)\n",
    "#plt.legend(bbox_to_anchor=(0.15, 0.25), fontsize='large')\n",
    "\n",
    "# save figure to file\n",
    "plt.savefig('/media/guido/LACIE/Cingle_Guido/Project_band/Analysis_results/usage_BCD_CROS_pool.tiff', \n",
    "           transparent=False, dpi=500, bbox_inches=\"tight\")\n",
    "\n",
    "plt.show()"
   ]
  },
  {
   "cell_type": "code",
   "execution_count": 5,
   "metadata": {},
   "outputs": [
    {
     "data": {
      "text/html": [
       "<div>\n",
       "<style scoped>\n",
       "    .dataframe tbody tr th:only-of-type {\n",
       "        vertical-align: middle;\n",
       "    }\n",
       "\n",
       "    .dataframe tbody tr th {\n",
       "        vertical-align: top;\n",
       "    }\n",
       "\n",
       "    .dataframe thead th {\n",
       "        text-align: right;\n",
       "    }\n",
       "</style>\n",
       "<table border=\"1\" class=\"dataframe\">\n",
       "  <thead>\n",
       "    <tr style=\"text-align: right;\">\n",
       "      <th></th>\n",
       "      <th>Average_use_BCD</th>\n",
       "      <th>Average_use_CROS</th>\n",
       "    </tr>\n",
       "  </thead>\n",
       "  <tbody>\n",
       "    <tr>\n",
       "      <th>0.1</th>\n",
       "      <td>0.1</td>\n",
       "      <td>1.2</td>\n",
       "    </tr>\n",
       "    <tr>\n",
       "      <th>0.5</th>\n",
       "      <td>1.0</td>\n",
       "      <td>5.1</td>\n",
       "    </tr>\n",
       "    <tr>\n",
       "      <th>0.9</th>\n",
       "      <td>4.8</td>\n",
       "      <td>11.5</td>\n",
       "    </tr>\n",
       "  </tbody>\n",
       "</table>\n",
       "</div>"
      ],
      "text/plain": [
       "     Average_use_BCD  Average_use_CROS\n",
       "0.1              0.1               1.2\n",
       "0.5              1.0               5.1\n",
       "0.9              4.8              11.5"
      ]
     },
     "execution_count": 5,
     "metadata": {},
     "output_type": "execute_result"
    }
   ],
   "source": [
    "# group data by device type and perform calculation of quantiles 10, 50, 90\n",
    "#dvc_usage = df_usage.groupby('Device')\n",
    "quantiles = [0.10, 0.50, 0.90]\n",
    "q = pp.quantile(q=quantiles)\n",
    "q"
   ]
  },
  {
   "cell_type": "code",
   "execution_count": 6,
   "metadata": {},
   "outputs": [
    {
     "data": {
      "text/plain": [
       "WilcoxonResult(statistic=248.5, pvalue=3.656863027556037e-09)"
      ]
     },
     "execution_count": 6,
     "metadata": {},
     "output_type": "execute_result"
    }
   ],
   "source": [
    "u_bcd = (pp.iloc[:,0]).T.to_numpy()\n",
    "u_cros = (pp.iloc[:,1]).T.to_numpy()\n",
    "u_diff = u_cros - u_bcd\n",
    "wd= wilcoxon(u_diff)\n",
    "wd"
   ]
  },
  {
   "cell_type": "code",
   "execution_count": 7,
   "metadata": {},
   "outputs": [
    {
     "data": {
      "text/html": [
       "<div>\n",
       "<style scoped>\n",
       "    .dataframe tbody tr th:only-of-type {\n",
       "        vertical-align: middle;\n",
       "    }\n",
       "\n",
       "    .dataframe tbody tr th {\n",
       "        vertical-align: top;\n",
       "    }\n",
       "\n",
       "    .dataframe thead th {\n",
       "        text-align: right;\n",
       "    }\n",
       "</style>\n",
       "<table border=\"1\" class=\"dataframe\">\n",
       "  <thead>\n",
       "    <tr style=\"text-align: right;\">\n",
       "      <th></th>\n",
       "      <th>Device</th>\n",
       "      <th>Average_use_BCD</th>\n",
       "      <th>Average_use_CROS</th>\n",
       "      <th>Diff. usage CROS-BCD</th>\n",
       "    </tr>\n",
       "  </thead>\n",
       "  <tbody>\n",
       "    <tr>\n",
       "      <th>2</th>\n",
       "      <td>BP110</td>\n",
       "      <td>0.4</td>\n",
       "      <td>4.9</td>\n",
       "      <td>4.5</td>\n",
       "    </tr>\n",
       "    <tr>\n",
       "      <th>3</th>\n",
       "      <td>BP110</td>\n",
       "      <td>1.0</td>\n",
       "      <td>2.0</td>\n",
       "      <td>1.0</td>\n",
       "    </tr>\n",
       "    <tr>\n",
       "      <th>4</th>\n",
       "      <td>BP110</td>\n",
       "      <td>1.4</td>\n",
       "      <td>2.3</td>\n",
       "      <td>0.9</td>\n",
       "    </tr>\n",
       "    <tr>\n",
       "      <th>6</th>\n",
       "      <td>BP110</td>\n",
       "      <td>3.2</td>\n",
       "      <td>4.4</td>\n",
       "      <td>1.2</td>\n",
       "    </tr>\n",
       "    <tr>\n",
       "      <th>7</th>\n",
       "      <td>BP110</td>\n",
       "      <td>0.7</td>\n",
       "      <td>13.1</td>\n",
       "      <td>12.4</td>\n",
       "    </tr>\n",
       "    <tr>\n",
       "      <th>...</th>\n",
       "      <td>...</td>\n",
       "      <td>...</td>\n",
       "      <td>...</td>\n",
       "      <td>...</td>\n",
       "    </tr>\n",
       "    <tr>\n",
       "      <th>80</th>\n",
       "      <td>BAHA5P</td>\n",
       "      <td>3.9</td>\n",
       "      <td>10.5</td>\n",
       "      <td>6.6</td>\n",
       "    </tr>\n",
       "    <tr>\n",
       "      <th>81</th>\n",
       "      <td>BAHA5P</td>\n",
       "      <td>0.6</td>\n",
       "      <td>13.9</td>\n",
       "      <td>13.3</td>\n",
       "    </tr>\n",
       "    <tr>\n",
       "      <th>82</th>\n",
       "      <td>BAHA5P</td>\n",
       "      <td>0.3</td>\n",
       "      <td>4.8</td>\n",
       "      <td>4.5</td>\n",
       "    </tr>\n",
       "    <tr>\n",
       "      <th>83</th>\n",
       "      <td>BAHA5P</td>\n",
       "      <td>1.1</td>\n",
       "      <td>12.0</td>\n",
       "      <td>10.9</td>\n",
       "    </tr>\n",
       "    <tr>\n",
       "      <th>84</th>\n",
       "      <td>BAHA5P</td>\n",
       "      <td>0.0</td>\n",
       "      <td>5.3</td>\n",
       "      <td>5.3</td>\n",
       "    </tr>\n",
       "  </tbody>\n",
       "</table>\n",
       "<p>71 rows × 4 columns</p>\n",
       "</div>"
      ],
      "text/plain": [
       "    Device  Average_use_BCD  Average_use_CROS  Diff. usage CROS-BCD\n",
       "2    BP110              0.4               4.9                   4.5\n",
       "3    BP110              1.0               2.0                   1.0\n",
       "4    BP110              1.4               2.3                   0.9\n",
       "6    BP110              3.2               4.4                   1.2\n",
       "7    BP110              0.7              13.1                  12.4\n",
       "..     ...              ...               ...                   ...\n",
       "80  BAHA5P              3.9              10.5                   6.6\n",
       "81  BAHA5P              0.6              13.9                  13.3\n",
       "82  BAHA5P              0.3               4.8                   4.5\n",
       "83  BAHA5P              1.1              12.0                  10.9\n",
       "84  BAHA5P              0.0               5.3                   5.3\n",
       "\n",
       "[71 rows x 4 columns]"
      ]
     },
     "execution_count": 7,
     "metadata": {},
     "output_type": "execute_result"
    }
   ],
   "source": [
    "usage_diff = df_usage.iloc[:,2] - df_usage.iloc[:,1]\n",
    "df_usage.insert(3, 'Diff. usage CROS-BCD', usage_diff)\n",
    "df_usage"
   ]
  },
  {
   "cell_type": "code",
   "execution_count": 8,
   "metadata": {},
   "outputs": [
    {
     "data": {
      "text/html": [
       "<div>\n",
       "<style scoped>\n",
       "    .dataframe tbody tr th:only-of-type {\n",
       "        vertical-align: middle;\n",
       "    }\n",
       "\n",
       "    .dataframe tbody tr th {\n",
       "        vertical-align: top;\n",
       "    }\n",
       "\n",
       "    .dataframe thead th {\n",
       "        text-align: right;\n",
       "    }\n",
       "</style>\n",
       "<table border=\"1\" class=\"dataframe\">\n",
       "  <thead>\n",
       "    <tr style=\"text-align: right;\">\n",
       "      <th></th>\n",
       "      <th></th>\n",
       "      <th>Average_use_BCD</th>\n",
       "      <th>Average_use_CROS</th>\n",
       "      <th>Diff. usage CROS-BCD</th>\n",
       "    </tr>\n",
       "    <tr>\n",
       "      <th>Device</th>\n",
       "      <th></th>\n",
       "      <th></th>\n",
       "      <th></th>\n",
       "      <th></th>\n",
       "    </tr>\n",
       "  </thead>\n",
       "  <tbody>\n",
       "    <tr>\n",
       "      <th rowspan=\"3\" valign=\"top\">BAHA5P</th>\n",
       "      <th>0.1</th>\n",
       "      <td>0.1</td>\n",
       "      <td>2.19</td>\n",
       "      <td>-0.85</td>\n",
       "    </tr>\n",
       "    <tr>\n",
       "      <th>0.5</th>\n",
       "      <td>1.5</td>\n",
       "      <td>5.75</td>\n",
       "      <td>4.75</td>\n",
       "    </tr>\n",
       "    <tr>\n",
       "      <th>0.9</th>\n",
       "      <td>4.9</td>\n",
       "      <td>11.43</td>\n",
       "      <td>10.36</td>\n",
       "    </tr>\n",
       "    <tr>\n",
       "      <th rowspan=\"3\" valign=\"top\">BP110</th>\n",
       "      <th>0.1</th>\n",
       "      <td>0.1</td>\n",
       "      <td>1.00</td>\n",
       "      <td>-0.50</td>\n",
       "    </tr>\n",
       "    <tr>\n",
       "      <th>0.5</th>\n",
       "      <td>0.7</td>\n",
       "      <td>4.90</td>\n",
       "      <td>3.10</td>\n",
       "    </tr>\n",
       "    <tr>\n",
       "      <th>0.9</th>\n",
       "      <td>4.8</td>\n",
       "      <td>11.50</td>\n",
       "      <td>11.20</td>\n",
       "    </tr>\n",
       "  </tbody>\n",
       "</table>\n",
       "</div>"
      ],
      "text/plain": [
       "            Average_use_BCD  Average_use_CROS  Diff. usage CROS-BCD\n",
       "Device                                                             \n",
       "BAHA5P 0.1              0.1              2.19                 -0.85\n",
       "       0.5              1.5              5.75                  4.75\n",
       "       0.9              4.9             11.43                 10.36\n",
       "BP110  0.1              0.1              1.00                 -0.50\n",
       "       0.5              0.7              4.90                  3.10\n",
       "       0.9              4.8             11.50                 11.20"
      ]
     },
     "execution_count": 8,
     "metadata": {},
     "output_type": "execute_result"
    }
   ],
   "source": [
    "# group data by device type and perform calculation of quantiles 10, 50, 90\n",
    "dvc_usage = df_usage.groupby('Device')\n",
    "quantiles = [0.10, 0.50, 0.90]\n",
    "q = dvc_usage.quantile(q=quantiles)\n",
    "q"
   ]
  },
  {
   "cell_type": "code",
   "execution_count": 9,
   "metadata": {},
   "outputs": [
    {
     "data": {
      "text/html": [
       "<div>\n",
       "<style scoped>\n",
       "    .dataframe tbody tr th:only-of-type {\n",
       "        vertical-align: middle;\n",
       "    }\n",
       "\n",
       "    .dataframe tbody tr th {\n",
       "        vertical-align: top;\n",
       "    }\n",
       "\n",
       "    .dataframe thead th {\n",
       "        text-align: right;\n",
       "    }\n",
       "</style>\n",
       "<table border=\"1\" class=\"dataframe\">\n",
       "  <thead>\n",
       "    <tr style=\"text-align: right;\">\n",
       "      <th></th>\n",
       "      <th>Average_use_BCD</th>\n",
       "      <th>Average_use_CROS</th>\n",
       "      <th>Diff. usage CROS-BCD</th>\n",
       "    </tr>\n",
       "  </thead>\n",
       "  <tbody>\n",
       "    <tr>\n",
       "      <th>BAHA5P P10</th>\n",
       "      <td>0.1</td>\n",
       "      <td>2.2</td>\n",
       "      <td>-0.8</td>\n",
       "    </tr>\n",
       "    <tr>\n",
       "      <th>BAHA5P P50</th>\n",
       "      <td>1.5</td>\n",
       "      <td>5.8</td>\n",
       "      <td>4.8</td>\n",
       "    </tr>\n",
       "    <tr>\n",
       "      <th>BAHA5P P90</th>\n",
       "      <td>4.9</td>\n",
       "      <td>11.4</td>\n",
       "      <td>10.4</td>\n",
       "    </tr>\n",
       "    <tr>\n",
       "      <th>BP110 P10</th>\n",
       "      <td>0.1</td>\n",
       "      <td>1.0</td>\n",
       "      <td>-0.5</td>\n",
       "    </tr>\n",
       "    <tr>\n",
       "      <th>BP110 P50</th>\n",
       "      <td>0.7</td>\n",
       "      <td>4.9</td>\n",
       "      <td>3.1</td>\n",
       "    </tr>\n",
       "    <tr>\n",
       "      <th>BP110 P90</th>\n",
       "      <td>4.8</td>\n",
       "      <td>11.5</td>\n",
       "      <td>11.2</td>\n",
       "    </tr>\n",
       "  </tbody>\n",
       "</table>\n",
       "</div>"
      ],
      "text/plain": [
       "            Average_use_BCD  Average_use_CROS  Diff. usage CROS-BCD\n",
       "BAHA5P P10              0.1               2.2                  -0.8\n",
       "BAHA5P P50              1.5               5.8                   4.8\n",
       "BAHA5P P90              4.9              11.4                  10.4\n",
       "BP110 P10               0.1               1.0                  -0.5\n",
       "BP110 P50               0.7               4.9                   3.1\n",
       "BP110 P90               4.8              11.5                  11.2"
      ]
     },
     "execution_count": 9,
     "metadata": {},
     "output_type": "execute_result"
    }
   ],
   "source": [
    "# rearranging the datafame with quantiles\n",
    "q= q.round(decimals=1)\n",
    "q.reset_index(drop=True, inplace=True)\n",
    "diq = {0:'BAHA5P P10', 1:'BAHA5P P50', 2:'BAHA5P P90', \n",
    "      3:'BP110 P10', 4:'BP110 P50', 5:'BP110 P90'} \n",
    "\n",
    "q = q.rename(index=diq)\n",
    "q"
   ]
  },
  {
   "cell_type": "code",
   "execution_count": 10,
   "metadata": {},
   "outputs": [
    {
     "data": {
      "text/plain": [
       "(41, 3)"
      ]
     },
     "execution_count": 10,
     "metadata": {},
     "output_type": "execute_result"
    }
   ],
   "source": [
    "# select BP110 data and convert the Pandas Dataframe to numpy array\n",
    "is_bp110 =  df_usage['Device']=='BP110'\n",
    "usage_bp110 = df_usage[is_bp110]\n",
    "dvc1 = usage_bp110.pop('Device')\n",
    "bp110 = usage_bp110.T.to_numpy()\n",
    "\n",
    "usage_bp110.shape"
   ]
  },
  {
   "cell_type": "code",
   "execution_count": 11,
   "metadata": {},
   "outputs": [
    {
     "data": {
      "text/plain": [
       "(30, 3)"
      ]
     },
     "execution_count": 11,
     "metadata": {},
     "output_type": "execute_result"
    }
   ],
   "source": [
    "# select BAHA5P data and convert the Pandas Dataframe to numpy array\n",
    "is_baha5p =  df_usage['Device']=='BAHA5P'\n",
    "usage_baha5p = df_usage[is_baha5p]\n",
    "dvc2 = usage_baha5p.pop('Device')\n",
    "bh5 = usage_baha5p.T.to_numpy()\n",
    "\n",
    "usage_baha5p.shape"
   ]
  },
  {
   "cell_type": "code",
   "execution_count": 12,
   "metadata": {},
   "outputs": [
    {
     "data": {
      "text/html": [
       "<div>\n",
       "<style scoped>\n",
       "    .dataframe tbody tr th:only-of-type {\n",
       "        vertical-align: middle;\n",
       "    }\n",
       "\n",
       "    .dataframe tbody tr th {\n",
       "        vertical-align: top;\n",
       "    }\n",
       "\n",
       "    .dataframe thead th {\n",
       "        text-align: right;\n",
       "    }\n",
       "</style>\n",
       "<table border=\"1\" class=\"dataframe\">\n",
       "  <thead>\n",
       "    <tr style=\"text-align: right;\">\n",
       "      <th></th>\n",
       "      <th>Average_use_BCD</th>\n",
       "      <th>Average_use_CROS</th>\n",
       "      <th>Diff. usage CROS-BCD</th>\n",
       "    </tr>\n",
       "  </thead>\n",
       "  <tbody>\n",
       "    <tr>\n",
       "      <th>Shapiro test statistic BH5</th>\n",
       "      <td>0.827814</td>\n",
       "      <td>0.91128</td>\n",
       "      <td>0.986445</td>\n",
       "    </tr>\n",
       "    <tr>\n",
       "      <th>p-value BH5</th>\n",
       "      <td>0.00022</td>\n",
       "      <td>0.016031</td>\n",
       "      <td>0.959155</td>\n",
       "    </tr>\n",
       "    <tr>\n",
       "      <th>normally distributed in BH5</th>\n",
       "      <td>False</td>\n",
       "      <td>False</td>\n",
       "      <td>True</td>\n",
       "    </tr>\n",
       "    <tr>\n",
       "      <th>Shapiro test statistic BP110</th>\n",
       "      <td>0.766666</td>\n",
       "      <td>0.921719</td>\n",
       "      <td>0.957592</td>\n",
       "    </tr>\n",
       "    <tr>\n",
       "      <th>p-value BP110</th>\n",
       "      <td>0.000001</td>\n",
       "      <td>0.007745</td>\n",
       "      <td>0.129485</td>\n",
       "    </tr>\n",
       "    <tr>\n",
       "      <th>normally distributed in BP110</th>\n",
       "      <td>False</td>\n",
       "      <td>False</td>\n",
       "      <td>True</td>\n",
       "    </tr>\n",
       "    <tr>\n",
       "      <th>normally distributed in both groups</th>\n",
       "      <td>False</td>\n",
       "      <td>False</td>\n",
       "      <td>True</td>\n",
       "    </tr>\n",
       "  </tbody>\n",
       "</table>\n",
       "</div>"
      ],
      "text/plain": [
       "                                    Average_use_BCD Average_use_CROS  \\\n",
       "Shapiro test statistic BH5                 0.827814          0.91128   \n",
       "p-value BH5                                 0.00022         0.016031   \n",
       "normally distributed in BH5                   False            False   \n",
       "Shapiro test statistic BP110               0.766666         0.921719   \n",
       "p-value BP110                              0.000001         0.007745   \n",
       "normally distributed in BP110                 False            False   \n",
       "normally distributed in both groups           False            False   \n",
       "\n",
       "                                    Diff. usage CROS-BCD  \n",
       "Shapiro test statistic BH5                      0.986445  \n",
       "p-value BH5                                     0.959155  \n",
       "normally distributed in BH5                         True  \n",
       "Shapiro test statistic BP110                    0.957592  \n",
       "p-value BP110                                   0.129485  \n",
       "normally distributed in BP110                       True  \n",
       "normally distributed in both groups                 True  "
      ]
     },
     "execution_count": 12,
     "metadata": {},
     "output_type": "execute_result"
    }
   ],
   "source": [
    "# check normality AC thresholds group BAHA5P & BP110 with Shapiro-Wilk test\n",
    "\n",
    "shp = dict()\n",
    "f = ['Average_use_BCD', 'Average_use_CROS', 'Diff. usage CROS-BCD']\n",
    "\n",
    "for i in range(3):\n",
    "    a = usage_baha5p.iloc[:, i]\n",
    "    b = usage_bp110.iloc[:, i]\n",
    "    shapiro_stat_bh5, pVal_bh5 = shapiro(a) # bh5 scipy.stats Shapiro-Wilk test test\n",
    "    shapiro_stat_bp110, pVal_bp110 = shapiro(b) # bp110 scipy.stats Shapiro-Wilk test test\n",
    "    bh5_is_normal = False if pVal_bh5 < 0.05 else True\n",
    "    bp110_is_normal = False if pVal_bp110 < 0.05 else True\n",
    "    both_is_normal = True if bh5_is_normal and bp110_is_normal else False\n",
    "    st = {f[i]: [shapiro_stat_bh5, pVal_bh5, bh5_is_normal, shapiro_stat_bp110, pVal_bp110, bp110_is_normal, both_is_normal]}\n",
    "    shp.update(st)\n",
    "\n",
    "shapiro_test = pd.DataFrame.from_dict(shp)\n",
    "dish =  {0: 'Shapiro test statistic BH5', 1: 'p-value BH5', 2: 'normally distributed in BH5', 3: 'Shapiro test statistic BP110', \n",
    "         4: 'p-value BP110', 5: 'normally distributed in BP110', 6: 'normally distributed in both groups'}\n",
    "shapiro_test = shapiro_test.rename(index=dish)\n",
    "shapiro_test"
   ]
  },
  {
   "cell_type": "code",
   "execution_count": 13,
   "metadata": {},
   "outputs": [],
   "source": [
    "# compare distribution of Usage between groups BP110 & BAHA5P with Mann Whitney U test\n",
    "d1 = dict()\n",
    "d2 = dict()\n",
    "for i in range(0, 3):\n",
    "    (stat, pvalue) = mannwhitneyu(bp110[i], bh5[i], use_continuity=False, alternative='two-sided')\n",
    "    d1.update({i : stat})\n",
    "    d2.update({i : pvalue})"
   ]
  },
  {
   "cell_type": "code",
   "execution_count": 14,
   "metadata": {},
   "outputs": [
    {
     "data": {
      "text/html": [
       "<div>\n",
       "<style scoped>\n",
       "    .dataframe tbody tr th:only-of-type {\n",
       "        vertical-align: middle;\n",
       "    }\n",
       "\n",
       "    .dataframe tbody tr th {\n",
       "        vertical-align: top;\n",
       "    }\n",
       "\n",
       "    .dataframe thead th {\n",
       "        text-align: right;\n",
       "    }\n",
       "</style>\n",
       "<table border=\"1\" class=\"dataframe\">\n",
       "  <thead>\n",
       "    <tr style=\"text-align: right;\">\n",
       "      <th></th>\n",
       "      <th>Average_use_BCD</th>\n",
       "      <th>Average_use_CROS</th>\n",
       "      <th>Diff. usage CROS-BCD</th>\n",
       "    </tr>\n",
       "  </thead>\n",
       "  <tbody>\n",
       "    <tr>\n",
       "      <th>Mann-Whitney U statistic</th>\n",
       "      <td>525.5000</td>\n",
       "      <td>502.5000</td>\n",
       "      <td>565.0000</td>\n",
       "    </tr>\n",
       "    <tr>\n",
       "      <th>p-value (two-sided)</th>\n",
       "      <td>0.2969</td>\n",
       "      <td>0.1903</td>\n",
       "      <td>0.5605</td>\n",
       "    </tr>\n",
       "  </tbody>\n",
       "</table>\n",
       "</div>"
      ],
      "text/plain": [
       "                          Average_use_BCD  Average_use_CROS  \\\n",
       "Mann-Whitney U statistic         525.5000          502.5000   \n",
       "p-value (two-sided)                0.2969            0.1903   \n",
       "\n",
       "                          Diff. usage CROS-BCD  \n",
       "Mann-Whitney U statistic              565.0000  \n",
       "p-value (two-sided)                     0.5605  "
      ]
     },
     "execution_count": 14,
     "metadata": {},
     "output_type": "execute_result"
    }
   ],
   "source": [
    "mwu = pd.DataFrame.from_dict([d1, d2])\n",
    "rws = {0: 'Mann-Whitney U statistic', 1: 'p-value (two-sided)'}\n",
    "clmns = {0 : 'Average_use_BCD', 1 : 'Average_use_CROS', 2 : 'Diff. usage CROS-BCD'}\n",
    "mwu.rename(index = rws, columns = clmns, inplace = True)\n",
    "mwu = mwu.round(decimals=4)\n",
    "mwu"
   ]
  },
  {
   "cell_type": "code",
   "execution_count": 15,
   "metadata": {},
   "outputs": [
    {
     "data": {
      "text/html": [
       "<div>\n",
       "<style scoped>\n",
       "    .dataframe tbody tr th:only-of-type {\n",
       "        vertical-align: middle;\n",
       "    }\n",
       "\n",
       "    .dataframe tbody tr th {\n",
       "        vertical-align: top;\n",
       "    }\n",
       "\n",
       "    .dataframe thead th {\n",
       "        text-align: right;\n",
       "    }\n",
       "</style>\n",
       "<table border=\"1\" class=\"dataframe\">\n",
       "  <thead>\n",
       "    <tr style=\"text-align: right;\">\n",
       "      <th></th>\n",
       "      <th>Average_use_BCD</th>\n",
       "      <th>Average_use_CROS</th>\n",
       "      <th>Diff. usage CROS-BCD</th>\n",
       "    </tr>\n",
       "  </thead>\n",
       "  <tbody>\n",
       "    <tr>\n",
       "      <th>BAHA5P P10</th>\n",
       "      <td>0.100</td>\n",
       "      <td>2.20</td>\n",
       "      <td>-0.80</td>\n",
       "    </tr>\n",
       "    <tr>\n",
       "      <th>BAHA5P P50</th>\n",
       "      <td>1.500</td>\n",
       "      <td>5.80</td>\n",
       "      <td>4.80</td>\n",
       "    </tr>\n",
       "    <tr>\n",
       "      <th>BAHA5P P90</th>\n",
       "      <td>4.900</td>\n",
       "      <td>11.40</td>\n",
       "      <td>10.40</td>\n",
       "    </tr>\n",
       "    <tr>\n",
       "      <th>BP110 P10</th>\n",
       "      <td>0.100</td>\n",
       "      <td>1.00</td>\n",
       "      <td>-0.50</td>\n",
       "    </tr>\n",
       "    <tr>\n",
       "      <th>BP110 P50</th>\n",
       "      <td>0.700</td>\n",
       "      <td>4.90</td>\n",
       "      <td>3.10</td>\n",
       "    </tr>\n",
       "    <tr>\n",
       "      <th>BP110 P90</th>\n",
       "      <td>4.800</td>\n",
       "      <td>11.50</td>\n",
       "      <td>11.20</td>\n",
       "    </tr>\n",
       "    <tr>\n",
       "      <th>Mann-Whitney U statistic</th>\n",
       "      <td>525.500</td>\n",
       "      <td>502.50</td>\n",
       "      <td>565.00</td>\n",
       "    </tr>\n",
       "    <tr>\n",
       "      <th>p-value (two-sided)</th>\n",
       "      <td>0.297</td>\n",
       "      <td>0.19</td>\n",
       "      <td>0.56</td>\n",
       "    </tr>\n",
       "  </tbody>\n",
       "</table>\n",
       "</div>"
      ],
      "text/plain": [
       "                          Average_use_BCD  Average_use_CROS  \\\n",
       "BAHA5P P10                          0.100              2.20   \n",
       "BAHA5P P50                          1.500              5.80   \n",
       "BAHA5P P90                          4.900             11.40   \n",
       "BP110 P10                           0.100              1.00   \n",
       "BP110 P50                           0.700              4.90   \n",
       "BP110 P90                           4.800             11.50   \n",
       "Mann-Whitney U statistic          525.500            502.50   \n",
       "p-value (two-sided)                 0.297              0.19   \n",
       "\n",
       "                          Diff. usage CROS-BCD  \n",
       "BAHA5P P10                               -0.80  \n",
       "BAHA5P P50                                4.80  \n",
       "BAHA5P P90                               10.40  \n",
       "BP110 P10                                -0.50  \n",
       "BP110 P50                                 3.10  \n",
       "BP110 P90                                11.20  \n",
       "Mann-Whitney U statistic                565.00  \n",
       "p-value (two-sided)                       0.56  "
      ]
     },
     "execution_count": 15,
     "metadata": {},
     "output_type": "execute_result"
    }
   ],
   "source": [
    "analysis_output = pd.concat([q, mwu])\n",
    "analysis_output = analysis_output.round(decimals=3)\n",
    "analysis_output"
   ]
  },
  {
   "cell_type": "code",
   "execution_count": 16,
   "metadata": {},
   "outputs": [],
   "source": [
    "# write to xlsx file\n",
    "analysis_output.to_excel(\"/media/guido/LACIE/Cingle_Guido/Project_band/Analysis_results/analysis_usage_BCD_vs_CROS.xlsx\",\n",
    "                         sheet_name='analysis_usage_BCD_vs_CROS')  "
   ]
  },
  {
   "cell_type": "code",
   "execution_count": 17,
   "metadata": {},
   "outputs": [
    {
     "data": {
      "text/plain": [
       "WilcoxonResult(statistic=38.0, pvalue=6.319756764397932e-05)"
      ]
     },
     "execution_count": 17,
     "metadata": {},
     "output_type": "execute_result"
    }
   ],
   "source": [
    "# test difference usage in group BAHA5P\n",
    "w_bh5 = wilcoxon(bh5[2]) \n",
    "w_bh5 #baha5p vs CROS"
   ]
  },
  {
   "cell_type": "code",
   "execution_count": 18,
   "metadata": {},
   "outputs": [
    {
     "data": {
      "text/plain": [
       "WilcoxonResult(statistic=94.0, pvalue=1.2966432052269752e-05)"
      ]
     },
     "execution_count": 18,
     "metadata": {},
     "output_type": "execute_result"
    }
   ],
   "source": [
    "# test difference usage in group BP110\n",
    "w_bp110 = wilcoxon(bp110[2])\n",
    "w_bp110 #bp110 vs CROS"
   ]
  },
  {
   "cell_type": "code",
   "execution_count": 19,
   "metadata": {},
   "outputs": [
    {
     "data": {
      "image/png": "[encoded data removed]",
      "text/plain": [
       "<Figure size 576x432 with 1 Axes>"
      ]
     },
     "metadata": {
      "needs_background": "light"
     },
     "output_type": "display_data"
    }
   ],
   "source": [
    "# make a figure to plot the usage of the 2 groups separetely\n",
    "ttl = 'Average Daily use of BCD and CROS in the BP110 and BAHA5P groups'\n",
    "\n",
    "d = {'BP110 use' : bp110[0], 'CROS use BP110-group' : bp110[1], 'BAHA5P use' : bh5[0], \n",
    "     'CROS use BAHA5P-group' : bh5[1]} \n",
    "\n",
    "pp = pd.DataFrame.from_dict(d, orient='index')\n",
    "pp = pp.transpose()\n",
    "tp = pd.melt(pp, var_name = 'Group and device', value_name = 'Mean Device Daily Use [Hours]') \n",
    "\n",
    "fig, ax = plt.subplots(constrained_layout=True)\n",
    "\n",
    "fig.set_figheight(6)\n",
    "fig.set_figwidth(8)\n",
    "\n",
    "ax = sns.swarmplot(data = tp, x = 'Group and device', y = 'Mean Device Daily Use [Hours]', \n",
    "                   size=6, palette='colorblind')\n",
    "\n",
    "ax.set_title(ttl)\n",
    "#plt.legend(bbox_to_anchor=(0.15, 0.25), fontsize='large')\n",
    "\n",
    "# save figure to file\n",
    "plt.savefig('/media/guido/LACIE/Cingle_Guido/Project_band/Analysis_results/usage_BCD_vs_CROS.tiff', \n",
    "           transparent=False, dpi=500, bbox_inches=\"tight\")\n",
    "\n",
    "plt.show()"
   ]
  },
  {
   "cell_type": "code",
   "execution_count": 20,
   "metadata": {},
   "outputs": [
    {
     "data": {
      "image/png": "[encoded data removed]",
      "text/plain": [
       "<Figure size 288x288 with 1 Axes>"
      ]
     },
     "metadata": {
      "needs_background": "light"
     },
     "output_type": "display_data"
    }
   ],
   "source": [
    "# make a violin plot about Usage BAHA5P vs. CROS\n",
    "\n",
    "plt.style.use('seaborn-paper')\n",
    "plt.rcParams['axes.facecolor'] = 'white'\n",
    "\n",
    "fig, ax = plt.subplots(constrained_layout=True)\n",
    "\n",
    "fig.set_figheight(4)\n",
    "fig.set_figwidth(4)\n",
    "\n",
    "ax.set(xlabel='Device', ylabel='CVC-score',\n",
    "       title='Usage BAHA5P vs. CROS, N = 30')\n",
    "\n",
    "ax.set_xticks([1, 2])\n",
    "ax.set_xticklabels(['BAHA5P', 'CROS'])\n",
    "\n",
    "violin = ax.violinplot(dataset = [bh5[0], bh5[1]], showmedians=True)\n",
    "\n",
    "for viol in violin['bodies']:\n",
    "    viol.set_facecolor('grey')\n",
    "    viol.set_alpha(0.5)"
   ]
  },
  {
   "cell_type": "code",
   "execution_count": 21,
   "metadata": {},
   "outputs": [
    {
     "data": {
      "image/png": "[encoded data removed]",
      "text/plain": [
       "<Figure size 288x288 with 1 Axes>"
      ]
     },
     "metadata": {
      "needs_background": "light"
     },
     "output_type": "display_data"
    }
   ],
   "source": [
    "# make a violin plot about Usage BP110 vs. CROS\n",
    "\n",
    "plt.style.use('seaborn-paper')\n",
    "plt.rcParams['axes.facecolor'] = 'white'\n",
    "\n",
    "fig, ax = plt.subplots(constrained_layout=True)\n",
    "\n",
    "fig.set_figheight(4)\n",
    "fig.set_figwidth(4)\n",
    "\n",
    "ax.set(xlabel='Device', ylabel='CVC-score',\n",
    "       title='Usage BP110 vs. CROS, N = 41')\n",
    "\n",
    "ax.set_xticks([1, 2])\n",
    "ax.set_xticklabels(['BP110', 'CROS'])\n",
    "\n",
    "violin = ax.violinplot(dataset = [bp110[0], bp110[1]], showmedians=True)\n",
    "\n",
    "for viol in violin['bodies']:\n",
    "    viol.set_facecolor('grey')\n",
    "    viol.set_alpha(0.5)"
   ]
  },
  {
   "cell_type": "code",
   "execution_count": 22,
   "metadata": {},
   "outputs": [
    {
     "data": {
      "image/png": "[encoded data removed]",
      "text/plain": [
       "<Figure size 288x288 with 1 Axes>"
      ]
     },
     "metadata": {
      "needs_background": "light"
     },
     "output_type": "display_data"
    }
   ],
   "source": [
    "# make a violin plot about Usage BP110 vs. BAHA5P\n",
    "\n",
    "plt.style.use('seaborn-paper')\n",
    "plt.rcParams['axes.facecolor'] = 'white'\n",
    "\n",
    "fig, ax = plt.subplots(constrained_layout=True)\n",
    "\n",
    "fig.set_figheight(4)\n",
    "fig.set_figwidth(4)\n",
    "\n",
    "ax.set(xlabel='Device', ylabel='CVC-score',\n",
    "       title='Usage BP110 vs. BAHA5P, N = 41 vs. 30')\n",
    "\n",
    "ax.set_xticks([1, 2])\n",
    "ax.set_xticklabels(['BP110 (N=41)', 'BAHA5P (N=30)'])\n",
    "\n",
    "violin = ax.violinplot(dataset = [bp110[0], bh5[0]], showmedians=True)\n",
    "\n",
    "for viol in violin['bodies']:\n",
    "    viol.set_facecolor('grey')\n",
    "    viol.set_alpha(0.5)"
   ]
  }
 ],
 "metadata": {
  "kernelspec": {
   "display_name": "Python 3 (ipykernel)",
   "language": "python",
   "name": "python3"
  },
  "language_info": {
   "codemirror_mode": {
    "name": "ipython",
    "version": 3
   },
   "file_extension": ".py",
   "mimetype": "text/x-python",
   "name": "python",
   "nbconvert_exporter": "python",
   "pygments_lexer": "ipython3",
   "version": "3.8.12"
  }
 },
 "nbformat": 4,
 "nbformat_minor": 4
}
