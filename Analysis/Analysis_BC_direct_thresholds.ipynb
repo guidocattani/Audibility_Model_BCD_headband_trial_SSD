{
 "cells": [
  {
   "cell_type": "markdown",
   "metadata": {},
   "source": [
    "# Analysis BC direct thresholds vs. device type"
   ]
  },
  {
   "cell_type": "markdown",
   "metadata": {},
   "source": [
    "15 November 2020 Guido Cattani, Revision 31-10-2022"
   ]
  },
  {
   "cell_type": "code",
   "execution_count": 1,
   "metadata": {},
   "outputs": [],
   "source": [
    "from pathlib import Path\n",
    "import pandas as pd\n",
    "import numpy as np\n",
    "import matplotlib\n",
    "import matplotlib.pyplot as plt\n",
    "import matplotlib.lines as mlines\n",
    "import matplotlib.patches as mpatches\n",
    "from scipy.stats import mannwhitneyu as mannwhitneyu\n",
    "from scipy.stats import shapiro as shapiro"
   ]
  },
  {
   "cell_type": "code",
   "execution_count": 2,
   "metadata": {},
   "outputs": [],
   "source": [
    "def read_BC_direct():\n",
    "    f_in = '/media/guido/LACIE/Cingle_Guido/Master/Headband/BC_direct_thresholds.xlsx'\n",
    "    p_in = Path(f_in)   \n",
    "    df = pd.read_excel(p_in, sheet_name=0, header=0, index_col= 1, nrows=85)\n",
    "    df = df.drop(['Unnamed: 0'], axis=1)\n",
    "    type_dict = {'Device': 'str',\n",
    "             'BCd_250':'float32', 'BCd_250':'float32', 'BCd_500':'float32', \n",
    "             'BCd_1000': 'float32', 'BCd_1500': 'float32', 'BCd_2000': 'float32', 'BCd_3000': 'float32', \n",
    "             'BCd_4000': 'float32'}\n",
    "    df = df.astype(type_dict)\n",
    "    df = df.fillna(pd.NA)\n",
    "    df = df.rename(columns={'Device': 'BCD_type'})\n",
    "    return df"
   ]
  },
  {
   "cell_type": "code",
   "execution_count": 3,
   "metadata": {},
   "outputs": [],
   "source": [
    "def present_BCdirect_thresholds():\n",
    "    bc = read_BC_direct()\n",
    "    bc1 = bc[['BCD_type', 'BCd_500', 'BCd_1000', 'BCd_2000', 'BCd_4000']].copy()\n",
    "    pta = bc1.iloc[:, 1:].mean(axis='columns')\n",
    "    bc1.dropna(inplace=True)\n",
    "    bc1.insert(5, column= 'PTA (0.5-4 kHz)', value=pta)\n",
    "    pta_hf = bc1.iloc[:, 2:].mean(axis='columns')\n",
    "    bc1.insert(6, column= 'PTA_HF (1-4 kHz)', value=pta_hf)\n",
    "    bc1.dropna(inplace=True)\n",
    "    type_dict = {'BCD_type': 'str', 'BCd_500':'float32', 'BCd_1000': 'float32', \n",
    "                 'BCd_2000': 'float32', 'BCd_4000': 'float32'}    \n",
    "    bc1 = bc1.astype(type_dict)\n",
    "    return bc1"
   ]
  },
  {
   "cell_type": "code",
   "execution_count": 4,
   "metadata": {},
   "outputs": [],
   "source": [
    "def select_bp110(df):\n",
    "    # select BP110 data\n",
    "    is_bp110 =  df['BCD_type']=='BP110'\n",
    "    df_bp110 = df[is_bp110]\n",
    "    df_bp110.pop('BCD_type')\n",
    "    return(df_bp110)"
   ]
  },
  {
   "cell_type": "code",
   "execution_count": 5,
   "metadata": {},
   "outputs": [],
   "source": [
    "def select_bh5(df):\n",
    "    # select BAHA5P data\n",
    "    is_baha5p =  df['BCD_type']=='BAHA5P'\n",
    "    df_baha5p = df[is_baha5p]\n",
    "    df_baha5p.pop('BCD_type')\n",
    "    return(df_baha5p)"
   ]
  },
  {
   "cell_type": "code",
   "execution_count": 6,
   "metadata": {},
   "outputs": [],
   "source": [
    "bct = present_BCdirect_thresholds()"
   ]
  },
  {
   "cell_type": "code",
   "execution_count": 7,
   "metadata": {},
   "outputs": [
    {
     "data": {
      "text/plain": [
       "83"
      ]
     },
     "execution_count": 7,
     "metadata": {},
     "output_type": "execute_result"
    }
   ],
   "source": [
    "len(bct)"
   ]
  },
  {
   "cell_type": "code",
   "execution_count": 8,
   "metadata": {},
   "outputs": [],
   "source": [
    "# select BC direct threshold by device type\n",
    "bct_bh5 = select_bh5(bct)\n",
    "bct_bp110 = select_bp110(bct)"
   ]
  },
  {
   "cell_type": "code",
   "execution_count": 9,
   "metadata": {},
   "outputs": [
    {
     "data": {
      "text/plain": [
       "36"
      ]
     },
     "execution_count": 9,
     "metadata": {},
     "output_type": "execute_result"
    }
   ],
   "source": [
    "len(bct_bh5)"
   ]
  },
  {
   "cell_type": "code",
   "execution_count": 10,
   "metadata": {},
   "outputs": [
    {
     "data": {
      "text/plain": [
       "47"
      ]
     },
     "execution_count": 10,
     "metadata": {},
     "output_type": "execute_result"
    }
   ],
   "source": [
    "len(bct_bp110)"
   ]
  },
  {
   "cell_type": "code",
   "execution_count": 11,
   "metadata": {},
   "outputs": [],
   "source": [
    "dvc = bct.groupby('BCD_type')\n",
    "quantiles = [0.10, 0.50, 0.90]\n",
    "q = dvc.quantile(q=quantiles)"
   ]
  },
  {
   "cell_type": "code",
   "execution_count": 12,
   "metadata": {},
   "outputs": [],
   "source": [
    "# group data by device type and perform calculation of quantiles 10, 50, 90\n",
    "dvc = bct.groupby('BCD_type')\n",
    "quantiles = [0.10, 0.50, 0.90]\n",
    "q = dvc.quantile(q=quantiles)\n",
    "q = q.reset_index()\n",
    "q = q.drop(['BCD_type', 'level_1'], axis=1)\n",
    "diq = {0:'BAHA5P, P10', 1:'BAHA5P, P50', 2:'BAHA5P, P90', \n",
    "       3:'BP110, P10', 4:'BP110, P50', 5:'BP110, P90'} \n",
    "q = q.rename(index=diq)\n",
    "q = q.reindex(['BP110, P10', 'BP110, P50', 'BP110, P90', \n",
    "           'BAHA5P, P10', 'BAHA5P, P50', 'BAHA5P, P90'])"
   ]
  },
  {
   "cell_type": "code",
   "execution_count": 13,
   "metadata": {},
   "outputs": [
    {
     "data": {
      "text/html": [
       "<div>\n",
       "<style scoped>\n",
       "    .dataframe tbody tr th:only-of-type {\n",
       "        vertical-align: middle;\n",
       "    }\n",
       "\n",
       "    .dataframe tbody tr th {\n",
       "        vertical-align: top;\n",
       "    }\n",
       "\n",
       "    .dataframe thead th {\n",
       "        text-align: right;\n",
       "    }\n",
       "</style>\n",
       "<table border=\"1\" class=\"dataframe\">\n",
       "  <thead>\n",
       "    <tr style=\"text-align: right;\">\n",
       "      <th></th>\n",
       "      <th>BCd_500</th>\n",
       "      <th>BCd_1000</th>\n",
       "      <th>BCd_2000</th>\n",
       "      <th>BCd_4000</th>\n",
       "      <th>PTA (0.5-4 kHz)</th>\n",
       "      <th>PTA_HF (1-4 kHz)</th>\n",
       "    </tr>\n",
       "  </thead>\n",
       "  <tbody>\n",
       "    <tr>\n",
       "      <th>Shapiro test statistic BH5</th>\n",
       "      <td>0.910589</td>\n",
       "      <td>0.881377</td>\n",
       "      <td>0.931269</td>\n",
       "      <td>0.940356</td>\n",
       "      <td>0.935204</td>\n",
       "      <td>0.930259</td>\n",
       "    </tr>\n",
       "    <tr>\n",
       "      <th>p-value BH5</th>\n",
       "      <td>0.006732</td>\n",
       "      <td>0.001098</td>\n",
       "      <td>0.027351</td>\n",
       "      <td>0.052114</td>\n",
       "      <td>0.036093</td>\n",
       "      <td>0.025484</td>\n",
       "    </tr>\n",
       "    <tr>\n",
       "      <th>normally distributed in BH5</th>\n",
       "      <td>False</td>\n",
       "      <td>False</td>\n",
       "      <td>False</td>\n",
       "      <td>True</td>\n",
       "      <td>False</td>\n",
       "      <td>False</td>\n",
       "    </tr>\n",
       "    <tr>\n",
       "      <th>Shapiro test statistic BP110</th>\n",
       "      <td>0.961118</td>\n",
       "      <td>0.947119</td>\n",
       "      <td>0.963741</td>\n",
       "      <td>0.90462</td>\n",
       "      <td>0.971976</td>\n",
       "      <td>0.967496</td>\n",
       "    </tr>\n",
       "    <tr>\n",
       "      <th>p-value BP110</th>\n",
       "      <td>0.119157</td>\n",
       "      <td>0.033428</td>\n",
       "      <td>0.151306</td>\n",
       "      <td>0.001015</td>\n",
       "      <td>0.314402</td>\n",
       "      <td>0.212282</td>\n",
       "    </tr>\n",
       "    <tr>\n",
       "      <th>normally distributed in BP110</th>\n",
       "      <td>True</td>\n",
       "      <td>False</td>\n",
       "      <td>True</td>\n",
       "      <td>False</td>\n",
       "      <td>True</td>\n",
       "      <td>True</td>\n",
       "    </tr>\n",
       "    <tr>\n",
       "      <th>normally distributed in both groups</th>\n",
       "      <td>False</td>\n",
       "      <td>False</td>\n",
       "      <td>False</td>\n",
       "      <td>False</td>\n",
       "      <td>False</td>\n",
       "      <td>False</td>\n",
       "    </tr>\n",
       "  </tbody>\n",
       "</table>\n",
       "</div>"
      ],
      "text/plain": [
       "                                      BCd_500  BCd_1000  BCd_2000  BCd_4000  \\\n",
       "Shapiro test statistic BH5           0.910589  0.881377  0.931269  0.940356   \n",
       "p-value BH5                          0.006732  0.001098  0.027351  0.052114   \n",
       "normally distributed in BH5             False     False     False      True   \n",
       "Shapiro test statistic BP110         0.961118  0.947119  0.963741   0.90462   \n",
       "p-value BP110                        0.119157  0.033428  0.151306  0.001015   \n",
       "normally distributed in BP110            True     False      True     False   \n",
       "normally distributed in both groups     False     False     False     False   \n",
       "\n",
       "                                    PTA (0.5-4 kHz) PTA_HF (1-4 kHz)  \n",
       "Shapiro test statistic BH5                 0.935204         0.930259  \n",
       "p-value BH5                                0.036093         0.025484  \n",
       "normally distributed in BH5                   False            False  \n",
       "Shapiro test statistic BP110               0.971976         0.967496  \n",
       "p-value BP110                              0.314402         0.212282  \n",
       "normally distributed in BP110                  True             True  \n",
       "normally distributed in both groups           False            False  "
      ]
     },
     "execution_count": 13,
     "metadata": {},
     "output_type": "execute_result"
    }
   ],
   "source": [
    "# check normality BC direct thresholds group BAHA5P & BP110 with Shapiro-Wilk test\n",
    "\n",
    "shp = dict()\n",
    "f = ['BCd_500', 'BCd_1000', 'BCd_2000', 'BCd_4000', 'PTA (0.5-4 kHz)', 'PTA_HF (1-4 kHz)']\n",
    "\n",
    "for i in range(6):\n",
    "    a = bct_bh5.iloc[:, i]\n",
    "    b = bct_bp110.iloc[:, i]\n",
    "    shapiro_stat_bh5, pVal_bh5 = shapiro(a) # bh5 scipy.stats Shapiro-Wilk test test\n",
    "    shapiro_stat_bp110, pVal_bp110 = shapiro(b) # bp110 scipy.stats Shapiro-Wilk test test\n",
    "    bh5_is_normal = False if pVal_bh5 < 0.05 else True\n",
    "    bp110_is_normal = False if pVal_bp110 < 0.05 else True\n",
    "    both_is_normal = True if bh5_is_normal and bp110_is_normal else False\n",
    "    st = {f[i]: [shapiro_stat_bh5, pVal_bh5, bh5_is_normal, shapiro_stat_bp110, pVal_bp110, bp110_is_normal, both_is_normal]}\n",
    "    shp.update(st)\n",
    "\n",
    "shapiro_test = pd.DataFrame.from_dict(shp)\n",
    "dish =  {0: 'Shapiro test statistic BH5', 1: 'p-value BH5', 2: 'normally distributed in BH5', 3: 'Shapiro test statistic BP110', \n",
    "         4: 'p-value BP110', 5: 'normally distributed in BP110', 6: 'normally distributed in both groups'}\n",
    "shapiro_test = shapiro_test.rename(index=dish)\n",
    "shapiro_test"
   ]
  },
  {
   "cell_type": "code",
   "execution_count": 14,
   "metadata": {},
   "outputs": [],
   "source": [
    "# compare distribution thresholds group BAHA5P vs. BP110 with Mann Whitney U test\n",
    "\n",
    "mwu = dict()\n",
    "f = ['BCd_500', 'BCd_1000', 'BCd_2000', 'BCd_4000', 'PTA (0.5-4 kHz)', 'PTA_HF (1-4 kHz)']\n",
    "\n",
    "for i in range(6):\n",
    "    a = bct_bh5.iloc[:, i]\n",
    "    b = bct_bp110.iloc[:, i]\n",
    "    u_statistic, pVal = mannwhitneyu(a , b, use_continuity=False, alternative='two-sided') # scipy.stats mannwhitneyu test\n",
    "    pVal = round(pVal, 15)\n",
    "    st = {f[i]: [u_statistic, pVal]}\n",
    "    mwu.update(st)\n",
    "\n",
    "u_test = pd.DataFrame.from_dict(mwu, dtype='float')\n",
    "diu =  {0: 'Mann-Whitney U statistic', 1: 'p-value (two-sided)'}\n",
    "u_test = u_test.rename(index=diu)"
   ]
  },
  {
   "cell_type": "code",
   "execution_count": 15,
   "metadata": {},
   "outputs": [
    {
     "data": {
      "text/html": [
       "<div>\n",
       "<style scoped>\n",
       "    .dataframe tbody tr th:only-of-type {\n",
       "        vertical-align: middle;\n",
       "    }\n",
       "\n",
       "    .dataframe tbody tr th {\n",
       "        vertical-align: top;\n",
       "    }\n",
       "\n",
       "    .dataframe thead th {\n",
       "        text-align: right;\n",
       "    }\n",
       "</style>\n",
       "<table border=\"1\" class=\"dataframe\">\n",
       "  <thead>\n",
       "    <tr style=\"text-align: right;\">\n",
       "      <th></th>\n",
       "      <th>BCd_500</th>\n",
       "      <th>BCd_1000</th>\n",
       "      <th>BCd_2000</th>\n",
       "      <th>BCd_4000</th>\n",
       "      <th>PTA (0.5-4 kHz)</th>\n",
       "      <th>PTA_HF (1-4 kHz)</th>\n",
       "    </tr>\n",
       "  </thead>\n",
       "  <tbody>\n",
       "    <tr>\n",
       "      <th>BP110, P10</th>\n",
       "      <td>15.0</td>\n",
       "      <td>15.0</td>\n",
       "      <td>23.0</td>\n",
       "      <td>28.0</td>\n",
       "      <td>26.25</td>\n",
       "      <td>25.625</td>\n",
       "    </tr>\n",
       "    <tr>\n",
       "      <th>BP110, P50</th>\n",
       "      <td>25.0</td>\n",
       "      <td>25.0</td>\n",
       "      <td>30.0</td>\n",
       "      <td>40.0</td>\n",
       "      <td>32.5</td>\n",
       "      <td>34.375</td>\n",
       "    </tr>\n",
       "    <tr>\n",
       "      <th>BP110, P90</th>\n",
       "      <td>37.0</td>\n",
       "      <td>40.0</td>\n",
       "      <td>45.0</td>\n",
       "      <td>67.0</td>\n",
       "      <td>38.75</td>\n",
       "      <td>40.4375</td>\n",
       "    </tr>\n",
       "    <tr>\n",
       "      <th>BAHA5P, P10</th>\n",
       "      <td>20.0</td>\n",
       "      <td>17.5</td>\n",
       "      <td>20.0</td>\n",
       "      <td>25.0</td>\n",
       "      <td>24.375</td>\n",
       "      <td>24.0625</td>\n",
       "    </tr>\n",
       "    <tr>\n",
       "      <th>BAHA5P, P50</th>\n",
       "      <td>32.5</td>\n",
       "      <td>22.5</td>\n",
       "      <td>30.0</td>\n",
       "      <td>35.0</td>\n",
       "      <td>30.625</td>\n",
       "      <td>29.84375</td>\n",
       "    </tr>\n",
       "    <tr>\n",
       "      <th>BAHA5P, P90</th>\n",
       "      <td>42.5</td>\n",
       "      <td>32.5</td>\n",
       "      <td>42.5</td>\n",
       "      <td>52.5</td>\n",
       "      <td>40.625</td>\n",
       "      <td>40.78125</td>\n",
       "    </tr>\n",
       "    <tr>\n",
       "      <th>Shapiro test statistic BH5</th>\n",
       "      <td>0.910589</td>\n",
       "      <td>0.881377</td>\n",
       "      <td>0.931269</td>\n",
       "      <td>0.940356</td>\n",
       "      <td>0.935204</td>\n",
       "      <td>0.930259</td>\n",
       "    </tr>\n",
       "    <tr>\n",
       "      <th>p-value BH5</th>\n",
       "      <td>0.006732</td>\n",
       "      <td>0.001098</td>\n",
       "      <td>0.027351</td>\n",
       "      <td>0.052114</td>\n",
       "      <td>0.036093</td>\n",
       "      <td>0.025484</td>\n",
       "    </tr>\n",
       "    <tr>\n",
       "      <th>normally distributed in BH5</th>\n",
       "      <td>False</td>\n",
       "      <td>False</td>\n",
       "      <td>False</td>\n",
       "      <td>True</td>\n",
       "      <td>False</td>\n",
       "      <td>False</td>\n",
       "    </tr>\n",
       "    <tr>\n",
       "      <th>Shapiro test statistic BP110</th>\n",
       "      <td>0.961118</td>\n",
       "      <td>0.947119</td>\n",
       "      <td>0.963741</td>\n",
       "      <td>0.90462</td>\n",
       "      <td>0.971976</td>\n",
       "      <td>0.967496</td>\n",
       "    </tr>\n",
       "    <tr>\n",
       "      <th>p-value BP110</th>\n",
       "      <td>0.119157</td>\n",
       "      <td>0.033428</td>\n",
       "      <td>0.151306</td>\n",
       "      <td>0.001015</td>\n",
       "      <td>0.314402</td>\n",
       "      <td>0.212282</td>\n",
       "    </tr>\n",
       "    <tr>\n",
       "      <th>normally distributed in BP110</th>\n",
       "      <td>True</td>\n",
       "      <td>False</td>\n",
       "      <td>True</td>\n",
       "      <td>False</td>\n",
       "      <td>True</td>\n",
       "      <td>True</td>\n",
       "    </tr>\n",
       "    <tr>\n",
       "      <th>normally distributed in both groups</th>\n",
       "      <td>False</td>\n",
       "      <td>False</td>\n",
       "      <td>False</td>\n",
       "      <td>False</td>\n",
       "      <td>False</td>\n",
       "      <td>False</td>\n",
       "    </tr>\n",
       "    <tr>\n",
       "      <th>Mann-Whitney U statistic</th>\n",
       "      <td>1103.0</td>\n",
       "      <td>802.5</td>\n",
       "      <td>686.0</td>\n",
       "      <td>676.5</td>\n",
       "      <td>701.0</td>\n",
       "      <td>621.0</td>\n",
       "    </tr>\n",
       "    <tr>\n",
       "      <th>p-value (two-sided)</th>\n",
       "      <td>0.016422</td>\n",
       "      <td>0.682228</td>\n",
       "      <td>0.134428</td>\n",
       "      <td>0.114513</td>\n",
       "      <td>0.181592</td>\n",
       "      <td>0.038636</td>\n",
       "    </tr>\n",
       "  </tbody>\n",
       "</table>\n",
       "</div>"
      ],
      "text/plain": [
       "                                      BCd_500  BCd_1000  BCd_2000  BCd_4000  \\\n",
       "BP110, P10                               15.0      15.0      23.0      28.0   \n",
       "BP110, P50                               25.0      25.0      30.0      40.0   \n",
       "BP110, P90                               37.0      40.0      45.0      67.0   \n",
       "BAHA5P, P10                              20.0      17.5      20.0      25.0   \n",
       "BAHA5P, P50                              32.5      22.5      30.0      35.0   \n",
       "BAHA5P, P90                              42.5      32.5      42.5      52.5   \n",
       "Shapiro test statistic BH5           0.910589  0.881377  0.931269  0.940356   \n",
       "p-value BH5                          0.006732  0.001098  0.027351  0.052114   \n",
       "normally distributed in BH5             False     False     False      True   \n",
       "Shapiro test statistic BP110         0.961118  0.947119  0.963741   0.90462   \n",
       "p-value BP110                        0.119157  0.033428  0.151306  0.001015   \n",
       "normally distributed in BP110            True     False      True     False   \n",
       "normally distributed in both groups     False     False     False     False   \n",
       "Mann-Whitney U statistic               1103.0     802.5     686.0     676.5   \n",
       "p-value (two-sided)                  0.016422  0.682228  0.134428  0.114513   \n",
       "\n",
       "                                    PTA (0.5-4 kHz) PTA_HF (1-4 kHz)  \n",
       "BP110, P10                                    26.25           25.625  \n",
       "BP110, P50                                     32.5           34.375  \n",
       "BP110, P90                                    38.75          40.4375  \n",
       "BAHA5P, P10                                  24.375          24.0625  \n",
       "BAHA5P, P50                                  30.625         29.84375  \n",
       "BAHA5P, P90                                  40.625         40.78125  \n",
       "Shapiro test statistic BH5                 0.935204         0.930259  \n",
       "p-value BH5                                0.036093         0.025484  \n",
       "normally distributed in BH5                   False            False  \n",
       "Shapiro test statistic BP110               0.971976         0.967496  \n",
       "p-value BP110                              0.314402         0.212282  \n",
       "normally distributed in BP110                  True             True  \n",
       "normally distributed in both groups           False            False  \n",
       "Mann-Whitney U statistic                      701.0            621.0  \n",
       "p-value (two-sided)                        0.181592         0.038636  "
      ]
     },
     "execution_count": 15,
     "metadata": {},
     "output_type": "execute_result"
    }
   ],
   "source": [
    "# make new dataFrame with percentiles & test results\n",
    "analysis_bc = pd.concat([q, shapiro_test, u_test])\n",
    "analysis_bc = analysis_bc.round(decimals=3)\n",
    "analysis_bc"
   ]
  },
  {
   "cell_type": "code",
   "execution_count": 16,
   "metadata": {},
   "outputs": [],
   "source": [
    "# write to xlsx file\n",
    "analysis_bc.to_excel(\"/media/guido/LACIE/Cingle_Guido/Project_band/Analysis_results/analysis_BCdirect_thresholds.xlsx\",\n",
    "                         sheet_name='BC_direct_thresholds')  "
   ]
  },
  {
   "cell_type": "code",
   "execution_count": 17,
   "metadata": {},
   "outputs": [],
   "source": [
    "bp110_thr = bct_bp110.iloc[ : , :4]\n",
    "bh5_thr = bct_bh5.iloc[ : , :4]"
   ]
  },
  {
   "cell_type": "code",
   "execution_count": 18,
   "metadata": {},
   "outputs": [],
   "source": [
    "# convert Pandas object in numpy array\n",
    "frqc = np.array([500, 1000, 2000, 4000] , dtype=int)\n",
    "\n",
    "bp110 = bp110_thr.T.to_numpy()\n",
    "bh5 = bh5_thr.T.to_numpy()\n",
    "\n",
    "p10_bp110 = q.iloc[0, :4].T.to_numpy()\n",
    "median_bp110 = q.iloc[1, :4].T.to_numpy()\n",
    "p90_bp110 = q.iloc[2, :4].T.to_numpy()\n",
    "p10_bh5 = q.iloc[3, :4].T.to_numpy()\n",
    "median_bh5 = q.iloc[4, :4].T.to_numpy()\n",
    "p90_bh5 = q.iloc[5, :4].T.to_numpy()"
   ]
  },
  {
   "cell_type": "code",
   "execution_count": 19,
   "metadata": {},
   "outputs": [
    {
     "data": {
      "text/plain": [
       "[]"
      ]
     },
     "execution_count": 19,
     "metadata": {},
     "output_type": "execute_result"
    },
    {
     "data": {
      "image/png": "[encoded data removed]",
      "text/plain": [
       "<Figure size 460.8x316.8 with 1 Axes>"
      ]
     },
     "metadata": {
      "needs_background": "light"
     },
     "output_type": "display_data"
    }
   ],
   "source": [
    "# matplotlib line graph of output BAHA5P vs. BP110 \n",
    "\n",
    "plt.style.use('seaborn-paper')\n",
    "\n",
    "fig, ax = plt.subplots()\n",
    "\n",
    "ax.set(xlabel='f [Hz]', ylabel='Hearing Loss [dB HL]',\n",
    "       title='BC-direct thresholds of group BAHA5P vs. BP110')\n",
    "\n",
    "ax.set_xscale('log')\n",
    "ax.set_xticks([500, 1000, 2000, 4000])\n",
    "ax.set_xticklabels(['500', '1000', '2000', '4000'])\n",
    "ax.minorticks_off()\n",
    "ax.invert_yaxis()\n",
    "\n",
    "# plot lines based on numpy arrays\n",
    "ax.plot(frqc, bp110, color=\"dimgrey\", alpha=0.5, label='Output FL BP110')\n",
    "ax.plot(frqc, bh5, color=\"silver\", alpha=0.5, label='Output FL BAHA5P')\n",
    "ax.plot(frqc, median_bp110, color='black', marker='o', linestyle='dashed', linewidth=3, markersize=8)\n",
    "ax.plot(frqc, p10_bp110, color='black', marker='o', linestyle='dotted', linewidth=3, markersize=8)\n",
    "ax.plot(frqc, p90_bp110, color='black', marker='o', linestyle='dashdot', linewidth=3, markersize=8)\n",
    "ax.plot(frqc, median_bh5, color='black', marker='X', linestyle='dashed', linewidth=3, markersize=9)\n",
    "ax.plot(frqc, p10_bh5, color='black', marker='X', linestyle='dotted', linewidth=3, markersize=9)\n",
    "ax.plot(frqc, p90_bh5, color='black', marker='X', linestyle='dashdot', linewidth=3, markersize=9)\n",
    "\n",
    "# make a legend\n",
    "leg_line_BH5 = mlines.Line2D([], [], color=\"silver\", label='Output BAHA5P')\n",
    "leg_line_BP110 = mlines.Line2D([], [], color=\"dimgrey\", label='Output BP110')\n",
    "leg_p90_bh5 = mlines.Line2D([], [], color='black', marker='X', linestyle='dashdot', \n",
    "                            linewidth=3, markersize=9, label='P90 BAHA5P')\n",
    "leg_med_bh5 = mlines.Line2D([], [], color='black', marker='X', linestyle='dashed', \n",
    "                            linewidth=3, markersize=9, label='Median BAHA5P')\n",
    "leg_p10_bh5 = mlines.Line2D([], [], color='black', marker='X', linestyle='dotted', \n",
    "                            linewidth=3, markersize=9, label='P10 BAHA5P')\n",
    "leg_p90_bp110 = mlines.Line2D([], [], color='black', marker='o', linestyle='dashdot', \n",
    "                              linewidth=3, markersize=8, label='P90 BP110')\n",
    "leg_med_bp110 = mlines.Line2D([], [], color='black', marker='o', linestyle='dashed', \n",
    "                              linewidth=3, markersize=8, label='Median BP110')\n",
    "leg_p10_bp110 = mlines.Line2D([], [], color='black', marker='o', linestyle='dotted', \n",
    "                              linewidth=3, markersize=8, label='P10 BP110')\n",
    "\n",
    "plt.legend(handles=[leg_line_BH5, leg_line_BP110, leg_p10_bh5, leg_p10_bp110, leg_med_bh5, \n",
    "                    leg_med_bp110, leg_p90_bh5, leg_p90_bp110], bbox_to_anchor=(1.03, 1), \n",
    "                        loc='upper left', labelspacing=1.,handlelength=7.5)\n",
    "\n",
    "# save the figure\n",
    "plt.savefig('/media/guido/LACIE/Cingle_Guido/Project_band/Analysis_results/BC_direct_thresholds.tiff', \n",
    "            transparent=False, dpi=500, bbox_inches=\"tight\")\n",
    "\n",
    "# plot the figure\n",
    "plt.plot()"
   ]
  }
 ],
 "metadata": {
  "kernelspec": {
   "display_name": "Python 3 (ipykernel)",
   "language": "python",
   "name": "python3"
  },
  "language_info": {
   "codemirror_mode": {
    "name": "ipython",
    "version": 3
   },
   "file_extension": ".py",
   "mimetype": "text/x-python",
   "name": "python",
   "nbconvert_exporter": "python",
   "pygments_lexer": "ipython3",
   "version": "3.8.12"
  }
 },
 "nbformat": 4,
 "nbformat_minor": 4
}
