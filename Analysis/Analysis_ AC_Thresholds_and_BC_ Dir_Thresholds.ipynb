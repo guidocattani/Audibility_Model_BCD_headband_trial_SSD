{
 "cells": [
  {
   "cell_type": "markdown",
   "metadata": {},
   "source": [
    "# Analysis of the relation between AC thresholds and the BC direct thresholds"
   ]
  },
  {
   "cell_type": "markdown",
   "metadata": {},
   "source": [
    "14-03-2021 Guido Cattani"
   ]
  },
  {
   "cell_type": "code",
   "execution_count": 1,
   "metadata": {},
   "outputs": [],
   "source": [
    "from pathlib import Path\n",
    "import pandas as pd\n",
    "import numpy as np\n",
    "import matplotlib\n",
    "import matplotlib.pyplot as plt\n",
    "import matplotlib.lines as mlines\n",
    "import matplotlib.patches as mpatches\n",
    "from scipy.stats import linregress as linregress"
   ]
  },
  {
   "cell_type": "code",
   "execution_count": 2,
   "metadata": {},
   "outputs": [],
   "source": [
    "# read measured thresholds\n",
    "def read_AC_thresholds():\n",
    "    f_in = '/media/guido/LACIE/Cingle_Guido/Master/AC_thresholds.xlsx'\n",
    "    p_in = Path(f_in)   \n",
    "    df = pd.read_excel(p_in, engine='openpyxl', sheet_name=0, header=0, nrows=85)\n",
    "    df = df.drop(['Unnamed: 0'], axis=1)\n",
    "    type_dict = {'Study_ID': 'str', 'Device': 'str',\n",
    "             'AC_125':'float32', 'AC_250':'float32', 'AC_500':'float32', \n",
    "             'AC_1000': 'float32', 'AC_2000': 'float32', \n",
    "             'AC_4000': 'float32', 'AC_8000': 'float32'}\n",
    "    df = df.astype(type_dict)\n",
    "    df = df.drop(columns='Study_ID')\n",
    "    df = df.fillna(pd.NA)\n",
    "    return df"
   ]
  },
  {
   "cell_type": "code",
   "execution_count": 3,
   "metadata": {},
   "outputs": [],
   "source": [
    "# read measured BC direct thresholds\n",
    "def read_BC_direct_thresholds():\n",
    "    f_in = '/media/guido/LACIE/Cingle_Guido/Master/BC_direct_thresholds.xlsx'\n",
    "    p_in = Path(f_in)   \n",
    "    df = pd.read_excel(p_in, engine='openpyxl', sheet_name=0, header=0, nrows=85)\n",
    "    df = df.drop(['Unnamed: 0'], axis=1)\n",
    "    df = df.drop(columns='Study_ID')\n",
    "    df = df.fillna(pd.NA)\n",
    "    return df"
   ]
  },
  {
   "cell_type": "code",
   "execution_count": 4,
   "metadata": {},
   "outputs": [],
   "source": [
    "def select_bp110(df):\n",
    "    # select BP110 data\n",
    "    is_bp110 =  df['Device']=='BP110'\n",
    "    df_bp110 = df[is_bp110]\n",
    "    df_bp110.pop('Device')\n",
    "    return(df_bp110)"
   ]
  },
  {
   "cell_type": "code",
   "execution_count": 5,
   "metadata": {},
   "outputs": [],
   "source": [
    "def select_bh5(df):\n",
    "    # select BAHA5P data\n",
    "    is_baha5p =  df['Device']=='BAHA5P'\n",
    "    df_baha5p = df[is_baha5p]\n",
    "    df_baha5p.pop('Device')\n",
    "    return(df_baha5p)"
   ]
  },
  {
   "cell_type": "code",
   "execution_count": 6,
   "metadata": {},
   "outputs": [
    {
     "data": {
      "text/html": [
       "<div>\n",
       "<style scoped>\n",
       "    .dataframe tbody tr th:only-of-type {\n",
       "        vertical-align: middle;\n",
       "    }\n",
       "\n",
       "    .dataframe tbody tr th {\n",
       "        vertical-align: top;\n",
       "    }\n",
       "\n",
       "    .dataframe thead th {\n",
       "        text-align: right;\n",
       "    }\n",
       "</style>\n",
       "<table border=\"1\" class=\"dataframe\">\n",
       "  <thead>\n",
       "    <tr style=\"text-align: right;\">\n",
       "      <th></th>\n",
       "      <th>Device</th>\n",
       "      <th>BCd_1000</th>\n",
       "      <th>BCd_2000</th>\n",
       "      <th>BCd_4000</th>\n",
       "      <th>AC_1000</th>\n",
       "      <th>AC_2000</th>\n",
       "      <th>AC_4000</th>\n",
       "    </tr>\n",
       "  </thead>\n",
       "  <tbody>\n",
       "    <tr>\n",
       "      <th>0</th>\n",
       "      <td>BP110</td>\n",
       "      <td>35</td>\n",
       "      <td>45</td>\n",
       "      <td>35.0</td>\n",
       "      <td>10.0</td>\n",
       "      <td>10.0</td>\n",
       "      <td>0.0</td>\n",
       "    </tr>\n",
       "    <tr>\n",
       "      <th>1</th>\n",
       "      <td>BP110</td>\n",
       "      <td>30</td>\n",
       "      <td>30</td>\n",
       "      <td>70.0</td>\n",
       "      <td>10.0</td>\n",
       "      <td>15.0</td>\n",
       "      <td>65.0</td>\n",
       "    </tr>\n",
       "    <tr>\n",
       "      <th>2</th>\n",
       "      <td>BP110</td>\n",
       "      <td>20</td>\n",
       "      <td>25</td>\n",
       "      <td>70.0</td>\n",
       "      <td>15.0</td>\n",
       "      <td>10.0</td>\n",
       "      <td>30.0</td>\n",
       "    </tr>\n",
       "    <tr>\n",
       "      <th>3</th>\n",
       "      <td>BP110</td>\n",
       "      <td>20</td>\n",
       "      <td>30</td>\n",
       "      <td>40.0</td>\n",
       "      <td>5.0</td>\n",
       "      <td>20.0</td>\n",
       "      <td>45.0</td>\n",
       "    </tr>\n",
       "    <tr>\n",
       "      <th>4</th>\n",
       "      <td>BP110</td>\n",
       "      <td>10</td>\n",
       "      <td>20</td>\n",
       "      <td>25.0</td>\n",
       "      <td>5.0</td>\n",
       "      <td>5.0</td>\n",
       "      <td>15.0</td>\n",
       "    </tr>\n",
       "  </tbody>\n",
       "</table>\n",
       "</div>"
      ],
      "text/plain": [
       "  Device  BCd_1000  BCd_2000 BCd_4000  AC_1000  AC_2000  AC_4000\n",
       "0  BP110        35        45     35.0     10.0     10.0      0.0\n",
       "1  BP110        30        30     70.0     10.0     15.0     65.0\n",
       "2  BP110        20        25     70.0     15.0     10.0     30.0\n",
       "3  BP110        20        30     40.0      5.0     20.0     45.0\n",
       "4  BP110        10        20     25.0      5.0      5.0     15.0"
      ]
     },
     "execution_count": 6,
     "metadata": {},
     "output_type": "execute_result"
    }
   ],
   "source": [
    "bct = read_BC_direct_thresholds()\n",
    "act = read_AC_thresholds()\n",
    "bct1 = bct[['Device', 'BCd_1000', 'BCd_2000', 'BCd_4000']].copy()\n",
    "act1 = act[['AC_1000', 'AC_2000', 'AC_4000']].copy()\n",
    "combi = pd.concat([bct1, act1], axis=1)\n",
    "combi = combi.dropna()\n",
    "combi.head()"
   ]
  },
  {
   "cell_type": "code",
   "execution_count": 7,
   "metadata": {},
   "outputs": [
    {
     "data": {
      "text/html": [
       "<div>\n",
       "<style scoped>\n",
       "    .dataframe tbody tr th:only-of-type {\n",
       "        vertical-align: middle;\n",
       "    }\n",
       "\n",
       "    .dataframe tbody tr th {\n",
       "        vertical-align: top;\n",
       "    }\n",
       "\n",
       "    .dataframe thead th {\n",
       "        text-align: right;\n",
       "    }\n",
       "</style>\n",
       "<table border=\"1\" class=\"dataframe\">\n",
       "  <thead>\n",
       "    <tr style=\"text-align: right;\">\n",
       "      <th></th>\n",
       "      <th>BCd_1000</th>\n",
       "      <th>BCd_2000</th>\n",
       "      <th>BCd_4000</th>\n",
       "      <th>AC_1000</th>\n",
       "      <th>AC_2000</th>\n",
       "      <th>AC_4000</th>\n",
       "    </tr>\n",
       "  </thead>\n",
       "  <tbody>\n",
       "    <tr>\n",
       "      <th>20</th>\n",
       "      <td>20</td>\n",
       "      <td>30</td>\n",
       "      <td>35.0</td>\n",
       "      <td>10.0</td>\n",
       "      <td>15.0</td>\n",
       "      <td>25.0</td>\n",
       "    </tr>\n",
       "    <tr>\n",
       "      <th>37</th>\n",
       "      <td>45</td>\n",
       "      <td>15</td>\n",
       "      <td>35.0</td>\n",
       "      <td>20.0</td>\n",
       "      <td>5.0</td>\n",
       "      <td>15.0</td>\n",
       "    </tr>\n",
       "    <tr>\n",
       "      <th>47</th>\n",
       "      <td>20</td>\n",
       "      <td>30</td>\n",
       "      <td>25.0</td>\n",
       "      <td>5.0</td>\n",
       "      <td>5.0</td>\n",
       "      <td>0.0</td>\n",
       "    </tr>\n",
       "    <tr>\n",
       "      <th>51</th>\n",
       "      <td>15</td>\n",
       "      <td>30</td>\n",
       "      <td>30.0</td>\n",
       "      <td>20.0</td>\n",
       "      <td>5.0</td>\n",
       "      <td>20.0</td>\n",
       "    </tr>\n",
       "    <tr>\n",
       "      <th>53</th>\n",
       "      <td>20</td>\n",
       "      <td>35</td>\n",
       "      <td>50.0</td>\n",
       "      <td>10.0</td>\n",
       "      <td>15.0</td>\n",
       "      <td>35.0</td>\n",
       "    </tr>\n",
       "  </tbody>\n",
       "</table>\n",
       "</div>"
      ],
      "text/plain": [
       "    BCd_1000  BCd_2000 BCd_4000  AC_1000  AC_2000  AC_4000\n",
       "20        20        30     35.0     10.0     15.0     25.0\n",
       "37        45        15     35.0     20.0      5.0     15.0\n",
       "47        20        30     25.0      5.0      5.0      0.0\n",
       "51        15        30     30.0     20.0      5.0     20.0\n",
       "53        20        35     50.0     10.0     15.0     35.0"
      ]
     },
     "execution_count": 7,
     "metadata": {},
     "output_type": "execute_result"
    }
   ],
   "source": [
    "combi_bh5 = select_bh5(combi)\n",
    "combi_bp110 = select_bp110(combi)\n",
    "combi_bh5.head()"
   ]
  },
  {
   "cell_type": "code",
   "execution_count": 8,
   "metadata": {},
   "outputs": [
    {
     "name": "stdout",
     "output_type": "stream",
     "text": [
      "1 kHz LinregressResult(slope=0.3672055427251733, intercept=1.52809853733641, rvalue=0.42207057278270343, pvalue=6.363246802493531e-05, stderr=0.08709940878890002, intercept_stderr=2.324432385796082)\n",
      "2 kHz LinregressResult(slope=0.3386697005404088, intercept=1.457681524521556, rvalue=0.40320749032149295, pvalue=0.0001430363606710234, stderr=0.08488158004131933, intercept_stderr=2.8071943959944328)\n",
      "4 kHz LinregressResult(slope=0.9168499675327985, intercept=-12.684264116433155, rvalue=0.7161581967233527, pvalue=1.891902212790609e-14, stderr=0.09867320140213447, intercept_stderr=4.324500838933291)\n"
     ]
    }
   ],
   "source": [
    "for i in range(1, 4):\n",
    "    bcdt = (combi.iloc[:,i]).to_numpy(dtype='float')\n",
    "    actn = (combi.iloc[:,i+3]).to_numpy(dtype='float')\n",
    "    lrgrs = linregress(bcdt, actn)\n",
    "    print(2**(i-1),'kHz', lrgrs)"
   ]
  },
  {
   "cell_type": "code",
   "execution_count": 9,
   "metadata": {},
   "outputs": [
    {
     "name": "stdout",
     "output_type": "stream",
     "text": [
      "1 kHz LinregressResult(slope=0.34722377388001346, intercept=2.388559937437156, rvalue=0.4383607708945204, pvalue=0.0018308925554815748, stderr=0.1049691033252161, intercept_stderr=2.8717012490255254)\n",
      "2 kHz LinregressResult(slope=0.35393893705239354, intercept=1.4072119613016714, rvalue=0.4068657786776527, pvalue=0.004106744746386181, stderr=0.11716586068041755, intercept_stderr=3.9957180390752276)\n",
      "4 kHz LinregressResult(slope=0.9184205948860672, intercept=-12.134574128834007, rvalue=0.7175349415719587, pvalue=9.532709853472877e-09, stderr=0.13144824742531314, intercept_stderr=6.0646606474989335)\n"
     ]
    }
   ],
   "source": [
    "for i in range(3):\n",
    "    bcdt_bp110 = (combi_bp110.iloc[:,i]).to_numpy(dtype='float')\n",
    "    act_bp110 = (combi_bp110.iloc[:,i+3]).to_numpy(dtype='float')\n",
    "    lrgrs = linregress(bcdt_bp110, act_bp110)\n",
    "    print(2**i,'kHz', lrgrs)"
   ]
  },
  {
   "cell_type": "code",
   "execution_count": 10,
   "metadata": {},
   "outputs": [
    {
     "name": "stdout",
     "output_type": "stream",
     "text": [
      "1 kHz LinregressResult(slope=0.40922401171303074, intercept=0.021961932650073734, rvalue=0.3961705391463837, pvalue=0.016760168052862005, stderr=0.16265441557632845, intercept_stderr=4.190960403935539)\n",
      "2 kHz LinregressResult(slope=0.29990884229717424, intercept=2.0305378304466686, rvalue=0.37437449559036123, pvalue=0.02448188141133168, stderr=0.1273952758157975, intercept_stderr=4.031389010080773)\n",
      "4 kHz LinregressResult(slope=0.8800371114890984, intercept=-12.074779650533472, rvalue=0.6822543002398703, pvalue=4.588105388425802e-06, stderr=0.16173384487478407, intercept_stderr=6.556873053188244)\n"
     ]
    }
   ],
   "source": [
    "for i in range(3):\n",
    "    bcdt_bh5 = (combi_bh5.iloc[:,i]).to_numpy(dtype='float')\n",
    "    act_bh5 = (combi_bh5.iloc[:,i+3]).to_numpy(dtype='float')\n",
    "    lrgrs = linregress(bcdt_bh5, act_bh5)\n",
    "    print(2**i,'kHz', lrgrs)"
   ]
  },
  {
   "cell_type": "code",
   "execution_count": 11,
   "metadata": {},
   "outputs": [
    {
     "name": "stdout",
     "output_type": "stream",
     "text": [
      "r square 1 kHz =0.16\n"
     ]
    }
   ],
   "source": [
    "bcdt_1k_bh5 = combi_bh5.iloc[:,0].to_numpy(dtype='float')\n",
    "act_1k_bh5 = (combi_bh5.iloc[:,3]).to_numpy(dtype='float')\n",
    "lrgrs_1k_bh5 = linregress(bcdt_1k_bh5, act_1k_bh5)\n",
    "r2_1k_bh5 = (lrgrs_1k_bh5[2])**2\n",
    "r2_1k_bh5 = round(r2_1k_bh5, 2)\n",
    "s_1k = 'r square 1 kHz =' + str(r2_1k_bh5)\n",
    "print(s_1k)"
   ]
  },
  {
   "cell_type": "code",
   "execution_count": 12,
   "metadata": {},
   "outputs": [
    {
     "data": {
      "image/png": "[encoded data removed]",
      "text/plain": [
       "<Figure size 432x288 with 1 Axes>"
      ]
     },
     "metadata": {
      "needs_background": "light"
     },
     "output_type": "display_data"
    }
   ],
   "source": [
    "plt.scatter(bcdt_1k_bh5, act_1k_bh5, c='black')\n",
    "plt.title(\"Relation BC direct and AC thresholds at 1 kHz for BAHA5P\")\n",
    "plt.xlabel(\"BC direct thresholds at 1 kHz [dB HL]\")\n",
    "plt.ylabel(\"Diff. SL BC-AC at 1 kHz [dB]\")\n",
    "slope = lrgrs_1k_bh5[0]\n",
    "intercept = lrgrs_1k_bh5[1]\n",
    "plt.plot(bcdt_1k_bh5, slope*bcdt_1k_bh5 + intercept, color='grey')\n",
    "plt.text(34, 11, s_1k)\n",
    "plt.show()"
   ]
  },
  {
   "cell_type": "code",
   "execution_count": 13,
   "metadata": {},
   "outputs": [
    {
     "name": "stdout",
     "output_type": "stream",
     "text": [
      "r square 2 kHz =0.14\n"
     ]
    }
   ],
   "source": [
    "bcdt_2k_bh5 = combi_bh5.iloc[:,1].to_numpy(dtype='float')\n",
    "act_2k_bh5 = (combi_bh5.iloc[:,4]).to_numpy(dtype='float')\n",
    "lrgrs_2k_bh5 = linregress(bcdt_2k_bh5, act_2k_bh5)\n",
    "r2_2k_bh5= (lrgrs_2k_bh5[2])**2\n",
    "r2_2k_bh5 = round(r2_2k_bh5, 2)\n",
    "s_2k = 'r square 2 kHz =' + str(r2_2k_bh5)\n",
    "print(s_2k)"
   ]
  },
  {
   "cell_type": "code",
   "execution_count": 14,
   "metadata": {},
   "outputs": [
    {
     "data": {
      "image/png": "[encoded data removed]",
      "text/plain": [
       "<Figure size 432x288 with 1 Axes>"
      ]
     },
     "metadata": {
      "needs_background": "light"
     },
     "output_type": "display_data"
    }
   ],
   "source": [
    "plt.scatter(bcdt_2k_bh5, act_2k_bh5, c='black')\n",
    "plt.title(\"Relation BC direct and AC thresholds at 2 kHz for BAHA5P\")\n",
    "plt.xlabel(\"BC direct thresholds at 2 kHz [dB HL]\")\n",
    "plt.ylabel(\"Diff. SL BC-AC at 2 kHz [dB]\")\n",
    "slope = lrgrs_2k_bh5[0]\n",
    "intercept = lrgrs_2k_bh5[1]\n",
    "plt.plot(bcdt_2k_bh5, slope*bcdt_2k_bh5 + intercept, color='grey')\n",
    "plt.text(33, 17, s_2k)\n",
    "plt.show()"
   ]
  },
  {
   "cell_type": "code",
   "execution_count": 15,
   "metadata": {},
   "outputs": [
    {
     "name": "stdout",
     "output_type": "stream",
     "text": [
      "r square 4 kHz =0.47\n"
     ]
    }
   ],
   "source": [
    "bcdt_4k_bh5 = combi_bh5.iloc[:,2].to_numpy(dtype='float')\n",
    "act_4k_bh5 = (combi_bh5.iloc[:,5]).to_numpy(dtype='float')\n",
    "lrgrs_4k_bh5 = linregress(bcdt_4k_bh5, act_4k_bh5)\n",
    "r2_4k_bh5= (lrgrs_4k_bh5[2])**2\n",
    "r2_4k_bh5 = round(r2_4k_bh5, 2)\n",
    "s_4k = 'r square 4 kHz =' + str(r2_4k_bh5)\n",
    "print(s_4k)"
   ]
  },
  {
   "cell_type": "code",
   "execution_count": 16,
   "metadata": {},
   "outputs": [
    {
     "data": {
      "image/png": "[encoded data removed]",
      "text/plain": [
       "<Figure size 432x288 with 1 Axes>"
      ]
     },
     "metadata": {
      "needs_background": "light"
     },
     "output_type": "display_data"
    }
   ],
   "source": [
    "plt.scatter(bcdt_4k_bh5, act_4k_bh5, c='black')\n",
    "plt.title(\"Relation BC direct and AC thresholds at 4 kHz for BAHA5P\")\n",
    "plt.xlabel(\"BC direct thresholds at 4 kHz [dB HL]\")\n",
    "plt.ylabel(\"Diff. SL BC-AC at 4 kHz [dB]\")\n",
    "slope = lrgrs_4k_bh5[0]\n",
    "intercept = lrgrs_4k_bh5[1]\n",
    "plt.plot(bcdt_4k_bh5, slope*bcdt_4k_bh5 + intercept, color='grey')\n",
    "plt.text(43, 42, s_4k)\n",
    "plt.show()"
   ]
  },
  {
   "cell_type": "code",
   "execution_count": 17,
   "metadata": {},
   "outputs": [
    {
     "name": "stdout",
     "output_type": "stream",
     "text": [
      "r square 4 kHz =0.51\n"
     ]
    }
   ],
   "source": [
    "bcdt_4k_bp110 = combi_bp110.iloc[:,2].to_numpy(dtype='float')\n",
    "act_4k_bp110 = (combi_bp110.iloc[:,5]).to_numpy(dtype='float')\n",
    "lrgrs_4k_bp110 = linregress(bcdt_4k_bp110, act_4k_bp110)\n",
    "r2_4k_bp110= (lrgrs_4k_bp110[2])**2\n",
    "r2_4k_bp110 = round(r2_4k_bp110, 2)\n",
    "s_4k = 'r square 4 kHz =' + str(r2_4k_bp110)\n",
    "print(s_4k)"
   ]
  },
  {
   "cell_type": "code",
   "execution_count": 18,
   "metadata": {},
   "outputs": [
    {
     "data": {
      "image/png": "[encoded data removed]",
      "text/plain": [
       "<Figure size 432x288 with 1 Axes>"
      ]
     },
     "metadata": {
      "needs_background": "light"
     },
     "output_type": "display_data"
    }
   ],
   "source": [
    "plt.scatter(bcdt_4k_bp110, act_4k_bp110, c='black')\n",
    "plt.title(\"Relation BC direct and AC thresholds at 4 kHz for BP110\")\n",
    "plt.xlabel(\"BC direct thresholds at 4 kHz [dB HL]\")\n",
    "plt.ylabel(\"Diff. SL BC-AC at 4 kHz [dB]\")\n",
    "slope = lrgrs_4k_bp110[0]\n",
    "intercept = lrgrs_4k_bp110[1]\n",
    "plt.plot(bcdt_4k_bp110, slope*bcdt_4k_bp110 + intercept, color='grey')\n",
    "plt.text(43, 43, s_4k)\n",
    "plt.show()"
   ]
  }
 ],
 "metadata": {
  "kernelspec": {
   "display_name": "Python 3 (ipykernel)",
   "language": "python",
   "name": "python3"
  },
  "language_info": {
   "codemirror_mode": {
    "name": "ipython",
    "version": 3
   },
   "file_extension": ".py",
   "mimetype": "text/x-python",
   "name": "python",
   "nbconvert_exporter": "python",
   "pygments_lexer": "ipython3",
   "version": "3.8.12"
  }
 },
 "nbformat": 4,
 "nbformat_minor": 4
}
