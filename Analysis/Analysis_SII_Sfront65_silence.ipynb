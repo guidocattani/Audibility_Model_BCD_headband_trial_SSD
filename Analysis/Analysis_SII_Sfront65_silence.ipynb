{
 "cells": [
  {
   "cell_type": "markdown",
   "metadata": {},
   "source": [
    "# Code to analyse SII, S 65 dB in front, in silence"
   ]
  },
  {
   "cell_type": "markdown",
   "metadata": {},
   "source": [
    "30 January 2021 Guido Cattani, Revision 19 June 2022"
   ]
  },
  {
   "cell_type": "code",
   "execution_count": 1,
   "metadata": {},
   "outputs": [],
   "source": [
    "from pathlib import Path\n",
    "import pandas as pd\n",
    "import numpy as np"
   ]
  },
  {
   "cell_type": "code",
   "execution_count": 2,
   "metadata": {},
   "outputs": [],
   "source": [
    "from scipy.stats import mannwhitneyu as mannwhitneyu\n",
    "from scipy.stats import wilcoxon as wilcoxon\n",
    "from scipy.stats import rankdata as rankdata\n",
    "from scipy.stats import shapiro as shapiro\n",
    "from scipy.stats import ttest_rel as ttest_rel\n",
    "from scipy.stats import ttest_ind as ttest_ind\n",
    "from scipy.stats import levene as levene"
   ]
  },
  {
   "cell_type": "code",
   "execution_count": 3,
   "metadata": {},
   "outputs": [],
   "source": [
    "import matplotlib\n",
    "import matplotlib.pyplot as plt\n",
    "import seaborn as sns"
   ]
  },
  {
   "cell_type": "code",
   "execution_count": 4,
   "metadata": {},
   "outputs": [],
   "source": [
    "def select_bp110(df):\n",
    "    # select BP110 data\n",
    "    is_bp110 =  df['Device']=='BP110'\n",
    "    df_bp110 = df[is_bp110]\n",
    "    df_bp110.pop('Device')\n",
    "    return(df_bp110)"
   ]
  },
  {
   "cell_type": "code",
   "execution_count": 5,
   "metadata": {},
   "outputs": [],
   "source": [
    "def select_bh5(df):\n",
    "    # select BAHA5P data\n",
    "    is_baha5p =  df['Device']=='BAHA5P'\n",
    "    df_baha5p = df[is_baha5p]\n",
    "    df_baha5p.pop('Device')\n",
    "    return(df_baha5p)"
   ]
  },
  {
   "cell_type": "code",
   "execution_count": 6,
   "metadata": {},
   "outputs": [],
   "source": [
    "# read SII scores, input 65 dB, signal BCD side, in silence\n",
    "def read_SII():\n",
    "    f_in = '/media/guido/LACIE/Cingle_Guido/Master/Headband/SII_Sfront65_silence.xlsx'\n",
    "    p_in = Path(f_in)   \n",
    "    df = pd.read_excel(p_in, header=0, nrows=85)\n",
    "    df = df.drop(['Unnamed: 0', 'Study_ID'], axis=1)\n",
    "    return df"
   ]
  },
  {
   "cell_type": "code",
   "execution_count": 7,
   "metadata": {},
   "outputs": [
    {
     "data": {
      "text/html": [
       "<div>\n",
       "<style scoped>\n",
       "    .dataframe tbody tr th:only-of-type {\n",
       "        vertical-align: middle;\n",
       "    }\n",
       "\n",
       "    .dataframe tbody tr th {\n",
       "        vertical-align: top;\n",
       "    }\n",
       "\n",
       "    .dataframe thead th {\n",
       "        text-align: right;\n",
       "    }\n",
       "</style>\n",
       "<table border=\"1\" class=\"dataframe\">\n",
       "  <thead>\n",
       "    <tr style=\"text-align: right;\">\n",
       "      <th></th>\n",
       "      <th>Device</th>\n",
       "      <th>AC_path</th>\n",
       "      <th>BC_path</th>\n",
       "      <th>AC&amp;BC_path</th>\n",
       "      <th>diff_combi_AC</th>\n",
       "    </tr>\n",
       "  </thead>\n",
       "  <tbody>\n",
       "    <tr>\n",
       "      <th>0</th>\n",
       "      <td>BP110</td>\n",
       "      <td>1.0000</td>\n",
       "      <td>0.8841</td>\n",
       "      <td>1.0000</td>\n",
       "      <td>0.0000</td>\n",
       "    </tr>\n",
       "    <tr>\n",
       "      <th>1</th>\n",
       "      <td>BP110</td>\n",
       "      <td>0.9373</td>\n",
       "      <td>0.7475</td>\n",
       "      <td>0.9373</td>\n",
       "      <td>0.0000</td>\n",
       "    </tr>\n",
       "    <tr>\n",
       "      <th>2</th>\n",
       "      <td>BP110</td>\n",
       "      <td>0.9867</td>\n",
       "      <td>0.9350</td>\n",
       "      <td>0.9918</td>\n",
       "      <td>0.0051</td>\n",
       "    </tr>\n",
       "    <tr>\n",
       "      <th>3</th>\n",
       "      <td>BP110</td>\n",
       "      <td>0.9843</td>\n",
       "      <td>0.8896</td>\n",
       "      <td>0.9843</td>\n",
       "      <td>0.0000</td>\n",
       "    </tr>\n",
       "    <tr>\n",
       "      <th>4</th>\n",
       "      <td>BP110</td>\n",
       "      <td>1.0000</td>\n",
       "      <td>0.9016</td>\n",
       "      <td>1.0000</td>\n",
       "      <td>0.0000</td>\n",
       "    </tr>\n",
       "    <tr>\n",
       "      <th>...</th>\n",
       "      <td>...</td>\n",
       "      <td>...</td>\n",
       "      <td>...</td>\n",
       "      <td>...</td>\n",
       "      <td>...</td>\n",
       "    </tr>\n",
       "    <tr>\n",
       "      <th>65</th>\n",
       "      <td>BAHA5P</td>\n",
       "      <td>0.9996</td>\n",
       "      <td>0.7888</td>\n",
       "      <td>0.9996</td>\n",
       "      <td>0.0000</td>\n",
       "    </tr>\n",
       "    <tr>\n",
       "      <th>66</th>\n",
       "      <td>BAHA5P</td>\n",
       "      <td>1.0000</td>\n",
       "      <td>0.8029</td>\n",
       "      <td>1.0000</td>\n",
       "      <td>0.0000</td>\n",
       "    </tr>\n",
       "    <tr>\n",
       "      <th>67</th>\n",
       "      <td>BAHA5P</td>\n",
       "      <td>1.0000</td>\n",
       "      <td>0.8439</td>\n",
       "      <td>1.0000</td>\n",
       "      <td>0.0000</td>\n",
       "    </tr>\n",
       "    <tr>\n",
       "      <th>68</th>\n",
       "      <td>BAHA5P</td>\n",
       "      <td>0.9659</td>\n",
       "      <td>0.7641</td>\n",
       "      <td>0.9676</td>\n",
       "      <td>0.0017</td>\n",
       "    </tr>\n",
       "    <tr>\n",
       "      <th>69</th>\n",
       "      <td>BAHA5P</td>\n",
       "      <td>1.0000</td>\n",
       "      <td>0.8229</td>\n",
       "      <td>1.0000</td>\n",
       "      <td>0.0000</td>\n",
       "    </tr>\n",
       "  </tbody>\n",
       "</table>\n",
       "<p>70 rows × 5 columns</p>\n",
       "</div>"
      ],
      "text/plain": [
       "    Device  AC_path  BC_path  AC&BC_path  diff_combi_AC\n",
       "0    BP110   1.0000   0.8841      1.0000         0.0000\n",
       "1    BP110   0.9373   0.7475      0.9373         0.0000\n",
       "2    BP110   0.9867   0.9350      0.9918         0.0051\n",
       "3    BP110   0.9843   0.8896      0.9843         0.0000\n",
       "4    BP110   1.0000   0.9016      1.0000         0.0000\n",
       "..     ...      ...      ...         ...            ...\n",
       "65  BAHA5P   0.9996   0.7888      0.9996         0.0000\n",
       "66  BAHA5P   1.0000   0.8029      1.0000         0.0000\n",
       "67  BAHA5P   1.0000   0.8439      1.0000         0.0000\n",
       "68  BAHA5P   0.9659   0.7641      0.9676         0.0017\n",
       "69  BAHA5P   1.0000   0.8229      1.0000         0.0000\n",
       "\n",
       "[70 rows x 5 columns]"
      ]
     },
     "execution_count": 7,
     "metadata": {},
     "output_type": "execute_result"
    }
   ],
   "source": [
    "SII = read_SII()\n",
    "SII"
   ]
  },
  {
   "cell_type": "code",
   "execution_count": 8,
   "metadata": {},
   "outputs": [],
   "source": [
    "# group data by device type and perform calculation of quantiles 10, 50, 90\n",
    "dvc = SII.groupby('Device')\n",
    "quantiles = [0.10, 0.50, 0.90]\n",
    "q = dvc.quantile(q=quantiles)"
   ]
  },
  {
   "cell_type": "code",
   "execution_count": 9,
   "metadata": {},
   "outputs": [
    {
     "data": {
      "text/html": [
       "<div>\n",
       "<style scoped>\n",
       "    .dataframe tbody tr th:only-of-type {\n",
       "        vertical-align: middle;\n",
       "    }\n",
       "\n",
       "    .dataframe tbody tr th {\n",
       "        vertical-align: top;\n",
       "    }\n",
       "\n",
       "    .dataframe thead th {\n",
       "        text-align: right;\n",
       "    }\n",
       "</style>\n",
       "<table border=\"1\" class=\"dataframe\">\n",
       "  <thead>\n",
       "    <tr style=\"text-align: right;\">\n",
       "      <th></th>\n",
       "      <th>AC_path</th>\n",
       "      <th>BC_path</th>\n",
       "      <th>AC&amp;BC_path</th>\n",
       "      <th>diff_combi_AC</th>\n",
       "    </tr>\n",
       "  </thead>\n",
       "  <tbody>\n",
       "    <tr>\n",
       "      <th>BAHA5P P10</th>\n",
       "      <td>0.9677</td>\n",
       "      <td>0.7892</td>\n",
       "      <td>0.9803</td>\n",
       "      <td>0.0000</td>\n",
       "    </tr>\n",
       "    <tr>\n",
       "      <th>BAHA5P P50</th>\n",
       "      <td>0.9996</td>\n",
       "      <td>0.8344</td>\n",
       "      <td>0.9996</td>\n",
       "      <td>0.0000</td>\n",
       "    </tr>\n",
       "    <tr>\n",
       "      <th>BAHA5P P90</th>\n",
       "      <td>1.0000</td>\n",
       "      <td>0.8785</td>\n",
       "      <td>1.0000</td>\n",
       "      <td>0.0064</td>\n",
       "    </tr>\n",
       "    <tr>\n",
       "      <th>BP110 P10</th>\n",
       "      <td>0.9647</td>\n",
       "      <td>0.8199</td>\n",
       "      <td>0.9647</td>\n",
       "      <td>0.0000</td>\n",
       "    </tr>\n",
       "    <tr>\n",
       "      <th>BP110 P50</th>\n",
       "      <td>0.9920</td>\n",
       "      <td>0.8700</td>\n",
       "      <td>0.9920</td>\n",
       "      <td>0.0000</td>\n",
       "    </tr>\n",
       "    <tr>\n",
       "      <th>BP110 P90</th>\n",
       "      <td>1.0000</td>\n",
       "      <td>0.9053</td>\n",
       "      <td>1.0000</td>\n",
       "      <td>0.0068</td>\n",
       "    </tr>\n",
       "  </tbody>\n",
       "</table>\n",
       "</div>"
      ],
      "text/plain": [
       "            AC_path  BC_path  AC&BC_path  diff_combi_AC\n",
       "BAHA5P P10   0.9677   0.7892      0.9803         0.0000\n",
       "BAHA5P P50   0.9996   0.8344      0.9996         0.0000\n",
       "BAHA5P P90   1.0000   0.8785      1.0000         0.0064\n",
       "BP110 P10    0.9647   0.8199      0.9647         0.0000\n",
       "BP110 P50    0.9920   0.8700      0.9920         0.0000\n",
       "BP110 P90    1.0000   0.9053      1.0000         0.0068"
      ]
     },
     "execution_count": 9,
     "metadata": {},
     "output_type": "execute_result"
    }
   ],
   "source": [
    "q= q.round(decimals=4)\n",
    "q = q.reset_index()\n",
    "diq = {0:'BAHA5P P10', 1:'BAHA5P P50', 2:'BAHA5P P90', \n",
    "      3:'BP110 P10', 4:'BP110 P50', 5:'BP110 P90'} \n",
    "\n",
    "q = q.rename(index=diq)\n",
    "q.drop(['Device', 'level_1'], axis=1, inplace = True)\n",
    "q"
   ]
  },
  {
   "cell_type": "code",
   "execution_count": 10,
   "metadata": {},
   "outputs": [
    {
     "data": {
      "text/plain": [
       "(35, 35)"
      ]
     },
     "execution_count": 10,
     "metadata": {},
     "output_type": "execute_result"
    }
   ],
   "source": [
    "SII_bp110 = select_bp110(SII)\n",
    "SII_bh5 = select_bh5(SII)\n",
    "len(SII_bp110), len(SII_bh5)"
   ]
  },
  {
   "cell_type": "code",
   "execution_count": 11,
   "metadata": {},
   "outputs": [],
   "source": [
    "bh5 = SII_bh5.T.to_numpy()\n",
    "bp110 = SII_bp110.T.to_numpy()"
   ]
  },
  {
   "cell_type": "code",
   "execution_count": 12,
   "metadata": {},
   "outputs": [
    {
     "data": {
      "text/html": [
       "<div>\n",
       "<style scoped>\n",
       "    .dataframe tbody tr th:only-of-type {\n",
       "        vertical-align: middle;\n",
       "    }\n",
       "\n",
       "    .dataframe tbody tr th {\n",
       "        vertical-align: top;\n",
       "    }\n",
       "\n",
       "    .dataframe thead th {\n",
       "        text-align: right;\n",
       "    }\n",
       "</style>\n",
       "<table border=\"1\" class=\"dataframe\">\n",
       "  <thead>\n",
       "    <tr style=\"text-align: right;\">\n",
       "      <th></th>\n",
       "      <th>AC_path</th>\n",
       "      <th>BC_path</th>\n",
       "      <th>AC&amp;BC_path</th>\n",
       "      <th>diff_combi_AC</th>\n",
       "    </tr>\n",
       "  </thead>\n",
       "  <tbody>\n",
       "    <tr>\n",
       "      <th>Shapiro test statistic BH5</th>\n",
       "      <td>0.540859</td>\n",
       "      <td>0.990609</td>\n",
       "      <td>0.542104</td>\n",
       "      <td>0.395408</td>\n",
       "    </tr>\n",
       "    <tr>\n",
       "      <th>p-value BH5</th>\n",
       "      <td>0.0</td>\n",
       "      <td>0.988744</td>\n",
       "      <td>0.0</td>\n",
       "      <td>0.0</td>\n",
       "    </tr>\n",
       "    <tr>\n",
       "      <th>normally distributed in BH5</th>\n",
       "      <td>False</td>\n",
       "      <td>True</td>\n",
       "      <td>False</td>\n",
       "      <td>False</td>\n",
       "    </tr>\n",
       "    <tr>\n",
       "      <th>Shapiro test statistic BP110</th>\n",
       "      <td>0.803769</td>\n",
       "      <td>0.952121</td>\n",
       "      <td>0.772787</td>\n",
       "      <td>0.473272</td>\n",
       "    </tr>\n",
       "    <tr>\n",
       "      <th>p-value BP110</th>\n",
       "      <td>0.000024</td>\n",
       "      <td>0.131664</td>\n",
       "      <td>0.000006</td>\n",
       "      <td>0.0</td>\n",
       "    </tr>\n",
       "    <tr>\n",
       "      <th>normally distributed in BP110</th>\n",
       "      <td>False</td>\n",
       "      <td>True</td>\n",
       "      <td>False</td>\n",
       "      <td>False</td>\n",
       "    </tr>\n",
       "  </tbody>\n",
       "</table>\n",
       "</div>"
      ],
      "text/plain": [
       "                                AC_path   BC_path AC&BC_path diff_combi_AC\n",
       "Shapiro test statistic BH5     0.540859  0.990609   0.542104      0.395408\n",
       "p-value BH5                         0.0  0.988744        0.0           0.0\n",
       "normally distributed in BH5       False      True      False         False\n",
       "Shapiro test statistic BP110   0.803769  0.952121   0.772787      0.473272\n",
       "p-value BP110                  0.000024  0.131664   0.000006           0.0\n",
       "normally distributed in BP110     False      True      False         False"
      ]
     },
     "execution_count": 12,
     "metadata": {},
     "output_type": "execute_result"
    }
   ],
   "source": [
    "# check normality output group BAHA5P & BP110 with Shapiro-Wilk test\n",
    "\n",
    "shp = dict()\n",
    "\n",
    "for i in range(0, 4):\n",
    "    a = bh5[i]\n",
    "    b = bp110[i]\n",
    "    shapiro_stat_bh5, pVal_bh5 = shapiro(a) # bh5 scipy.stats Shapiro-Wilk test test\n",
    "    shapiro_stat_bp110, pVal_bp110 = shapiro(b) # bp110 scipy.stats Shapiro-Wilk test test\n",
    "    bh5_is_normal = False if pVal_bh5 < 0.05 else True\n",
    "    bp110_is_normal = False if pVal_bp110 < 0.05 else True\n",
    "    st = {i: [shapiro_stat_bh5, pVal_bh5, bh5_is_normal, shapiro_stat_bp110, pVal_bp110, bp110_is_normal]}\n",
    "    shp.update(st)\n",
    "\n",
    "shapiro_test = pd.DataFrame.from_dict(shp)\n",
    "dish =  {0: 'Shapiro test statistic BH5', 1: 'p-value BH5', 2: 'normally distributed in BH5', 3: 'Shapiro test statistic BP110', \n",
    "         4: 'p-value BP110', 5: 'normally distributed in BP110'}\n",
    "clmns = {0 : 'AC_path', 1 : 'BC_path', 2 : 'AC&BC_path', 3 : 'diff_combi_AC'}\n",
    "shapiro_test.rename(index=dish, columns = clmns, inplace = True)\n",
    "\n",
    "shapiro_test"
   ]
  },
  {
   "cell_type": "code",
   "execution_count": 13,
   "metadata": {},
   "outputs": [
    {
     "data": {
      "text/plain": [
       "LeveneResult(statistic=0.8489552459140549, pvalue=0.3601055223169496)"
      ]
     },
     "execution_count": 13,
     "metadata": {},
     "output_type": "execute_result"
    }
   ],
   "source": [
    "# Levene test for equal variances SII bc_path bp110 vs. bh5 groups\n",
    "levene(bp110[1], bh5[1])"
   ]
  },
  {
   "cell_type": "code",
   "execution_count": 14,
   "metadata": {},
   "outputs": [
    {
     "data": {
      "text/plain": [
       "Ttest_indResult(statistic=3.2536709267889323, pvalue=0.0017759897251939606)"
      ]
     },
     "execution_count": 14,
     "metadata": {},
     "output_type": "execute_result"
    }
   ],
   "source": [
    "# t-test SII bcd_path bp110 vs. bh5 groups\n",
    "ttest_ind(bp110[1], bh5[1], equal_var=True)"
   ]
  },
  {
   "cell_type": "code",
   "execution_count": 15,
   "metadata": {},
   "outputs": [],
   "source": [
    "d1 = dict()\n",
    "d2 = dict()\n",
    "for i in range(0, 4):\n",
    "    (stat, pvalue) = mannwhitneyu(bp110[i], bh5[i], use_continuity=False, alternative='two-sided')\n",
    "    d1.update({i : stat})\n",
    "    d2.update({i : pvalue})"
   ]
  },
  {
   "cell_type": "code",
   "execution_count": 16,
   "metadata": {},
   "outputs": [
    {
     "data": {
      "text/html": [
       "<div>\n",
       "<style scoped>\n",
       "    .dataframe tbody tr th:only-of-type {\n",
       "        vertical-align: middle;\n",
       "    }\n",
       "\n",
       "    .dataframe tbody tr th {\n",
       "        vertical-align: top;\n",
       "    }\n",
       "\n",
       "    .dataframe thead th {\n",
       "        text-align: right;\n",
       "    }\n",
       "</style>\n",
       "<table border=\"1\" class=\"dataframe\">\n",
       "  <thead>\n",
       "    <tr style=\"text-align: right;\">\n",
       "      <th></th>\n",
       "      <th>AC_path</th>\n",
       "      <th>BC_path</th>\n",
       "      <th>AC&amp;BC_path</th>\n",
       "      <th>diff_combi_AC</th>\n",
       "    </tr>\n",
       "  </thead>\n",
       "  <tbody>\n",
       "    <tr>\n",
       "      <th>Mann-Whitney U statistic</th>\n",
       "      <td>424.000000</td>\n",
       "      <td>896.50000</td>\n",
       "      <td>408.500000</td>\n",
       "      <td>670.000000</td>\n",
       "    </tr>\n",
       "    <tr>\n",
       "      <th>p-value (two-sided)</th>\n",
       "      <td>0.022484</td>\n",
       "      <td>0.00085</td>\n",
       "      <td>0.013527</td>\n",
       "      <td>0.333648</td>\n",
       "    </tr>\n",
       "  </tbody>\n",
       "</table>\n",
       "</div>"
      ],
      "text/plain": [
       "                             AC_path    BC_path  AC&BC_path  diff_combi_AC\n",
       "Mann-Whitney U statistic  424.000000  896.50000  408.500000     670.000000\n",
       "p-value (two-sided)         0.022484    0.00085    0.013527       0.333648"
      ]
     },
     "execution_count": 16,
     "metadata": {},
     "output_type": "execute_result"
    }
   ],
   "source": [
    "mwu = pd.DataFrame.from_dict([d1, d2])\n",
    "rws = {0: 'Mann-Whitney U statistic', 1: 'p-value (two-sided)'}\n",
    "clmns = {0 : 'AC_path', 1 : 'BC_path', 2 : 'AC&BC_path', 3 : 'diff_combi_AC'}\n",
    "mwu.rename(index = rws, columns = clmns, inplace = True)\n",
    "mwu"
   ]
  },
  {
   "cell_type": "code",
   "execution_count": 17,
   "metadata": {},
   "outputs": [
    {
     "data": {
      "text/plain": [
       "{0: 0.02248405971400842,\n",
       " 1: 0.0008499997319457394,\n",
       " 2: 0.013527149648718088,\n",
       " 3: 0.3336481166534818}"
      ]
     },
     "execution_count": 17,
     "metadata": {},
     "output_type": "execute_result"
    }
   ],
   "source": [
    "d2 # p Mann-W U"
   ]
  },
  {
   "cell_type": "code",
   "execution_count": 18,
   "metadata": {},
   "outputs": [
    {
     "name": "stderr",
     "output_type": "stream",
     "text": [
      "/home/guido/anaconda3/lib/python3.8/site-packages/scipy/stats/morestats.py:3155: UserWarning: Sample size too small for normal approximation.\n",
      "  warnings.warn(\"Sample size too small for normal approximation.\")\n"
     ]
    },
    {
     "data": {
      "text/plain": [
       "WilcoxonResult(statistic=0.0, pvalue=0.007632441648205508)"
      ]
     },
     "execution_count": 18,
     "metadata": {},
     "output_type": "execute_result"
    }
   ],
   "source": [
    "# Wilcoxon signed-rank\n",
    "w_bp110 = wilcoxon(bp110[3])\n",
    "w_bp110"
   ]
  },
  {
   "cell_type": "code",
   "execution_count": 19,
   "metadata": {},
   "outputs": [
    {
     "data": {
      "text/plain": [
       "WilcoxonResult(statistic=0.0, pvalue=0.043114446783075355)"
      ]
     },
     "execution_count": 19,
     "metadata": {},
     "output_type": "execute_result"
    }
   ],
   "source": [
    "w_bh5 = wilcoxon(bh5[3])\n",
    "w_bh5"
   ]
  },
  {
   "cell_type": "code",
   "execution_count": 20,
   "metadata": {},
   "outputs": [
    {
     "data": {
      "text/html": [
       "<div>\n",
       "<style scoped>\n",
       "    .dataframe tbody tr th:only-of-type {\n",
       "        vertical-align: middle;\n",
       "    }\n",
       "\n",
       "    .dataframe tbody tr th {\n",
       "        vertical-align: top;\n",
       "    }\n",
       "\n",
       "    .dataframe thead th {\n",
       "        text-align: right;\n",
       "    }\n",
       "</style>\n",
       "<table border=\"1\" class=\"dataframe\">\n",
       "  <thead>\n",
       "    <tr style=\"text-align: right;\">\n",
       "      <th></th>\n",
       "      <th>Wilcoxon s-r test diff_combi_AC</th>\n",
       "      <th>p-value (2s)</th>\n",
       "    </tr>\n",
       "  </thead>\n",
       "  <tbody>\n",
       "    <tr>\n",
       "      <th>BAHA5P P50</th>\n",
       "      <td>0.0</td>\n",
       "      <td>0.043114</td>\n",
       "    </tr>\n",
       "    <tr>\n",
       "      <th>BP110 P50</th>\n",
       "      <td>0.0</td>\n",
       "      <td>0.007632</td>\n",
       "    </tr>\n",
       "  </tbody>\n",
       "</table>\n",
       "</div>"
      ],
      "text/plain": [
       "            Wilcoxon s-r test diff_combi_AC  p-value (2s)\n",
       "BAHA5P P50                              0.0      0.043114\n",
       "BP110 P50                               0.0      0.007632"
      ]
     },
     "execution_count": 20,
     "metadata": {},
     "output_type": "execute_result"
    }
   ],
   "source": [
    "# make dataframe with results wilcoxon\n",
    "dwx = {'BAHA5P P50': [w_bh5[0], w_bh5[1]], 'BP110 P50' : [w_bp110[0], w_bp110[1]]} \n",
    "dfx = pd.DataFrame.from_dict(dwx, orient = 'index', columns = ['Wilcoxon s-r test diff_combi_AC', 'p-value (2s)'])\n",
    "dfx "
   ]
  },
  {
   "cell_type": "code",
   "execution_count": 21,
   "metadata": {},
   "outputs": [
    {
     "data": {
      "text/html": [
       "<div>\n",
       "<style scoped>\n",
       "    .dataframe tbody tr th:only-of-type {\n",
       "        vertical-align: middle;\n",
       "    }\n",
       "\n",
       "    .dataframe tbody tr th {\n",
       "        vertical-align: top;\n",
       "    }\n",
       "\n",
       "    .dataframe thead th {\n",
       "        text-align: right;\n",
       "    }\n",
       "</style>\n",
       "<table border=\"1\" class=\"dataframe\">\n",
       "  <thead>\n",
       "    <tr style=\"text-align: right;\">\n",
       "      <th></th>\n",
       "      <th>AC_path</th>\n",
       "      <th>BC_path</th>\n",
       "      <th>AC&amp;BC_path</th>\n",
       "      <th>diff_combi_AC</th>\n",
       "      <th>Wilcoxon s-r test diff_combi_AC</th>\n",
       "      <th>p-value (2s)</th>\n",
       "    </tr>\n",
       "  </thead>\n",
       "  <tbody>\n",
       "    <tr>\n",
       "      <th>BAHA5P P10</th>\n",
       "      <td>0.967700</td>\n",
       "      <td>0.78920</td>\n",
       "      <td>0.980300</td>\n",
       "      <td>0.000000</td>\n",
       "      <td>NaN</td>\n",
       "      <td>NaN</td>\n",
       "    </tr>\n",
       "    <tr>\n",
       "      <th>BAHA5P P50</th>\n",
       "      <td>0.999600</td>\n",
       "      <td>0.83440</td>\n",
       "      <td>0.999600</td>\n",
       "      <td>0.000000</td>\n",
       "      <td>0.0</td>\n",
       "      <td>0.043114</td>\n",
       "    </tr>\n",
       "    <tr>\n",
       "      <th>BAHA5P P90</th>\n",
       "      <td>1.000000</td>\n",
       "      <td>0.87850</td>\n",
       "      <td>1.000000</td>\n",
       "      <td>0.006400</td>\n",
       "      <td>NaN</td>\n",
       "      <td>NaN</td>\n",
       "    </tr>\n",
       "    <tr>\n",
       "      <th>BP110 P10</th>\n",
       "      <td>0.964700</td>\n",
       "      <td>0.81990</td>\n",
       "      <td>0.964700</td>\n",
       "      <td>0.000000</td>\n",
       "      <td>NaN</td>\n",
       "      <td>NaN</td>\n",
       "    </tr>\n",
       "    <tr>\n",
       "      <th>BP110 P50</th>\n",
       "      <td>0.992000</td>\n",
       "      <td>0.87000</td>\n",
       "      <td>0.992000</td>\n",
       "      <td>0.000000</td>\n",
       "      <td>0.0</td>\n",
       "      <td>0.007632</td>\n",
       "    </tr>\n",
       "    <tr>\n",
       "      <th>BP110 P90</th>\n",
       "      <td>1.000000</td>\n",
       "      <td>0.90530</td>\n",
       "      <td>1.000000</td>\n",
       "      <td>0.006800</td>\n",
       "      <td>NaN</td>\n",
       "      <td>NaN</td>\n",
       "    </tr>\n",
       "    <tr>\n",
       "      <th>Mann-Whitney U statistic</th>\n",
       "      <td>424.000000</td>\n",
       "      <td>896.50000</td>\n",
       "      <td>408.500000</td>\n",
       "      <td>670.000000</td>\n",
       "      <td>NaN</td>\n",
       "      <td>NaN</td>\n",
       "    </tr>\n",
       "    <tr>\n",
       "      <th>p-value (two-sided)</th>\n",
       "      <td>0.022484</td>\n",
       "      <td>0.00085</td>\n",
       "      <td>0.013527</td>\n",
       "      <td>0.333648</td>\n",
       "      <td>NaN</td>\n",
       "      <td>NaN</td>\n",
       "    </tr>\n",
       "  </tbody>\n",
       "</table>\n",
       "</div>"
      ],
      "text/plain": [
       "                             AC_path    BC_path  AC&BC_path  diff_combi_AC  \\\n",
       "BAHA5P P10                  0.967700    0.78920    0.980300       0.000000   \n",
       "BAHA5P P50                  0.999600    0.83440    0.999600       0.000000   \n",
       "BAHA5P P90                  1.000000    0.87850    1.000000       0.006400   \n",
       "BP110 P10                   0.964700    0.81990    0.964700       0.000000   \n",
       "BP110 P50                   0.992000    0.87000    0.992000       0.000000   \n",
       "BP110 P90                   1.000000    0.90530    1.000000       0.006800   \n",
       "Mann-Whitney U statistic  424.000000  896.50000  408.500000     670.000000   \n",
       "p-value (two-sided)         0.022484    0.00085    0.013527       0.333648   \n",
       "\n",
       "                          Wilcoxon s-r test diff_combi_AC  p-value (2s)  \n",
       "BAHA5P P10                                            NaN           NaN  \n",
       "BAHA5P P50                                            0.0      0.043114  \n",
       "BAHA5P P90                                            NaN           NaN  \n",
       "BP110 P10                                             NaN           NaN  \n",
       "BP110 P50                                             0.0      0.007632  \n",
       "BP110 P90                                             NaN           NaN  \n",
       "Mann-Whitney U statistic                              NaN           NaN  \n",
       "p-value (two-sided)                                   NaN           NaN  "
      ]
     },
     "execution_count": 21,
     "metadata": {},
     "output_type": "execute_result"
    }
   ],
   "source": [
    "# make dataframe with all results\n",
    "analysis_output = pd.concat([q, mwu])\n",
    "analysis_output = pd.concat([analysis_output, dfx], axis = 1)\n",
    "analysis_output"
   ]
  },
  {
   "cell_type": "code",
   "execution_count": 22,
   "metadata": {},
   "outputs": [],
   "source": [
    "# write to xlsx file\n",
    "analysis_output.to_excel(\"/media/guido/LACIE/Cingle_Guido/Project_band/Analysis_results/analysis_SII_Sfront65_Silence.xlsx\",\n",
    "                         sheet_name='SII_Sfront65_Silence')  "
   ]
  },
  {
   "cell_type": "code",
   "execution_count": 23,
   "metadata": {},
   "outputs": [
    {
     "data": {
      "image/png": "[encoded data removed]",
      "text/plain": [
       "<Figure size 864x432 with 1 Axes>"
      ]
     },
     "metadata": {
      "needs_background": "light"
     },
     "output_type": "display_data"
    }
   ],
   "source": [
    "# make a figure to plot SII score for the 3 paths\n",
    "ttl = 'BP110: SII for the combination path, air conduction path, bone conduction path, S in front 65 dB, in Silence'\n",
    "SII_combi = SII_bp110['AC&BC_path']\n",
    "SII_ac = SII_bp110['AC_path']\n",
    "SII_bc = SII_bp110['BC_path']\n",
    "tp = pd.melt(pd.DataFrame( {'AC & BC' : SII_combi, 'AC' : SII_ac, 'BC' : SII_bc }), \n",
    "             var_name = 'Transmission path', value_name = 'Speech Intelligibility Index') \n",
    "\n",
    "fig, ax = plt.subplots(constrained_layout=True)\n",
    "\n",
    "fig.set_figheight(6)\n",
    "fig.set_figwidth(12)\n",
    "\n",
    "ax = sns.swarmplot(data = tp, x = 'Transmission path', y = 'Speech Intelligibility Index', \n",
    "              hue = 'Transmission path', size=6, palette={'silver', 'grey', 'black'})\n",
    "\n",
    "ax.set_title(ttl)\n",
    "plt.legend(bbox_to_anchor=(0.15, 0.25), fontsize='large')\n",
    "\n",
    "# save figure to file\n",
    "plt.savefig('/media/guido/LACIE/Cingle_Guido/Project_band/Analysis_results/BP110_SII_Sfront65_Silence.tiff', \n",
    "           transparent=False, dpi=500, bbox_inches=\"tight\")\n",
    "\n",
    "\n",
    "plt.show()"
   ]
  },
  {
   "cell_type": "code",
   "execution_count": 24,
   "metadata": {},
   "outputs": [
    {
     "data": {
      "image/png": "[encoded data removed]",
      "text/plain": [
       "<Figure size 864x432 with 1 Axes>"
      ]
     },
     "metadata": {
      "needs_background": "light"
     },
     "output_type": "display_data"
    }
   ],
   "source": [
    "# make a figure to plot SII score for the 3 paths\n",
    "ttl = 'BAHA5P: SII for the combination path, air conduction path, bone conduction path, S in front 65 dB, in Silence'\n",
    "SII_combi = SII_bh5['AC&BC_path']\n",
    "SII_ac = SII_bh5['AC_path']\n",
    "SII_bc = SII_bh5['BC_path']\n",
    "tp = pd.melt(pd.DataFrame( {'AC & BC' : SII_combi, 'AC' : SII_ac, 'BC' : SII_bc }), \n",
    "             var_name = 'Transmission path', value_name = 'Speech Intelligibility Index') \n",
    "\n",
    "fig, ax = plt.subplots(constrained_layout=True)\n",
    "\n",
    "fig.set_figheight(6)\n",
    "fig.set_figwidth(12)\n",
    "\n",
    "ax = sns.swarmplot(data = tp, x = 'Transmission path', y = 'Speech Intelligibility Index', \n",
    "              hue = 'Transmission path', size=6, palette={'silver', 'grey', 'black'})\n",
    "\n",
    "ax.set_title(ttl)\n",
    "plt.legend(bbox_to_anchor=(0.15, 0.25), fontsize='large')\n",
    "\n",
    "# save figure to file\n",
    "plt.savefig('/media/guido/LACIE/Cingle_Guido/Project_band/Analysis_results/BAHA5P_SII_Sfront65_Silence.tiff', \n",
    "           transparent=False, dpi=500, bbox_inches=\"tight\")\n",
    "\n",
    "plt.show()"
   ]
  }
 ],
 "metadata": {
  "kernelspec": {
   "display_name": "Python 3 (ipykernel)",
   "language": "python",
   "name": "python3"
  },
  "language_info": {
   "codemirror_mode": {
    "name": "ipython",
    "version": 3
   },
   "file_extension": ".py",
   "mimetype": "text/x-python",
   "name": "python",
   "nbconvert_exporter": "python",
   "pygments_lexer": "ipython3",
   "version": "3.8.12"
  }
 },
 "nbformat": 4,
 "nbformat_minor": 4
}
