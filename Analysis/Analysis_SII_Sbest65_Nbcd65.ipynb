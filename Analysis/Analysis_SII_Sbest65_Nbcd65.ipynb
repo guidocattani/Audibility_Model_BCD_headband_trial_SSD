{
 "cells": [
  {
   "cell_type": "markdown",
   "metadata": {},
   "source": [
    "# Analysis SII Sbest65_Nbcd65"
   ]
  },
  {
   "cell_type": "markdown",
   "metadata": {},
   "source": [
    "24 January 2021 Guido Cattani, Revision 19 June 2022"
   ]
  },
  {
   "cell_type": "code",
   "execution_count": 1,
   "metadata": {},
   "outputs": [],
   "source": [
    "from pathlib import Path\n",
    "import pandas as pd\n",
    "import numpy as np"
   ]
  },
  {
   "cell_type": "code",
   "execution_count": 2,
   "metadata": {},
   "outputs": [],
   "source": [
    "from scipy.stats import mannwhitneyu as mannwhitneyu\n",
    "from scipy.stats import wilcoxon as wilcoxon\n",
    "from scipy.stats import rankdata as rankdata\n",
    "from scipy.stats import shapiro as shapiro\n",
    "from scipy.stats import ttest_rel as ttest_rel\n",
    "from scipy.stats import ttest_ind as ttest_ind\n",
    "from scipy.stats import levene as levene"
   ]
  },
  {
   "cell_type": "code",
   "execution_count": 3,
   "metadata": {},
   "outputs": [],
   "source": [
    "import matplotlib\n",
    "import matplotlib.pyplot as plt\n",
    "import seaborn as sns"
   ]
  },
  {
   "cell_type": "code",
   "execution_count": 4,
   "metadata": {},
   "outputs": [],
   "source": [
    "def select_bp110(df):\n",
    "    # select BP110 data\n",
    "    is_bp110 =  df['Device']=='BP110'\n",
    "    df_bp110 = df[is_bp110]\n",
    "    df_bp110.pop('Device')\n",
    "    return(df_bp110)"
   ]
  },
  {
   "cell_type": "code",
   "execution_count": 5,
   "metadata": {},
   "outputs": [],
   "source": [
    "def select_bh5(df):\n",
    "    # select BAHA5P data\n",
    "    is_baha5p =  df['Device']=='BAHA5P'\n",
    "    df_baha5p = df[is_baha5p]\n",
    "    df_baha5p.pop('Device')\n",
    "    return(df_baha5p)"
   ]
  },
  {
   "cell_type": "code",
   "execution_count": 6,
   "metadata": {},
   "outputs": [],
   "source": [
    "def read_SII():\n",
    "    f_in =  '/media/guido/LACIE/Cingle_Guido/Master/Headband/SII_Sbest65_Nbcd65.xlsx'\n",
    "    p_in = Path(f_in)   \n",
    "    df = pd.read_excel(p_in, sheet_name='SII_Sbest65_Nbcd65', header=0, nrows=85)\n",
    "    df = df.drop(['Unnamed: 0', 'Study_ID'], axis=1)\n",
    "    return df"
   ]
  },
  {
   "cell_type": "code",
   "execution_count": 7,
   "metadata": {},
   "outputs": [
    {
     "data": {
      "text/html": [
       "<div>\n",
       "<style scoped>\n",
       "    .dataframe tbody tr th:only-of-type {\n",
       "        vertical-align: middle;\n",
       "    }\n",
       "\n",
       "    .dataframe tbody tr th {\n",
       "        vertical-align: top;\n",
       "    }\n",
       "\n",
       "    .dataframe thead th {\n",
       "        text-align: right;\n",
       "    }\n",
       "</style>\n",
       "<table border=\"1\" class=\"dataframe\">\n",
       "  <thead>\n",
       "    <tr style=\"text-align: right;\">\n",
       "      <th></th>\n",
       "      <th>Device</th>\n",
       "      <th>AC_path</th>\n",
       "      <th>BC_path</th>\n",
       "      <th>AC&amp;BC_path</th>\n",
       "      <th>diff_combi_AC</th>\n",
       "    </tr>\n",
       "  </thead>\n",
       "  <tbody>\n",
       "    <tr>\n",
       "      <th>0</th>\n",
       "      <td>BP110</td>\n",
       "      <td>0.7497</td>\n",
       "      <td>0.0965</td>\n",
       "      <td>0.7497</td>\n",
       "      <td>0.0000</td>\n",
       "    </tr>\n",
       "    <tr>\n",
       "      <th>1</th>\n",
       "      <td>BP110</td>\n",
       "      <td>0.7072</td>\n",
       "      <td>0.0921</td>\n",
       "      <td>0.6642</td>\n",
       "      <td>-0.0430</td>\n",
       "    </tr>\n",
       "    <tr>\n",
       "      <th>2</th>\n",
       "      <td>BP110</td>\n",
       "      <td>0.7458</td>\n",
       "      <td>0.1053</td>\n",
       "      <td>0.7107</td>\n",
       "      <td>-0.0351</td>\n",
       "    </tr>\n",
       "    <tr>\n",
       "      <th>3</th>\n",
       "      <td>BP110</td>\n",
       "      <td>0.7458</td>\n",
       "      <td>0.0973</td>\n",
       "      <td>0.7422</td>\n",
       "      <td>-0.0036</td>\n",
       "    </tr>\n",
       "    <tr>\n",
       "      <th>4</th>\n",
       "      <td>BP110</td>\n",
       "      <td>0.7497</td>\n",
       "      <td>0.0966</td>\n",
       "      <td>0.7497</td>\n",
       "      <td>0.0000</td>\n",
       "    </tr>\n",
       "    <tr>\n",
       "      <th>...</th>\n",
       "      <td>...</td>\n",
       "      <td>...</td>\n",
       "      <td>...</td>\n",
       "      <td>...</td>\n",
       "      <td>...</td>\n",
       "    </tr>\n",
       "    <tr>\n",
       "      <th>65</th>\n",
       "      <td>BAHA5P</td>\n",
       "      <td>0.7497</td>\n",
       "      <td>0.0694</td>\n",
       "      <td>0.7340</td>\n",
       "      <td>-0.0157</td>\n",
       "    </tr>\n",
       "    <tr>\n",
       "      <th>66</th>\n",
       "      <td>BAHA5P</td>\n",
       "      <td>0.7497</td>\n",
       "      <td>0.1413</td>\n",
       "      <td>0.7497</td>\n",
       "      <td>0.0000</td>\n",
       "    </tr>\n",
       "    <tr>\n",
       "      <th>67</th>\n",
       "      <td>BAHA5P</td>\n",
       "      <td>0.7497</td>\n",
       "      <td>0.1414</td>\n",
       "      <td>0.6981</td>\n",
       "      <td>-0.0516</td>\n",
       "    </tr>\n",
       "    <tr>\n",
       "      <th>68</th>\n",
       "      <td>BAHA5P</td>\n",
       "      <td>0.7247</td>\n",
       "      <td>0.0906</td>\n",
       "      <td>0.6900</td>\n",
       "      <td>-0.0347</td>\n",
       "    </tr>\n",
       "    <tr>\n",
       "      <th>69</th>\n",
       "      <td>BAHA5P</td>\n",
       "      <td>0.7497</td>\n",
       "      <td>0.0833</td>\n",
       "      <td>0.7450</td>\n",
       "      <td>-0.0047</td>\n",
       "    </tr>\n",
       "  </tbody>\n",
       "</table>\n",
       "<p>70 rows × 5 columns</p>\n",
       "</div>"
      ],
      "text/plain": [
       "    Device  AC_path  BC_path  AC&BC_path  diff_combi_AC\n",
       "0    BP110   0.7497   0.0965      0.7497         0.0000\n",
       "1    BP110   0.7072   0.0921      0.6642        -0.0430\n",
       "2    BP110   0.7458   0.1053      0.7107        -0.0351\n",
       "3    BP110   0.7458   0.0973      0.7422        -0.0036\n",
       "4    BP110   0.7497   0.0966      0.7497         0.0000\n",
       "..     ...      ...      ...         ...            ...\n",
       "65  BAHA5P   0.7497   0.0694      0.7340        -0.0157\n",
       "66  BAHA5P   0.7497   0.1413      0.7497         0.0000\n",
       "67  BAHA5P   0.7497   0.1414      0.6981        -0.0516\n",
       "68  BAHA5P   0.7247   0.0906      0.6900        -0.0347\n",
       "69  BAHA5P   0.7497   0.0833      0.7450        -0.0047\n",
       "\n",
       "[70 rows x 5 columns]"
      ]
     },
     "execution_count": 7,
     "metadata": {},
     "output_type": "execute_result"
    }
   ],
   "source": [
    "SII = read_SII()\n",
    "SII"
   ]
  },
  {
   "cell_type": "code",
   "execution_count": 8,
   "metadata": {},
   "outputs": [],
   "source": [
    "# group data by device type and perform calculation of quantiles 10, 50, 90\n",
    "dvc = SII.groupby('Device')\n",
    "quantiles = [0.10, 0.50, 0.90]\n",
    "q = dvc.quantile(q=quantiles)"
   ]
  },
  {
   "cell_type": "code",
   "execution_count": 9,
   "metadata": {},
   "outputs": [
    {
     "data": {
      "text/html": [
       "<div>\n",
       "<style scoped>\n",
       "    .dataframe tbody tr th:only-of-type {\n",
       "        vertical-align: middle;\n",
       "    }\n",
       "\n",
       "    .dataframe tbody tr th {\n",
       "        vertical-align: top;\n",
       "    }\n",
       "\n",
       "    .dataframe thead th {\n",
       "        text-align: right;\n",
       "    }\n",
       "</style>\n",
       "<table border=\"1\" class=\"dataframe\">\n",
       "  <thead>\n",
       "    <tr style=\"text-align: right;\">\n",
       "      <th></th>\n",
       "      <th>AC_path</th>\n",
       "      <th>BC_path</th>\n",
       "      <th>AC&amp;BC_path</th>\n",
       "      <th>diff_combi_AC</th>\n",
       "    </tr>\n",
       "  </thead>\n",
       "  <tbody>\n",
       "    <tr>\n",
       "      <th>BAHA5P P10</th>\n",
       "      <td>0.7252</td>\n",
       "      <td>0.0824</td>\n",
       "      <td>0.6787</td>\n",
       "      <td>-0.0710</td>\n",
       "    </tr>\n",
       "    <tr>\n",
       "      <th>BAHA5P P50</th>\n",
       "      <td>0.7497</td>\n",
       "      <td>0.1170</td>\n",
       "      <td>0.7340</td>\n",
       "      <td>-0.0157</td>\n",
       "    </tr>\n",
       "    <tr>\n",
       "      <th>BAHA5P P90</th>\n",
       "      <td>0.7497</td>\n",
       "      <td>0.1414</td>\n",
       "      <td>0.7497</td>\n",
       "      <td>0.0000</td>\n",
       "    </tr>\n",
       "    <tr>\n",
       "      <th>BP110 P10</th>\n",
       "      <td>0.7247</td>\n",
       "      <td>0.0843</td>\n",
       "      <td>0.6655</td>\n",
       "      <td>-0.0627</td>\n",
       "    </tr>\n",
       "    <tr>\n",
       "      <th>BP110 P50</th>\n",
       "      <td>0.7497</td>\n",
       "      <td>0.0950</td>\n",
       "      <td>0.7247</td>\n",
       "      <td>-0.0061</td>\n",
       "    </tr>\n",
       "    <tr>\n",
       "      <th>BP110 P90</th>\n",
       "      <td>0.7497</td>\n",
       "      <td>0.1042</td>\n",
       "      <td>0.7497</td>\n",
       "      <td>0.0000</td>\n",
       "    </tr>\n",
       "  </tbody>\n",
       "</table>\n",
       "</div>"
      ],
      "text/plain": [
       "            AC_path  BC_path  AC&BC_path  diff_combi_AC\n",
       "BAHA5P P10   0.7252   0.0824      0.6787        -0.0710\n",
       "BAHA5P P50   0.7497   0.1170      0.7340        -0.0157\n",
       "BAHA5P P90   0.7497   0.1414      0.7497         0.0000\n",
       "BP110 P10    0.7247   0.0843      0.6655        -0.0627\n",
       "BP110 P50    0.7497   0.0950      0.7247        -0.0061\n",
       "BP110 P90    0.7497   0.1042      0.7497         0.0000"
      ]
     },
     "execution_count": 9,
     "metadata": {},
     "output_type": "execute_result"
    }
   ],
   "source": [
    "q= q.round(decimals=4)\n",
    "q = q.reset_index()\n",
    "diq = {0:'BAHA5P P10', 1:'BAHA5P P50', 2:'BAHA5P P90', \n",
    "      3:'BP110 P10', 4:'BP110 P50', 5:'BP110 P90'} \n",
    "\n",
    "q = q.rename(index=diq)\n",
    "q.drop(['Device', 'level_1'], axis=1, inplace = True)\n",
    "q"
   ]
  },
  {
   "cell_type": "code",
   "execution_count": 10,
   "metadata": {},
   "outputs": [
    {
     "data": {
      "text/plain": [
       "(35, 35)"
      ]
     },
     "execution_count": 10,
     "metadata": {},
     "output_type": "execute_result"
    }
   ],
   "source": [
    "SII_bp110 = select_bp110(SII)\n",
    "SII_bh5 = select_bh5(SII)\n",
    "len(SII_bp110), len(SII_bh5)"
   ]
  },
  {
   "cell_type": "code",
   "execution_count": 11,
   "metadata": {},
   "outputs": [],
   "source": [
    "bh5 = SII_bh5.T.to_numpy()\n",
    "bp110 = SII_bp110.T.to_numpy()"
   ]
  },
  {
   "cell_type": "code",
   "execution_count": 12,
   "metadata": {},
   "outputs": [
    {
     "data": {
      "text/html": [
       "<div>\n",
       "<style scoped>\n",
       "    .dataframe tbody tr th:only-of-type {\n",
       "        vertical-align: middle;\n",
       "    }\n",
       "\n",
       "    .dataframe tbody tr th {\n",
       "        vertical-align: top;\n",
       "    }\n",
       "\n",
       "    .dataframe thead th {\n",
       "        text-align: right;\n",
       "    }\n",
       "</style>\n",
       "<table border=\"1\" class=\"dataframe\">\n",
       "  <thead>\n",
       "    <tr style=\"text-align: right;\">\n",
       "      <th></th>\n",
       "      <th>AC_path</th>\n",
       "      <th>BC_path</th>\n",
       "      <th>AC&amp;BC_path</th>\n",
       "      <th>diff_combi_AC</th>\n",
       "    </tr>\n",
       "  </thead>\n",
       "  <tbody>\n",
       "    <tr>\n",
       "      <th>Shapiro test statistic BH5</th>\n",
       "      <td>0.451541</td>\n",
       "      <td>0.975849</td>\n",
       "      <td>0.712717</td>\n",
       "      <td>0.742645</td>\n",
       "    </tr>\n",
       "    <tr>\n",
       "      <th>p-value BH5</th>\n",
       "      <td>0.0</td>\n",
       "      <td>0.621711</td>\n",
       "      <td>0.000001</td>\n",
       "      <td>0.000002</td>\n",
       "    </tr>\n",
       "    <tr>\n",
       "      <th>normally distributed in BH5</th>\n",
       "      <td>False</td>\n",
       "      <td>True</td>\n",
       "      <td>False</td>\n",
       "      <td>False</td>\n",
       "    </tr>\n",
       "    <tr>\n",
       "      <th>Shapiro test statistic BP110</th>\n",
       "      <td>0.652087</td>\n",
       "      <td>0.969266</td>\n",
       "      <td>0.828252</td>\n",
       "      <td>0.757935</td>\n",
       "    </tr>\n",
       "    <tr>\n",
       "      <th>p-value BP110</th>\n",
       "      <td>0.0</td>\n",
       "      <td>0.423392</td>\n",
       "      <td>0.000077</td>\n",
       "      <td>0.000003</td>\n",
       "    </tr>\n",
       "    <tr>\n",
       "      <th>normally distributed in BP110</th>\n",
       "      <td>False</td>\n",
       "      <td>True</td>\n",
       "      <td>False</td>\n",
       "      <td>False</td>\n",
       "    </tr>\n",
       "  </tbody>\n",
       "</table>\n",
       "</div>"
      ],
      "text/plain": [
       "                                AC_path   BC_path AC&BC_path diff_combi_AC\n",
       "Shapiro test statistic BH5     0.451541  0.975849   0.712717      0.742645\n",
       "p-value BH5                         0.0  0.621711   0.000001      0.000002\n",
       "normally distributed in BH5       False      True      False         False\n",
       "Shapiro test statistic BP110   0.652087  0.969266   0.828252      0.757935\n",
       "p-value BP110                       0.0  0.423392   0.000077      0.000003\n",
       "normally distributed in BP110     False      True      False         False"
      ]
     },
     "execution_count": 12,
     "metadata": {},
     "output_type": "execute_result"
    }
   ],
   "source": [
    "# check normality output group BAHA5P & BP110 with Shapiro-Wilk test\n",
    "\n",
    "shp = dict()\n",
    "\n",
    "for i in range(0, 4):\n",
    "    a = bh5[i]\n",
    "    b = bp110[i]\n",
    "    shapiro_stat_bh5, pVal_bh5 = shapiro(a) # bh5 scipy.stats Shapiro-Wilk test test\n",
    "    shapiro_stat_bp110, pVal_bp110 = shapiro(b) # bp110 scipy.stats Shapiro-Wilk test test\n",
    "    bh5_is_normal = False if pVal_bh5 < 0.05 else True\n",
    "    bp110_is_normal = False if pVal_bp110 < 0.05 else True\n",
    "    st = {i: [shapiro_stat_bh5, pVal_bh5, bh5_is_normal, shapiro_stat_bp110, pVal_bp110, bp110_is_normal]}\n",
    "    shp.update(st)\n",
    "\n",
    "shapiro_test = pd.DataFrame.from_dict(shp)\n",
    "dish =  {0: 'Shapiro test statistic BH5', 1: 'p-value BH5', 2: 'normally distributed in BH5', 3: 'Shapiro test statistic BP110', \n",
    "         4: 'p-value BP110', 5: 'normally distributed in BP110'}\n",
    "clmns = {0 : 'AC_path', 1 : 'BC_path', 2 : 'AC&BC_path', 3 : 'diff_combi_AC'}\n",
    "shapiro_test.rename(index=dish, columns = clmns, inplace = True)\n",
    "\n",
    "shapiro_test"
   ]
  },
  {
   "cell_type": "code",
   "execution_count": 13,
   "metadata": {},
   "outputs": [
    {
     "data": {
      "text/plain": [
       "LeveneResult(statistic=35.5088186736013, pvalue=1.0030023408792772e-07)"
      ]
     },
     "execution_count": 13,
     "metadata": {},
     "output_type": "execute_result"
    }
   ],
   "source": [
    "# Levene test for equal variances SII bc_path bp110 vs. bh5 groups\n",
    "levene(bp110[1], bh5[1])"
   ]
  },
  {
   "cell_type": "code",
   "execution_count": 14,
   "metadata": {},
   "outputs": [
    {
     "data": {
      "text/plain": [
       "Ttest_indResult(statistic=-5.33308779367925, pvalue=3.931679064265091e-06)"
      ]
     },
     "execution_count": 14,
     "metadata": {},
     "output_type": "execute_result"
    }
   ],
   "source": [
    "#Welch’s t-test (which does not assume equal population variance) SII bc_path bp110 vs. bh5 groups\n",
    "ttest_ind(bp110[1], bh5[1], equal_var=False)"
   ]
  },
  {
   "cell_type": "code",
   "execution_count": 15,
   "metadata": {},
   "outputs": [],
   "source": [
    "d1 = dict()\n",
    "d2 = dict()\n",
    "for i in range(0, 4):\n",
    "    (stat, pvalue) = mannwhitneyu(bp110[i], bh5[i], use_continuity=False, alternative='two-sided')\n",
    "    d1.update({i : stat})\n",
    "    d2.update({i : pvalue})"
   ]
  },
  {
   "cell_type": "code",
   "execution_count": 16,
   "metadata": {},
   "outputs": [
    {
     "data": {
      "text/html": [
       "<div>\n",
       "<style scoped>\n",
       "    .dataframe tbody tr th:only-of-type {\n",
       "        vertical-align: middle;\n",
       "    }\n",
       "\n",
       "    .dataframe tbody tr th {\n",
       "        vertical-align: top;\n",
       "    }\n",
       "\n",
       "    .dataframe thead th {\n",
       "        text-align: right;\n",
       "    }\n",
       "</style>\n",
       "<table border=\"1\" class=\"dataframe\">\n",
       "  <thead>\n",
       "    <tr style=\"text-align: right;\">\n",
       "      <th></th>\n",
       "      <th>AC_path</th>\n",
       "      <th>BC_path</th>\n",
       "      <th>AC&amp;BC_path</th>\n",
       "      <th>diff_combi_AC</th>\n",
       "    </tr>\n",
       "  </thead>\n",
       "  <tbody>\n",
       "    <tr>\n",
       "      <th>Mann-Whitney U statistic</th>\n",
       "      <td>439.00000</td>\n",
       "      <td>248.000000</td>\n",
       "      <td>608.000000</td>\n",
       "      <td>675.00000</td>\n",
       "    </tr>\n",
       "    <tr>\n",
       "      <th>p-value (two-sided)</th>\n",
       "      <td>0.01464</td>\n",
       "      <td>0.000019</td>\n",
       "      <td>0.957738</td>\n",
       "      <td>0.46066</td>\n",
       "    </tr>\n",
       "  </tbody>\n",
       "</table>\n",
       "</div>"
      ],
      "text/plain": [
       "                            AC_path     BC_path  AC&BC_path  diff_combi_AC\n",
       "Mann-Whitney U statistic  439.00000  248.000000  608.000000      675.00000\n",
       "p-value (two-sided)         0.01464    0.000019    0.957738        0.46066"
      ]
     },
     "execution_count": 16,
     "metadata": {},
     "output_type": "execute_result"
    }
   ],
   "source": [
    "mwu = pd.DataFrame.from_dict([d1, d2])\n",
    "rws = {0: 'Mann-Whitney U statistic', 1: 'p-value (two-sided)'}\n",
    "clmns = {0 : 'AC_path', 1 : 'BC_path', 2 : 'AC&BC_path', 3 : 'diff_combi_AC'}\n",
    "mwu.rename(index = rws, columns = clmns, inplace = True)\n",
    "mwu"
   ]
  },
  {
   "cell_type": "code",
   "execution_count": 17,
   "metadata": {},
   "outputs": [
    {
     "data": {
      "text/plain": [
       "{0: 0.014639655291387077,\n",
       " 1: 1.8564769405396295e-05,\n",
       " 2: 0.9577382623781785,\n",
       " 3: 0.4606600605353671}"
      ]
     },
     "execution_count": 17,
     "metadata": {},
     "output_type": "execute_result"
    }
   ],
   "source": [
    "d2 # p Mann-W U test"
   ]
  },
  {
   "cell_type": "code",
   "execution_count": 18,
   "metadata": {},
   "outputs": [
    {
     "data": {
      "text/plain": [
       "WilcoxonResult(statistic=0.0, pvalue=5.606116527496013e-06)"
      ]
     },
     "execution_count": 18,
     "metadata": {},
     "output_type": "execute_result"
    }
   ],
   "source": [
    "# wilcoxon signed-rank\n",
    "w_bp110 = wilcoxon(bp110[3])\n",
    "w_bp110"
   ]
  },
  {
   "cell_type": "code",
   "execution_count": 19,
   "metadata": {},
   "outputs": [
    {
     "data": {
      "text/plain": [
       "WilcoxonResult(statistic=0.0, pvalue=3.786882511451119e-06)"
      ]
     },
     "execution_count": 19,
     "metadata": {},
     "output_type": "execute_result"
    }
   ],
   "source": [
    "w_bh5 = wilcoxon(bh5[3])\n",
    "w_bh5"
   ]
  },
  {
   "cell_type": "code",
   "execution_count": 20,
   "metadata": {},
   "outputs": [
    {
     "data": {
      "text/html": [
       "<div>\n",
       "<style scoped>\n",
       "    .dataframe tbody tr th:only-of-type {\n",
       "        vertical-align: middle;\n",
       "    }\n",
       "\n",
       "    .dataframe tbody tr th {\n",
       "        vertical-align: top;\n",
       "    }\n",
       "\n",
       "    .dataframe thead th {\n",
       "        text-align: right;\n",
       "    }\n",
       "</style>\n",
       "<table border=\"1\" class=\"dataframe\">\n",
       "  <thead>\n",
       "    <tr style=\"text-align: right;\">\n",
       "      <th></th>\n",
       "      <th>Wilcoxon s-r test diff_combi_AC</th>\n",
       "      <th>p-value (2s)</th>\n",
       "    </tr>\n",
       "  </thead>\n",
       "  <tbody>\n",
       "    <tr>\n",
       "      <th>BAHA5P P50</th>\n",
       "      <td>0.0</td>\n",
       "      <td>0.000004</td>\n",
       "    </tr>\n",
       "    <tr>\n",
       "      <th>BP110 P50</th>\n",
       "      <td>0.0</td>\n",
       "      <td>0.000006</td>\n",
       "    </tr>\n",
       "  </tbody>\n",
       "</table>\n",
       "</div>"
      ],
      "text/plain": [
       "            Wilcoxon s-r test diff_combi_AC  p-value (2s)\n",
       "BAHA5P P50                              0.0      0.000004\n",
       "BP110 P50                               0.0      0.000006"
      ]
     },
     "execution_count": 20,
     "metadata": {},
     "output_type": "execute_result"
    }
   ],
   "source": [
    "# make dataframe with results wilcoxon\n",
    "dwx = {'BAHA5P P50': [w_bh5[0], w_bh5[1]], 'BP110 P50' : [w_bp110[0], w_bp110[1]]} \n",
    "dfx = pd.DataFrame.from_dict(dwx, orient = 'index', columns = ['Wilcoxon s-r test diff_combi_AC', 'p-value (2s)'])\n",
    "dfx "
   ]
  },
  {
   "cell_type": "code",
   "execution_count": 21,
   "metadata": {},
   "outputs": [
    {
     "data": {
      "text/html": [
       "<div>\n",
       "<style scoped>\n",
       "    .dataframe tbody tr th:only-of-type {\n",
       "        vertical-align: middle;\n",
       "    }\n",
       "\n",
       "    .dataframe tbody tr th {\n",
       "        vertical-align: top;\n",
       "    }\n",
       "\n",
       "    .dataframe thead th {\n",
       "        text-align: right;\n",
       "    }\n",
       "</style>\n",
       "<table border=\"1\" class=\"dataframe\">\n",
       "  <thead>\n",
       "    <tr style=\"text-align: right;\">\n",
       "      <th></th>\n",
       "      <th>AC_path</th>\n",
       "      <th>BC_path</th>\n",
       "      <th>AC&amp;BC_path</th>\n",
       "      <th>diff_combi_AC</th>\n",
       "      <th>Wilcoxon s-r test diff_combi_AC</th>\n",
       "      <th>p-value (2s)</th>\n",
       "    </tr>\n",
       "  </thead>\n",
       "  <tbody>\n",
       "    <tr>\n",
       "      <th>BAHA5P P10</th>\n",
       "      <td>0.72520</td>\n",
       "      <td>0.082400</td>\n",
       "      <td>0.678700</td>\n",
       "      <td>-0.07100</td>\n",
       "      <td>NaN</td>\n",
       "      <td>NaN</td>\n",
       "    </tr>\n",
       "    <tr>\n",
       "      <th>BAHA5P P50</th>\n",
       "      <td>0.74970</td>\n",
       "      <td>0.117000</td>\n",
       "      <td>0.734000</td>\n",
       "      <td>-0.01570</td>\n",
       "      <td>0.0</td>\n",
       "      <td>0.000004</td>\n",
       "    </tr>\n",
       "    <tr>\n",
       "      <th>BAHA5P P90</th>\n",
       "      <td>0.74970</td>\n",
       "      <td>0.141400</td>\n",
       "      <td>0.749700</td>\n",
       "      <td>0.00000</td>\n",
       "      <td>NaN</td>\n",
       "      <td>NaN</td>\n",
       "    </tr>\n",
       "    <tr>\n",
       "      <th>BP110 P10</th>\n",
       "      <td>0.72470</td>\n",
       "      <td>0.084300</td>\n",
       "      <td>0.665500</td>\n",
       "      <td>-0.06270</td>\n",
       "      <td>NaN</td>\n",
       "      <td>NaN</td>\n",
       "    </tr>\n",
       "    <tr>\n",
       "      <th>BP110 P50</th>\n",
       "      <td>0.74970</td>\n",
       "      <td>0.095000</td>\n",
       "      <td>0.724700</td>\n",
       "      <td>-0.00610</td>\n",
       "      <td>0.0</td>\n",
       "      <td>0.000006</td>\n",
       "    </tr>\n",
       "    <tr>\n",
       "      <th>BP110 P90</th>\n",
       "      <td>0.74970</td>\n",
       "      <td>0.104200</td>\n",
       "      <td>0.749700</td>\n",
       "      <td>0.00000</td>\n",
       "      <td>NaN</td>\n",
       "      <td>NaN</td>\n",
       "    </tr>\n",
       "    <tr>\n",
       "      <th>Mann-Whitney U statistic</th>\n",
       "      <td>439.00000</td>\n",
       "      <td>248.000000</td>\n",
       "      <td>608.000000</td>\n",
       "      <td>675.00000</td>\n",
       "      <td>NaN</td>\n",
       "      <td>NaN</td>\n",
       "    </tr>\n",
       "    <tr>\n",
       "      <th>p-value (two-sided)</th>\n",
       "      <td>0.01464</td>\n",
       "      <td>0.000019</td>\n",
       "      <td>0.957738</td>\n",
       "      <td>0.46066</td>\n",
       "      <td>NaN</td>\n",
       "      <td>NaN</td>\n",
       "    </tr>\n",
       "  </tbody>\n",
       "</table>\n",
       "</div>"
      ],
      "text/plain": [
       "                            AC_path     BC_path  AC&BC_path  diff_combi_AC  \\\n",
       "BAHA5P P10                  0.72520    0.082400    0.678700       -0.07100   \n",
       "BAHA5P P50                  0.74970    0.117000    0.734000       -0.01570   \n",
       "BAHA5P P90                  0.74970    0.141400    0.749700        0.00000   \n",
       "BP110 P10                   0.72470    0.084300    0.665500       -0.06270   \n",
       "BP110 P50                   0.74970    0.095000    0.724700       -0.00610   \n",
       "BP110 P90                   0.74970    0.104200    0.749700        0.00000   \n",
       "Mann-Whitney U statistic  439.00000  248.000000  608.000000      675.00000   \n",
       "p-value (two-sided)         0.01464    0.000019    0.957738        0.46066   \n",
       "\n",
       "                          Wilcoxon s-r test diff_combi_AC  p-value (2s)  \n",
       "BAHA5P P10                                            NaN           NaN  \n",
       "BAHA5P P50                                            0.0      0.000004  \n",
       "BAHA5P P90                                            NaN           NaN  \n",
       "BP110 P10                                             NaN           NaN  \n",
       "BP110 P50                                             0.0      0.000006  \n",
       "BP110 P90                                             NaN           NaN  \n",
       "Mann-Whitney U statistic                              NaN           NaN  \n",
       "p-value (two-sided)                                   NaN           NaN  "
      ]
     },
     "execution_count": 21,
     "metadata": {},
     "output_type": "execute_result"
    }
   ],
   "source": [
    "# make dataframe with all results\n",
    "analysis_output = pd.concat([q, mwu])\n",
    "analysis_output = pd.concat([analysis_output, dfx], axis = 1)\n",
    "analysis_output"
   ]
  },
  {
   "cell_type": "code",
   "execution_count": 22,
   "metadata": {},
   "outputs": [],
   "source": [
    "# write to xlsx file\n",
    "analysis_output.to_excel(\"/media/guido/LACIE/Cingle_Guido/Project_band/Analysis_results/analysis_SII_Sbest65_Nbcd65.xlsx\",\n",
    "                         sheet_name='SII_Sbest65_Nbcd65')  "
   ]
  },
  {
   "cell_type": "code",
   "execution_count": 23,
   "metadata": {},
   "outputs": [
    {
     "data": {
      "image/png": "[encoded data removed]",
      "text/plain": [
       "<Figure size 864x432 with 1 Axes>"
      ]
     },
     "metadata": {
      "needs_background": "light"
     },
     "output_type": "display_data"
    }
   ],
   "source": [
    "# make a figure to plot SII for the 3 paths\n",
    "ttl = 'BP110: SII for the combination path, air conduction path, bone conduction path, S at best side 65 dB, N bcd side 65 dB'\n",
    "SII_combi = SII_bp110['AC&BC_path']\n",
    "SII_ac = SII_bp110['AC_path']\n",
    "SII_bc = SII_bp110['BC_path']\n",
    "tp = pd.melt(pd.DataFrame( {'AC & BC' : SII_combi, 'AC' : SII_ac, 'BC' : SII_bc }), \n",
    "             var_name = 'Transmission path', value_name = 'Speech Intelligibility Index') \n",
    "\n",
    "fig, ax = plt.subplots(constrained_layout=True)\n",
    "\n",
    "fig.set_figheight(6)\n",
    "fig.set_figwidth(12)\n",
    "\n",
    "ax = sns.swarmplot(data = tp, x = 'Transmission path', y = 'Speech Intelligibility Index', \n",
    "              hue = 'Transmission path', size=5, palette={'silver', 'grey', 'black'})\n",
    "\n",
    "ax.set_title(ttl)\n",
    "plt.legend(bbox_to_anchor=(0.15, 0.25), fontsize='large')\n",
    "\n",
    "# save figure to file\n",
    "plt.savefig('/media/guido/LACIE/Cingle_Guido/Project_band/Analysis_results/BP110_SII_Sbest65_Nbcd65.tiff', \n",
    "           transparent=False, dpi=500, bbox_inches=\"tight\")\n",
    "\n",
    "plt.show()"
   ]
  },
  {
   "cell_type": "code",
   "execution_count": 24,
   "metadata": {},
   "outputs": [
    {
     "data": {
      "image/png": "[encoded data removed]",
      "text/plain": [
       "<Figure size 864x432 with 1 Axes>"
      ]
     },
     "metadata": {
      "needs_background": "light"
     },
     "output_type": "display_data"
    }
   ],
   "source": [
    "# make a figure to plot SII for the 3 paths\n",
    "ttl = 'BAHA5P: SII for the combination path, air conduction path, bone conduction path, S at best ear side 65 dB, N BCD side 65 dB'\n",
    "SII_combi = SII_bh5['AC&BC_path']\n",
    "SII_ac = SII_bh5['AC_path']\n",
    "SII_bc = SII_bh5['BC_path']\n",
    "tp = pd.melt(pd.DataFrame( {'AC & BC' : SII_combi, 'AC' : SII_ac, 'BC' : SII_bc }), \n",
    "             var_name = 'Transmission path', value_name = 'Speech Intelligibility Index') \n",
    "\n",
    "fig, ax = plt.subplots(constrained_layout=True)\n",
    "\n",
    "fig.set_figheight(6)\n",
    "fig.set_figwidth(12)\n",
    "\n",
    "ax = sns.swarmplot(data = tp, x = 'Transmission path', y = 'Speech Intelligibility Index', \n",
    "              hue = 'Transmission path', size=5, palette={'silver', 'grey', 'black'})\n",
    "\n",
    "ax.set_title(ttl)\n",
    "plt.legend(bbox_to_anchor=(0.15, 0.25), fontsize='large')\n",
    "\n",
    "# save figure to file\n",
    "plt.savefig('/media/guido/LACIE/Cingle_Guido/Project_band/Analysis_results/BAHA5P_SII_Sbest65_Nbcd65.tiff', \n",
    "           transparent=False, dpi=500, bbox_inches=\"tight\")\n",
    "\n",
    "plt.show()"
   ]
  }
 ],
 "metadata": {
  "kernelspec": {
   "display_name": "Python 3 (ipykernel)",
   "language": "python",
   "name": "python3"
  },
  "language_info": {
   "codemirror_mode": {
    "name": "ipython",
    "version": 3
   },
   "file_extension": ".py",
   "mimetype": "text/x-python",
   "name": "python",
   "nbconvert_exporter": "python",
   "pygments_lexer": "ipython3",
   "version": "3.8.12"
  }
 },
 "nbformat": 4,
 "nbformat_minor": 4
}
