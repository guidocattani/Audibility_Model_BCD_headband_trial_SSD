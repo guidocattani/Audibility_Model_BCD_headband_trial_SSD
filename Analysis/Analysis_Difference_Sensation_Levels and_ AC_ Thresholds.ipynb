{
 "cells": [
  {
   "cell_type": "markdown",
   "metadata": {},
   "source": [
    "# Analysis of the relation between the sensation level difference (SL BC - SL AC) and the AC thresholds (linear regression)"
   ]
  },
  {
   "cell_type": "markdown",
   "metadata": {},
   "source": [
    "14-03-2021 Guido Cattani"
   ]
  },
  {
   "cell_type": "code",
   "execution_count": 1,
   "metadata": {},
   "outputs": [],
   "source": [
    "from pathlib import Path\n",
    "import pandas as pd\n",
    "import numpy as np\n",
    "import matplotlib\n",
    "import matplotlib.pyplot as plt\n",
    "import matplotlib.lines as mlines\n",
    "import matplotlib.patches as mpatches\n",
    "from scipy.stats import linregress as linregress"
   ]
  },
  {
   "cell_type": "code",
   "execution_count": 2,
   "metadata": {},
   "outputs": [],
   "source": [
    "# read difference sensation levels BC - AC simulated with a 65 dB ISDS input signal at BCD side (90 degree angle)\n",
    "def read_diff_sl():\n",
    "    f_in = '/media/guido/LACIE/Cingle_Guido/Master/Headband/Diff_SL.xlsx'\n",
    "    p_in = Path(f_in)   \n",
    "    df = pd.read_excel(p_in, engine='openpyxl', sheet_name='Diff_SL_65dB_90deg', header=0, nrows=85)\n",
    "    df = df.drop(['Unnamed: 0'], axis=1)\n",
    "    df = df.drop(columns='Study_ID')\n",
    "    df = df.fillna(pd.NA)\n",
    "    return df"
   ]
  },
  {
   "cell_type": "code",
   "execution_count": 3,
   "metadata": {},
   "outputs": [],
   "source": [
    "# read measured thresholds\n",
    "def read_AC_thresholds():\n",
    "    f_in = '/media/guido/LACIE/Cingle_Guido/Master/Headband/AC_thresholds.xlsx'\n",
    "    p_in = Path(f_in)   \n",
    "    df = pd.read_excel(p_in, engine='openpyxl', sheet_name=0, header=0, nrows=85)\n",
    "    df = df.drop(['Unnamed: 0'], axis=1)\n",
    "    type_dict = {'Study_ID': 'str', 'Device': 'str',\n",
    "             'AC_125':'float32', 'AC_250':'float32', 'AC_500':'float32', \n",
    "             'AC_1000': 'float32', 'AC_2000': 'float32', \n",
    "             'AC_4000': 'float32', 'AC_8000': 'float32'}\n",
    "    df = df.astype(type_dict)\n",
    "    df = df.drop(columns='Study_ID')\n",
    "    df = df.fillna(pd.NA)\n",
    "    return df"
   ]
  },
  {
   "cell_type": "code",
   "execution_count": 4,
   "metadata": {},
   "outputs": [],
   "source": [
    "def select_bp110(df):\n",
    "    # select BP110 data\n",
    "    is_bp110 =  df['Device']=='BP110'\n",
    "    df_bp110 = df[is_bp110]\n",
    "    df_bp110.pop('Device')\n",
    "    return(df_bp110)"
   ]
  },
  {
   "cell_type": "code",
   "execution_count": 5,
   "metadata": {},
   "outputs": [],
   "source": [
    "def select_bh5(df):\n",
    "    # select BAHA5P data\n",
    "    is_baha5p =  df['Device']=='BAHA5P'\n",
    "    df_baha5p = df[is_baha5p]\n",
    "    df_baha5p.pop('Device')\n",
    "    return(df_baha5p)"
   ]
  },
  {
   "cell_type": "code",
   "execution_count": 6,
   "metadata": {},
   "outputs": [
    {
     "data": {
      "text/html": [
       "<div>\n",
       "<style scoped>\n",
       "    .dataframe tbody tr th:only-of-type {\n",
       "        vertical-align: middle;\n",
       "    }\n",
       "\n",
       "    .dataframe tbody tr th {\n",
       "        vertical-align: top;\n",
       "    }\n",
       "\n",
       "    .dataframe thead th {\n",
       "        text-align: right;\n",
       "    }\n",
       "</style>\n",
       "<table border=\"1\" class=\"dataframe\">\n",
       "  <thead>\n",
       "    <tr style=\"text-align: right;\">\n",
       "      <th></th>\n",
       "      <th>Device</th>\n",
       "      <th>AC_1000</th>\n",
       "      <th>AC_2000</th>\n",
       "      <th>AC_4000</th>\n",
       "      <th>1000_Hz</th>\n",
       "      <th>2000_Hz</th>\n",
       "      <th>4000_Hz</th>\n",
       "    </tr>\n",
       "  </thead>\n",
       "  <tbody>\n",
       "    <tr>\n",
       "      <th>0</th>\n",
       "      <td>BP110</td>\n",
       "      <td>10.0</td>\n",
       "      <td>10.0</td>\n",
       "      <td>0.0</td>\n",
       "      <td>-18</td>\n",
       "      <td>-28</td>\n",
       "      <td>-32.0</td>\n",
       "    </tr>\n",
       "    <tr>\n",
       "      <th>1</th>\n",
       "      <td>BP110</td>\n",
       "      <td>10.0</td>\n",
       "      <td>15.0</td>\n",
       "      <td>65.0</td>\n",
       "      <td>-12</td>\n",
       "      <td>-4</td>\n",
       "      <td>-6.0</td>\n",
       "    </tr>\n",
       "    <tr>\n",
       "      <th>2</th>\n",
       "      <td>BP110</td>\n",
       "      <td>15.0</td>\n",
       "      <td>10.0</td>\n",
       "      <td>30.0</td>\n",
       "      <td>4</td>\n",
       "      <td>-7</td>\n",
       "      <td>-36.0</td>\n",
       "    </tr>\n",
       "    <tr>\n",
       "      <th>3</th>\n",
       "      <td>BP110</td>\n",
       "      <td>5.0</td>\n",
       "      <td>20.0</td>\n",
       "      <td>45.0</td>\n",
       "      <td>-9</td>\n",
       "      <td>-1</td>\n",
       "      <td>2.0</td>\n",
       "    </tr>\n",
       "    <tr>\n",
       "      <th>4</th>\n",
       "      <td>BP110</td>\n",
       "      <td>5.0</td>\n",
       "      <td>5.0</td>\n",
       "      <td>15.0</td>\n",
       "      <td>3</td>\n",
       "      <td>-8</td>\n",
       "      <td>-7.0</td>\n",
       "    </tr>\n",
       "  </tbody>\n",
       "</table>\n",
       "</div>"
      ],
      "text/plain": [
       "  Device  AC_1000  AC_2000  AC_4000  1000_Hz  2000_Hz 4000_Hz\n",
       "0  BP110     10.0     10.0      0.0      -18      -28   -32.0\n",
       "1  BP110     10.0     15.0     65.0      -12       -4    -6.0\n",
       "2  BP110     15.0     10.0     30.0        4       -7   -36.0\n",
       "3  BP110      5.0     20.0     45.0       -9       -1     2.0\n",
       "4  BP110      5.0      5.0     15.0        3       -8    -7.0"
      ]
     },
     "execution_count": 6,
     "metadata": {},
     "output_type": "execute_result"
    }
   ],
   "source": [
    "act = read_AC_thresholds()\n",
    "dsl = read_diff_sl()\n",
    "act1 = act[['Device', 'AC_1000', 'AC_2000', 'AC_4000']].copy()\n",
    "dsl1 = dsl[['1000_Hz', '2000_Hz', '4000_Hz']].copy()\n",
    "combi = pd.concat([act1, dsl1], axis=1)\n",
    "combi = combi.dropna()\n",
    "combi.head()"
   ]
  },
  {
   "cell_type": "code",
   "execution_count": 7,
   "metadata": {},
   "outputs": [
    {
     "data": {
      "text/html": [
       "<div>\n",
       "<style scoped>\n",
       "    .dataframe tbody tr th:only-of-type {\n",
       "        vertical-align: middle;\n",
       "    }\n",
       "\n",
       "    .dataframe tbody tr th {\n",
       "        vertical-align: top;\n",
       "    }\n",
       "\n",
       "    .dataframe thead th {\n",
       "        text-align: right;\n",
       "    }\n",
       "</style>\n",
       "<table border=\"1\" class=\"dataframe\">\n",
       "  <thead>\n",
       "    <tr style=\"text-align: right;\">\n",
       "      <th></th>\n",
       "      <th>AC_1000</th>\n",
       "      <th>AC_2000</th>\n",
       "      <th>AC_4000</th>\n",
       "      <th>1000_Hz</th>\n",
       "      <th>2000_Hz</th>\n",
       "      <th>4000_Hz</th>\n",
       "    </tr>\n",
       "  </thead>\n",
       "  <tbody>\n",
       "    <tr>\n",
       "      <th>20</th>\n",
       "      <td>10.0</td>\n",
       "      <td>15.0</td>\n",
       "      <td>25.0</td>\n",
       "      <td>-13</td>\n",
       "      <td>-4</td>\n",
       "      <td>0.0</td>\n",
       "    </tr>\n",
       "    <tr>\n",
       "      <th>37</th>\n",
       "      <td>20.0</td>\n",
       "      <td>5.0</td>\n",
       "      <td>15.0</td>\n",
       "      <td>-17</td>\n",
       "      <td>3</td>\n",
       "      <td>-20.0</td>\n",
       "    </tr>\n",
       "    <tr>\n",
       "      <th>47</th>\n",
       "      <td>5.0</td>\n",
       "      <td>5.0</td>\n",
       "      <td>0.0</td>\n",
       "      <td>-13</td>\n",
       "      <td>-9</td>\n",
       "      <td>-17.0</td>\n",
       "    </tr>\n",
       "    <tr>\n",
       "      <th>51</th>\n",
       "      <td>20.0</td>\n",
       "      <td>5.0</td>\n",
       "      <td>20.0</td>\n",
       "      <td>0</td>\n",
       "      <td>-9</td>\n",
       "      <td>-7.0</td>\n",
       "    </tr>\n",
       "    <tr>\n",
       "      <th>53</th>\n",
       "      <td>10.0</td>\n",
       "      <td>15.0</td>\n",
       "      <td>35.0</td>\n",
       "      <td>-9</td>\n",
       "      <td>-9</td>\n",
       "      <td>-5.0</td>\n",
       "    </tr>\n",
       "  </tbody>\n",
       "</table>\n",
       "</div>"
      ],
      "text/plain": [
       "    AC_1000  AC_2000  AC_4000  1000_Hz  2000_Hz 4000_Hz\n",
       "20     10.0     15.0     25.0      -13       -4     0.0\n",
       "37     20.0      5.0     15.0      -17        3   -20.0\n",
       "47      5.0      5.0      0.0      -13       -9   -17.0\n",
       "51     20.0      5.0     20.0        0       -9    -7.0\n",
       "53     10.0     15.0     35.0       -9       -9    -5.0"
      ]
     },
     "execution_count": 7,
     "metadata": {},
     "output_type": "execute_result"
    }
   ],
   "source": [
    "combi_bh5 = select_bh5(combi)\n",
    "combi_bp110 = select_bp110(combi)\n",
    "combi_bh5.head()"
   ]
  },
  {
   "cell_type": "code",
   "execution_count": 8,
   "metadata": {},
   "outputs": [
    {
     "name": "stdout",
     "output_type": "stream",
     "text": [
      "1 kHz LinregressResult(slope=0.557858211187556, intercept=-15.47454382291355, rvalue=0.4425469864353523, pvalue=2.4972840824021178e-05, stderr=0.12483220265884717, intercept_stderr=1.652778452997554)\n",
      "2 kHz LinregressResult(slope=0.4797558025686806, intercept=-14.68749640039164, rvalue=0.40382204556746576, pvalue=0.00013941592834011712, stderr=0.12002377193076331, intercept_stderr=1.7410343481422166)\n",
      "4 kHz LinregressResult(slope=0.41515245799626627, intercept=-20.687253681808755, rvalue=0.5685828758486443, pvalue=1.6798912926097132e-08, stderr=0.06632989901599075, intercept_stderr=2.0277038298766934)\n"
     ]
    }
   ],
   "source": [
    "for i in range(1, 4):\n",
    "    ac = (combi.iloc[:,i]).to_numpy(dtype='float')\n",
    "    dsl = (combi.iloc[:,i+3]).to_numpy(dtype='float')\n",
    "    lrgrs = linregress(ac, dsl)\n",
    "    print(2**(i-1),'kHz', lrgrs)"
   ]
  },
  {
   "cell_type": "code",
   "execution_count": 9,
   "metadata": {},
   "outputs": [
    {
     "name": "stdout",
     "output_type": "stream",
     "text": [
      "1 kHz LinregressResult(slope=0.4683760683760683, intercept=-11.269230769230768, rvalue=0.38883911350472916, pvalue=0.006307663108920862, stderr=0.16362497082158356, intercept_stderr=2.240527187252648)\n",
      "2 kHz LinregressResult(slope=0.5219657977751951, intercept=-18.19226299186452, rvalue=0.44543698175158997, pvalue=0.0015106609162015695, stderr=0.1546863148125187, intercept_stderr=2.370770691719522)\n",
      "4 kHz LinregressResult(slope=0.44688561721404285, intercept=-25.07842582106455, rvalue=0.62793706751833, pvalue=1.7748407344133363e-06, stderr=0.08166356770071344, intercept_stderr=2.7199914365738342)\n"
     ]
    }
   ],
   "source": [
    "for i in range(3):\n",
    "    ac_bp110 = (combi_bp110.iloc[:,i]).to_numpy(dtype='float')\n",
    "    dsl_bp110 = (combi_bp110.iloc[:,i+3]).to_numpy(dtype='float')\n",
    "    lrgrs = linregress(ac_bp110, dsl_bp110)\n",
    "    print(2**i,'kHz', lrgrs)"
   ]
  },
  {
   "cell_type": "code",
   "execution_count": 10,
   "metadata": {},
   "outputs": [
    {
     "name": "stdout",
     "output_type": "stream",
     "text": [
      "1 kHz LinregressResult(slope=0.6028816466552315, intercept=-20.195883361921098, rvalue=0.563547478083405, pvalue=0.00034505507478122747, stderr=0.1515605365795818, intercept_stderr=1.9112725801403203)\n",
      "2 kHz LinregressResult(slope=0.5505681818181818, intercept=-11.53409090909091, rvalue=0.5131951684756543, pvalue=0.0013706126085634397, stderr=0.15791158934808278, intercept_stderr=2.105487857974437)\n",
      "4 kHz LinregressResult(slope=0.48973977695167287, intercept=-17.688661710037174, rvalue=0.658133467524828, pvalue=1.2857783999245509e-05, stderr=0.0960837579392675, intercept_stderr=2.5446579972574503)\n"
     ]
    }
   ],
   "source": [
    "for i in range(3):\n",
    "    ac_bh5 = (combi_bh5.iloc[:,i]).to_numpy(dtype='float')\n",
    "    dsl_bh5 = (combi_bh5.iloc[:,i+3]).to_numpy(dtype='float')\n",
    "    lrgrs = linregress(ac_bh5, dsl_bh5)\n",
    "    print(2**i,'kHz', lrgrs)"
   ]
  },
  {
   "cell_type": "code",
   "execution_count": 11,
   "metadata": {},
   "outputs": [
    {
     "name": "stdout",
     "output_type": "stream",
     "text": [
      "r square 1 kHz =0.32\n"
     ]
    }
   ],
   "source": [
    "ac_1k_bh5 = combi_bh5.iloc[:,0].to_numpy(dtype='float')\n",
    "dsl_1k_bh5 = (combi_bh5.iloc[:,3]).to_numpy(dtype='float')\n",
    "lrgrs_1k_bh5 = linregress(ac_1k_bh5, dsl_1k_bh5)\n",
    "r2_1k_bh5 = (lrgrs_1k_bh5[2])**2\n",
    "r2_1k_bh5 = round(r2_1k_bh5, 2)\n",
    "s_1k = 'r square 1 kHz =' + str(r2_1k_bh5)\n",
    "print(s_1k)"
   ]
  },
  {
   "cell_type": "code",
   "execution_count": 12,
   "metadata": {},
   "outputs": [
    {
     "data": {
      "image/png": "[encoded data removed]",
      "text/plain": [
       "<Figure size 432x288 with 1 Axes>"
      ]
     },
     "metadata": {
      "needs_background": "light"
     },
     "output_type": "display_data"
    }
   ],
   "source": [
    "plt.scatter(ac_1k_bh5, dsl_1k_bh5, c='black')\n",
    "plt.title(\"Relation between AC thresholds and diff SL at 1 kHz\")\n",
    "plt.xlabel(\"AC thresholds at 1 kHz [dB HL]\")\n",
    "plt.ylabel(\"Diff. SL BC-AC at 1 kHz [dB]\")\n",
    "slope = lrgrs_1k_bh5[0]\n",
    "intercept = lrgrs_1k_bh5[1]\n",
    "plt.plot(ac_1k_bh5, slope*ac_1k_bh5 + intercept, color='grey')\n",
    "plt.text(0, 0, s_1k)\n",
    "plt.show()"
   ]
  },
  {
   "cell_type": "code",
   "execution_count": 13,
   "metadata": {},
   "outputs": [
    {
     "name": "stdout",
     "output_type": "stream",
     "text": [
      "r square 2 kHz =0.26\n"
     ]
    }
   ],
   "source": [
    "ac_2k_bh5 = combi_bh5.iloc[:,1].to_numpy(dtype='float')\n",
    "dsl_2k_bh5 = (combi_bh5.iloc[:,4]).to_numpy(dtype='float')\n",
    "lrgrs_2k_bh5 = linregress(ac_2k_bh5, dsl_2k_bh5)\n",
    "r2_2k_bh5= (lrgrs_2k_bh5[2])**2\n",
    "r2_2k_bh5 = round(r2_2k_bh5, 2)\n",
    "s_2k = 'r square 2 kHz =' + str(r2_2k_bh5)\n",
    "print(s_2k)"
   ]
  },
  {
   "cell_type": "code",
   "execution_count": 14,
   "metadata": {},
   "outputs": [
    {
     "data": {
      "image/png": "[encoded data removed]",
      "text/plain": [
       "<Figure size 432x288 with 1 Axes>"
      ]
     },
     "metadata": {
      "needs_background": "light"
     },
     "output_type": "display_data"
    }
   ],
   "source": [
    "plt.scatter(ac_2k_bh5, dsl_2k_bh5, c='black')\n",
    "plt.title(\"Relation between AC thresholds and diff SL at 2 kHz\")\n",
    "plt.xlabel(\"AC thresholds at 2 kHz [dB HL]\")\n",
    "plt.ylabel(\"Diff. SL BC-AC at 2 kHz [dB]\")\n",
    "slope = lrgrs_2k_bh5[0]\n",
    "intercept = lrgrs_2k_bh5[1]\n",
    "plt.plot(ac_2k_bh5, slope*ac_2k_bh5 + intercept, color='grey')\n",
    "plt.text(17, 7, s_2k)\n",
    "plt.show()"
   ]
  },
  {
   "cell_type": "code",
   "execution_count": 15,
   "metadata": {},
   "outputs": [
    {
     "name": "stdout",
     "output_type": "stream",
     "text": [
      "r square 4 kHz =0.43\n"
     ]
    }
   ],
   "source": [
    "ac_4k_bh5 = combi_bh5.iloc[:,2].to_numpy(dtype='float')\n",
    "dsl_4k_bh5 = (combi_bh5.iloc[:,5]).to_numpy(dtype='float')\n",
    "lrgrs_4k_bh5 = linregress(ac_4k_bh5, dsl_4k_bh5)\n",
    "r2_4k_bh5= (lrgrs_4k_bh5[2])**2\n",
    "r2_4k_bh5 = round(r2_4k_bh5, 2)\n",
    "s_4k = 'r square 4 kHz =' + str(r2_4k_bh5)\n",
    "print(s_4k)"
   ]
  },
  {
   "cell_type": "code",
   "execution_count": 16,
   "metadata": {},
   "outputs": [
    {
     "data": {
      "image/png": "[encoded data removed]",
      "text/plain": [
       "<Figure size 432x288 with 1 Axes>"
      ]
     },
     "metadata": {
      "needs_background": "light"
     },
     "output_type": "display_data"
    }
   ],
   "source": [
    "plt.scatter(ac_4k_bh5, dsl_4k_bh5, c='black')\n",
    "plt.title(\"Relation between AC thresholds and diff SL at 4 kHz\")\n",
    "plt.xlabel(\"AC thresholds at 4 kHz [dB HL]\")\n",
    "plt.ylabel(\"Diff. SL BC-AC at 4 kHz [dB]\")\n",
    "slope = lrgrs_4k_bh5[0]\n",
    "intercept = lrgrs_4k_bh5[1]\n",
    "plt.plot(ac_4k_bh5, slope*ac_4k_bh5 + intercept, color='grey')\n",
    "plt.text(34, 12, s_4k)\n",
    "plt.show()"
   ]
  }
 ],
 "metadata": {
  "kernelspec": {
   "display_name": "Python 3 (ipykernel)",
   "language": "python",
   "name": "python3"
  },
  "language_info": {
   "codemirror_mode": {
    "name": "ipython",
    "version": 3
   },
   "file_extension": ".py",
   "mimetype": "text/x-python",
   "name": "python",
   "nbconvert_exporter": "python",
   "pygments_lexer": "ipython3",
   "version": "3.8.12"
  }
 },
 "nbformat": 4,
 "nbformat_minor": 4
}
