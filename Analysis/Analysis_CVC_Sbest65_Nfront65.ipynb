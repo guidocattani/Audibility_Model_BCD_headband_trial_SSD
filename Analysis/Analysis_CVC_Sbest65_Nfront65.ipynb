{
 "cells": [
  {
   "cell_type": "markdown",
   "metadata": {},
   "source": [
    "# Analysis CVC-score Sbest65_Nfront65"
   ]
  },
  {
   "cell_type": "markdown",
   "metadata": {},
   "source": [
    "30 January 2021 Guido Cattani, Revision 13 June 2022"
   ]
  },
  {
   "cell_type": "code",
   "execution_count": 1,
   "metadata": {},
   "outputs": [],
   "source": [
    "from pathlib import Path\n",
    "import pandas as pd\n",
    "import numpy as np"
   ]
  },
  {
   "cell_type": "code",
   "execution_count": 2,
   "metadata": {},
   "outputs": [],
   "source": [
    "from scipy.stats import mannwhitneyu as mannwhitneyu\n",
    "from scipy.stats import wilcoxon as wilcoxon\n",
    "from scipy.stats import rankdata as rankdata\n",
    "from scipy.stats import shapiro as shapiro\n",
    "from scipy.stats import ttest_rel as ttest_rel"
   ]
  },
  {
   "cell_type": "code",
   "execution_count": 3,
   "metadata": {},
   "outputs": [],
   "source": [
    "import matplotlib\n",
    "import matplotlib.pyplot as plt\n",
    "import seaborn as sns"
   ]
  },
  {
   "cell_type": "code",
   "execution_count": 4,
   "metadata": {},
   "outputs": [],
   "source": [
    "def select_bp110(df):\n",
    "    # select BP110 data\n",
    "    is_bp110 =  df['Device']=='BP110'\n",
    "    df_bp110 = df[is_bp110]\n",
    "    df_bp110.pop('Device')\n",
    "    return(df_bp110)"
   ]
  },
  {
   "cell_type": "code",
   "execution_count": 5,
   "metadata": {},
   "outputs": [],
   "source": [
    "def select_bh5(df):\n",
    "    # select BAHA5P data\n",
    "    is_baha5p =  df['Device']=='BAHA5P'\n",
    "    df_baha5p = df[is_baha5p]\n",
    "    df_baha5p.pop('Device')\n",
    "    return(df_baha5p)"
   ]
  },
  {
   "cell_type": "code",
   "execution_count": 6,
   "metadata": {},
   "outputs": [],
   "source": [
    "def read_CVC():\n",
    "    f_in =  '/media/guido/LACIE/Cingle_Guido/Master/Headband/CVC_Sbest65_Nfront65.xlsx'\n",
    "    p_in = Path(f_in)   \n",
    "    df = pd.read_excel(p_in, sheet_name='CVC_Sbest65_Nfront65', header=0, nrows=85)\n",
    "    df = df.drop(['Unnamed: 0', 'Study_ID'], axis=1)\n",
    "    return df"
   ]
  },
  {
   "cell_type": "code",
   "execution_count": 7,
   "metadata": {},
   "outputs": [
    {
     "data": {
      "text/html": [
       "<div>\n",
       "<style scoped>\n",
       "    .dataframe tbody tr th:only-of-type {\n",
       "        vertical-align: middle;\n",
       "    }\n",
       "\n",
       "    .dataframe tbody tr th {\n",
       "        vertical-align: top;\n",
       "    }\n",
       "\n",
       "    .dataframe thead th {\n",
       "        text-align: right;\n",
       "    }\n",
       "</style>\n",
       "<table border=\"1\" class=\"dataframe\">\n",
       "  <thead>\n",
       "    <tr style=\"text-align: right;\">\n",
       "      <th></th>\n",
       "      <th>Device</th>\n",
       "      <th>AC_path</th>\n",
       "      <th>BC_path</th>\n",
       "      <th>AC&amp;BC_path</th>\n",
       "      <th>diff_combi_AC</th>\n",
       "    </tr>\n",
       "  </thead>\n",
       "  <tbody>\n",
       "    <tr>\n",
       "      <th>0</th>\n",
       "      <td>BP110</td>\n",
       "      <td>0.91</td>\n",
       "      <td>0.48</td>\n",
       "      <td>0.91</td>\n",
       "      <td>0.0</td>\n",
       "    </tr>\n",
       "    <tr>\n",
       "      <th>1</th>\n",
       "      <td>BP110</td>\n",
       "      <td>0.90</td>\n",
       "      <td>0.46</td>\n",
       "      <td>0.90</td>\n",
       "      <td>0.0</td>\n",
       "    </tr>\n",
       "    <tr>\n",
       "      <th>2</th>\n",
       "      <td>BP110</td>\n",
       "      <td>0.91</td>\n",
       "      <td>0.50</td>\n",
       "      <td>0.91</td>\n",
       "      <td>0.0</td>\n",
       "    </tr>\n",
       "    <tr>\n",
       "      <th>3</th>\n",
       "      <td>BP110</td>\n",
       "      <td>0.91</td>\n",
       "      <td>0.48</td>\n",
       "      <td>0.91</td>\n",
       "      <td>0.0</td>\n",
       "    </tr>\n",
       "    <tr>\n",
       "      <th>4</th>\n",
       "      <td>BP110</td>\n",
       "      <td>0.91</td>\n",
       "      <td>0.47</td>\n",
       "      <td>0.91</td>\n",
       "      <td>0.0</td>\n",
       "    </tr>\n",
       "    <tr>\n",
       "      <th>...</th>\n",
       "      <td>...</td>\n",
       "      <td>...</td>\n",
       "      <td>...</td>\n",
       "      <td>...</td>\n",
       "      <td>...</td>\n",
       "    </tr>\n",
       "    <tr>\n",
       "      <th>65</th>\n",
       "      <td>BAHA5P</td>\n",
       "      <td>0.91</td>\n",
       "      <td>0.51</td>\n",
       "      <td>0.91</td>\n",
       "      <td>0.0</td>\n",
       "    </tr>\n",
       "    <tr>\n",
       "      <th>66</th>\n",
       "      <td>BAHA5P</td>\n",
       "      <td>0.91</td>\n",
       "      <td>0.62</td>\n",
       "      <td>0.91</td>\n",
       "      <td>0.0</td>\n",
       "    </tr>\n",
       "    <tr>\n",
       "      <th>67</th>\n",
       "      <td>BAHA5P</td>\n",
       "      <td>0.91</td>\n",
       "      <td>0.61</td>\n",
       "      <td>0.91</td>\n",
       "      <td>0.0</td>\n",
       "    </tr>\n",
       "    <tr>\n",
       "      <th>68</th>\n",
       "      <td>BAHA5P</td>\n",
       "      <td>0.90</td>\n",
       "      <td>0.56</td>\n",
       "      <td>0.90</td>\n",
       "      <td>0.0</td>\n",
       "    </tr>\n",
       "    <tr>\n",
       "      <th>69</th>\n",
       "      <td>BAHA5P</td>\n",
       "      <td>0.91</td>\n",
       "      <td>0.55</td>\n",
       "      <td>0.91</td>\n",
       "      <td>0.0</td>\n",
       "    </tr>\n",
       "  </tbody>\n",
       "</table>\n",
       "<p>70 rows × 5 columns</p>\n",
       "</div>"
      ],
      "text/plain": [
       "    Device  AC_path  BC_path  AC&BC_path  diff_combi_AC\n",
       "0    BP110     0.91     0.48        0.91            0.0\n",
       "1    BP110     0.90     0.46        0.90            0.0\n",
       "2    BP110     0.91     0.50        0.91            0.0\n",
       "3    BP110     0.91     0.48        0.91            0.0\n",
       "4    BP110     0.91     0.47        0.91            0.0\n",
       "..     ...      ...      ...         ...            ...\n",
       "65  BAHA5P     0.91     0.51        0.91            0.0\n",
       "66  BAHA5P     0.91     0.62        0.91            0.0\n",
       "67  BAHA5P     0.91     0.61        0.91            0.0\n",
       "68  BAHA5P     0.90     0.56        0.90            0.0\n",
       "69  BAHA5P     0.91     0.55        0.91            0.0\n",
       "\n",
       "[70 rows x 5 columns]"
      ]
     },
     "execution_count": 7,
     "metadata": {},
     "output_type": "execute_result"
    }
   ],
   "source": [
    "cvc = read_CVC()\n",
    "cvc"
   ]
  },
  {
   "cell_type": "code",
   "execution_count": 8,
   "metadata": {},
   "outputs": [],
   "source": [
    "# group data by device type and perform calculation of quantiles 10, 50, 90\n",
    "dvc = cvc.groupby('Device')\n",
    "quantiles = [0.10, 0.50, 0.90]\n",
    "q = dvc.quantile(q=quantiles)"
   ]
  },
  {
   "cell_type": "code",
   "execution_count": 9,
   "metadata": {},
   "outputs": [
    {
     "data": {
      "text/html": [
       "<div>\n",
       "<style scoped>\n",
       "    .dataframe tbody tr th:only-of-type {\n",
       "        vertical-align: middle;\n",
       "    }\n",
       "\n",
       "    .dataframe tbody tr th {\n",
       "        vertical-align: top;\n",
       "    }\n",
       "\n",
       "    .dataframe thead th {\n",
       "        text-align: right;\n",
       "    }\n",
       "</style>\n",
       "<table border=\"1\" class=\"dataframe\">\n",
       "  <thead>\n",
       "    <tr style=\"text-align: right;\">\n",
       "      <th></th>\n",
       "      <th>AC_path</th>\n",
       "      <th>BC_path</th>\n",
       "      <th>AC&amp;BC_path</th>\n",
       "      <th>diff_combi_AC</th>\n",
       "    </tr>\n",
       "  </thead>\n",
       "  <tbody>\n",
       "    <tr>\n",
       "      <th>BAHA5P P10</th>\n",
       "      <td>0.90</td>\n",
       "      <td>0.550</td>\n",
       "      <td>0.90</td>\n",
       "      <td>-0.01</td>\n",
       "    </tr>\n",
       "    <tr>\n",
       "      <th>BAHA5P P50</th>\n",
       "      <td>0.91</td>\n",
       "      <td>0.610</td>\n",
       "      <td>0.91</td>\n",
       "      <td>0.00</td>\n",
       "    </tr>\n",
       "    <tr>\n",
       "      <th>BAHA5P P90</th>\n",
       "      <td>0.91</td>\n",
       "      <td>0.630</td>\n",
       "      <td>0.91</td>\n",
       "      <td>0.00</td>\n",
       "    </tr>\n",
       "    <tr>\n",
       "      <th>BP110 P10</th>\n",
       "      <td>0.90</td>\n",
       "      <td>0.450</td>\n",
       "      <td>0.90</td>\n",
       "      <td>-0.01</td>\n",
       "    </tr>\n",
       "    <tr>\n",
       "      <th>BP110 P50</th>\n",
       "      <td>0.91</td>\n",
       "      <td>0.480</td>\n",
       "      <td>0.91</td>\n",
       "      <td>0.00</td>\n",
       "    </tr>\n",
       "    <tr>\n",
       "      <th>BP110 P90</th>\n",
       "      <td>0.91</td>\n",
       "      <td>0.526</td>\n",
       "      <td>0.91</td>\n",
       "      <td>0.00</td>\n",
       "    </tr>\n",
       "  </tbody>\n",
       "</table>\n",
       "</div>"
      ],
      "text/plain": [
       "            AC_path  BC_path  AC&BC_path  diff_combi_AC\n",
       "BAHA5P P10     0.90    0.550        0.90          -0.01\n",
       "BAHA5P P50     0.91    0.610        0.91           0.00\n",
       "BAHA5P P90     0.91    0.630        0.91           0.00\n",
       "BP110 P10      0.90    0.450        0.90          -0.01\n",
       "BP110 P50      0.91    0.480        0.91           0.00\n",
       "BP110 P90      0.91    0.526        0.91           0.00"
      ]
     },
     "execution_count": 9,
     "metadata": {},
     "output_type": "execute_result"
    }
   ],
   "source": [
    "q= q.round(decimals=4)\n",
    "q = q.reset_index()\n",
    "diq = {0:'BAHA5P P10', 1:'BAHA5P P50', 2:'BAHA5P P90', \n",
    "      3:'BP110 P10', 4:'BP110 P50', 5:'BP110 P90'} \n",
    "\n",
    "q = q.rename(index=diq)\n",
    "q.drop(['Device', 'level_1'], axis=1, inplace = True)\n",
    "q"
   ]
  },
  {
   "cell_type": "code",
   "execution_count": 10,
   "metadata": {},
   "outputs": [
    {
     "data": {
      "text/plain": [
       "(35, 35)"
      ]
     },
     "execution_count": 10,
     "metadata": {},
     "output_type": "execute_result"
    }
   ],
   "source": [
    "cvc_bp110 = select_bp110(cvc)\n",
    "cvc_bh5 = select_bh5(cvc)\n",
    "len(cvc_bp110), len(cvc_bh5)"
   ]
  },
  {
   "cell_type": "code",
   "execution_count": 11,
   "metadata": {},
   "outputs": [],
   "source": [
    "bh5 = cvc_bh5.T.to_numpy()\n",
    "bp110 = cvc_bp110.T.to_numpy()"
   ]
  },
  {
   "cell_type": "code",
   "execution_count": 12,
   "metadata": {},
   "outputs": [
    {
     "data": {
      "text/html": [
       "<div>\n",
       "<style scoped>\n",
       "    .dataframe tbody tr th:only-of-type {\n",
       "        vertical-align: middle;\n",
       "    }\n",
       "\n",
       "    .dataframe tbody tr th {\n",
       "        vertical-align: top;\n",
       "    }\n",
       "\n",
       "    .dataframe thead th {\n",
       "        text-align: right;\n",
       "    }\n",
       "</style>\n",
       "<table border=\"1\" class=\"dataframe\">\n",
       "  <thead>\n",
       "    <tr style=\"text-align: right;\">\n",
       "      <th></th>\n",
       "      <th>AC_path</th>\n",
       "      <th>BC_path</th>\n",
       "      <th>AC&amp;BC_path</th>\n",
       "      <th>diff_combi_AC</th>\n",
       "    </tr>\n",
       "  </thead>\n",
       "  <tbody>\n",
       "    <tr>\n",
       "      <th>Shapiro test statistic BH5</th>\n",
       "      <td>0.418064</td>\n",
       "      <td>0.927042</td>\n",
       "      <td>0.524877</td>\n",
       "      <td>0.473555</td>\n",
       "    </tr>\n",
       "    <tr>\n",
       "      <th>p-value BH5</th>\n",
       "      <td>0.0</td>\n",
       "      <td>0.022867</td>\n",
       "      <td>0.0</td>\n",
       "      <td>0.0</td>\n",
       "    </tr>\n",
       "    <tr>\n",
       "      <th>normally distributed in BH5</th>\n",
       "      <td>False</td>\n",
       "      <td>False</td>\n",
       "      <td>False</td>\n",
       "      <td>False</td>\n",
       "    </tr>\n",
       "    <tr>\n",
       "      <th>Shapiro test statistic BP110</th>\n",
       "      <td>0.585528</td>\n",
       "      <td>0.975184</td>\n",
       "      <td>0.697252</td>\n",
       "      <td>0.418064</td>\n",
       "    </tr>\n",
       "    <tr>\n",
       "      <th>p-value BP110</th>\n",
       "      <td>0.0</td>\n",
       "      <td>0.599961</td>\n",
       "      <td>0.0</td>\n",
       "      <td>0.0</td>\n",
       "    </tr>\n",
       "    <tr>\n",
       "      <th>normally distributed in BP110</th>\n",
       "      <td>False</td>\n",
       "      <td>True</td>\n",
       "      <td>False</td>\n",
       "      <td>False</td>\n",
       "    </tr>\n",
       "  </tbody>\n",
       "</table>\n",
       "</div>"
      ],
      "text/plain": [
       "                                AC_path   BC_path AC&BC_path diff_combi_AC\n",
       "Shapiro test statistic BH5     0.418064  0.927042   0.524877      0.473555\n",
       "p-value BH5                         0.0  0.022867        0.0           0.0\n",
       "normally distributed in BH5       False     False      False         False\n",
       "Shapiro test statistic BP110   0.585528  0.975184   0.697252      0.418064\n",
       "p-value BP110                       0.0  0.599961        0.0           0.0\n",
       "normally distributed in BP110     False      True      False         False"
      ]
     },
     "execution_count": 12,
     "metadata": {},
     "output_type": "execute_result"
    }
   ],
   "source": [
    "# check normality output group BAHA5P & BP110 with Shapiro-Wilk test\n",
    "\n",
    "shp = dict()\n",
    "\n",
    "for i in range(0, 4):\n",
    "    a = bh5[i]\n",
    "    b = bp110[i]\n",
    "    shapiro_stat_bh5, pVal_bh5 = shapiro(a) # bh5 scipy.stats Shapiro-Wilk test test\n",
    "    shapiro_stat_bp110, pVal_bp110 = shapiro(b) # bp110 scipy.stats Shapiro-Wilk test test\n",
    "    bh5_is_normal = False if pVal_bh5 < 0.05 else True\n",
    "    bp110_is_normal = False if pVal_bp110 < 0.05 else True\n",
    "    st = {i: [shapiro_stat_bh5, pVal_bh5, bh5_is_normal, shapiro_stat_bp110, pVal_bp110, bp110_is_normal]}\n",
    "    shp.update(st)\n",
    "\n",
    "shapiro_test = pd.DataFrame.from_dict(shp)\n",
    "dish =  {0: 'Shapiro test statistic BH5', 1: 'p-value BH5', 2: 'normally distributed in BH5', 3: 'Shapiro test statistic BP110', \n",
    "         4: 'p-value BP110', 5: 'normally distributed in BP110'}\n",
    "clmns = {0 : 'AC_path', 1 : 'BC_path', 2 : 'AC&BC_path', 3 : 'diff_combi_AC'}\n",
    "shapiro_test.rename(index=dish, columns = clmns, inplace = True)\n",
    "\n",
    "shapiro_test"
   ]
  },
  {
   "cell_type": "code",
   "execution_count": 13,
   "metadata": {},
   "outputs": [],
   "source": [
    "d1 = dict()\n",
    "d2 = dict()\n",
    "for i in range(0, 4):\n",
    "    (stat, pvalue) = mannwhitneyu(bp110[i], bh5[i], use_continuity=False, alternative='two-sided')\n",
    "    d1.update({i : stat})\n",
    "    d2.update({i : pvalue})"
   ]
  },
  {
   "cell_type": "code",
   "execution_count": 14,
   "metadata": {},
   "outputs": [
    {
     "data": {
      "text/html": [
       "<div>\n",
       "<style scoped>\n",
       "    .dataframe tbody tr th:only-of-type {\n",
       "        vertical-align: middle;\n",
       "    }\n",
       "\n",
       "    .dataframe tbody tr th {\n",
       "        vertical-align: top;\n",
       "    }\n",
       "\n",
       "    .dataframe thead th {\n",
       "        text-align: right;\n",
       "    }\n",
       "</style>\n",
       "<table border=\"1\" class=\"dataframe\">\n",
       "  <thead>\n",
       "    <tr style=\"text-align: right;\">\n",
       "      <th></th>\n",
       "      <th>AC_path</th>\n",
       "      <th>BC_path</th>\n",
       "      <th>AC&amp;BC_path</th>\n",
       "      <th>diff_combi_AC</th>\n",
       "    </tr>\n",
       "  </thead>\n",
       "  <tbody>\n",
       "    <tr>\n",
       "      <th>Mann-Whitney U statistic</th>\n",
       "      <td>507.50</td>\n",
       "      <td>14.5</td>\n",
       "      <td>522.5000</td>\n",
       "      <td>635.0000</td>\n",
       "    </tr>\n",
       "    <tr>\n",
       "      <th>p-value (two-sided)</th>\n",
       "      <td>0.09</td>\n",
       "      <td>0.0</td>\n",
       "      <td>0.1943</td>\n",
       "      <td>0.6757</td>\n",
       "    </tr>\n",
       "  </tbody>\n",
       "</table>\n",
       "</div>"
      ],
      "text/plain": [
       "                          AC_path  BC_path  AC&BC_path  diff_combi_AC\n",
       "Mann-Whitney U statistic   507.50     14.5    522.5000       635.0000\n",
       "p-value (two-sided)          0.09      0.0      0.1943         0.6757"
      ]
     },
     "execution_count": 14,
     "metadata": {},
     "output_type": "execute_result"
    }
   ],
   "source": [
    "mwu = pd.DataFrame.from_dict([d1, d2])\n",
    "rws = {0: 'Mann-Whitney U statistic', 1: 'p-value (two-sided)'}\n",
    "clmns = {0 : 'AC_path', 1 : 'BC_path', 2 : 'AC&BC_path', 3 : 'diff_combi_AC'}\n",
    "mwu.rename(index = rws, columns = clmns, inplace = True)\n",
    "mwu = mwu.round(decimals=4)\n",
    "mwu"
   ]
  },
  {
   "cell_type": "code",
   "execution_count": 15,
   "metadata": {},
   "outputs": [
    {
     "data": {
      "text/plain": [
       "{0: 0.08996497503657735,\n",
       " 1: 1.964519278897186e-12,\n",
       " 2: 0.19427558222413943,\n",
       " 3: 0.6757176122712131}"
      ]
     },
     "execution_count": 15,
     "metadata": {},
     "output_type": "execute_result"
    }
   ],
   "source": [
    "d2"
   ]
  },
  {
   "cell_type": "code",
   "execution_count": 16,
   "metadata": {},
   "outputs": [
    {
     "name": "stderr",
     "output_type": "stream",
     "text": [
      "/home/guido/anaconda3/lib/python3.8/site-packages/scipy/stats/morestats.py:3155: UserWarning: Sample size too small for normal approximation.\n",
      "  warnings.warn(\"Sample size too small for normal approximation.\")\n"
     ]
    },
    {
     "data": {
      "text/plain": [
       "WilcoxonResult(statistic=0.0, pvalue=0.025347318677468252)"
      ]
     },
     "execution_count": 16,
     "metadata": {},
     "output_type": "execute_result"
    }
   ],
   "source": [
    "# Wilcoxon signed-rank\n",
    "w_bp110 = wilcoxon(bp110[3])\n",
    "w_bp110"
   ]
  },
  {
   "cell_type": "code",
   "execution_count": 17,
   "metadata": {},
   "outputs": [
    {
     "data": {
      "text/plain": [
       "WilcoxonResult(statistic=0.0, pvalue=0.023140931308743732)"
      ]
     },
     "execution_count": 17,
     "metadata": {},
     "output_type": "execute_result"
    }
   ],
   "source": [
    "w_bh5 = wilcoxon(bh5[3])\n",
    "w_bh5"
   ]
  },
  {
   "cell_type": "code",
   "execution_count": 18,
   "metadata": {},
   "outputs": [
    {
     "data": {
      "text/html": [
       "<div>\n",
       "<style scoped>\n",
       "    .dataframe tbody tr th:only-of-type {\n",
       "        vertical-align: middle;\n",
       "    }\n",
       "\n",
       "    .dataframe tbody tr th {\n",
       "        vertical-align: top;\n",
       "    }\n",
       "\n",
       "    .dataframe thead th {\n",
       "        text-align: right;\n",
       "    }\n",
       "</style>\n",
       "<table border=\"1\" class=\"dataframe\">\n",
       "  <thead>\n",
       "    <tr style=\"text-align: right;\">\n",
       "      <th></th>\n",
       "      <th>Wilcoxon s-r test diff_combi_AC</th>\n",
       "      <th>p-value (2s)</th>\n",
       "    </tr>\n",
       "  </thead>\n",
       "  <tbody>\n",
       "    <tr>\n",
       "      <th>BAHA5P P50</th>\n",
       "      <td>0.0</td>\n",
       "      <td>0.023141</td>\n",
       "    </tr>\n",
       "    <tr>\n",
       "      <th>BP110 P50</th>\n",
       "      <td>0.0</td>\n",
       "      <td>0.025347</td>\n",
       "    </tr>\n",
       "  </tbody>\n",
       "</table>\n",
       "</div>"
      ],
      "text/plain": [
       "            Wilcoxon s-r test diff_combi_AC  p-value (2s)\n",
       "BAHA5P P50                              0.0      0.023141\n",
       "BP110 P50                               0.0      0.025347"
      ]
     },
     "execution_count": 18,
     "metadata": {},
     "output_type": "execute_result"
    }
   ],
   "source": [
    "# make dataframe with results wilcoxon\n",
    "dwx = {'BAHA5P P50': [w_bh5[0], w_bh5[1]], 'BP110 P50' : [w_bp110[0], w_bp110[1]]} \n",
    "dfx = pd.DataFrame.from_dict(dwx, orient = 'index', columns = ['Wilcoxon s-r test diff_combi_AC', 'p-value (2s)'])\n",
    "dfx"
   ]
  },
  {
   "cell_type": "code",
   "execution_count": 19,
   "metadata": {},
   "outputs": [
    {
     "data": {
      "text/html": [
       "<div>\n",
       "<style scoped>\n",
       "    .dataframe tbody tr th:only-of-type {\n",
       "        vertical-align: middle;\n",
       "    }\n",
       "\n",
       "    .dataframe tbody tr th {\n",
       "        vertical-align: top;\n",
       "    }\n",
       "\n",
       "    .dataframe thead th {\n",
       "        text-align: right;\n",
       "    }\n",
       "</style>\n",
       "<table border=\"1\" class=\"dataframe\">\n",
       "  <thead>\n",
       "    <tr style=\"text-align: right;\">\n",
       "      <th></th>\n",
       "      <th>AC_path</th>\n",
       "      <th>BC_path</th>\n",
       "      <th>AC&amp;BC_path</th>\n",
       "      <th>diff_combi_AC</th>\n",
       "      <th>Wilcoxon s-r test diff_combi_AC</th>\n",
       "      <th>p-value (2s)</th>\n",
       "    </tr>\n",
       "  </thead>\n",
       "  <tbody>\n",
       "    <tr>\n",
       "      <th>BAHA5P P10</th>\n",
       "      <td>0.90</td>\n",
       "      <td>0.550</td>\n",
       "      <td>0.9000</td>\n",
       "      <td>-0.0100</td>\n",
       "      <td>NaN</td>\n",
       "      <td>NaN</td>\n",
       "    </tr>\n",
       "    <tr>\n",
       "      <th>BAHA5P P50</th>\n",
       "      <td>0.91</td>\n",
       "      <td>0.610</td>\n",
       "      <td>0.9100</td>\n",
       "      <td>0.0000</td>\n",
       "      <td>0.0</td>\n",
       "      <td>0.023141</td>\n",
       "    </tr>\n",
       "    <tr>\n",
       "      <th>BAHA5P P90</th>\n",
       "      <td>0.91</td>\n",
       "      <td>0.630</td>\n",
       "      <td>0.9100</td>\n",
       "      <td>0.0000</td>\n",
       "      <td>NaN</td>\n",
       "      <td>NaN</td>\n",
       "    </tr>\n",
       "    <tr>\n",
       "      <th>BP110 P10</th>\n",
       "      <td>0.90</td>\n",
       "      <td>0.450</td>\n",
       "      <td>0.9000</td>\n",
       "      <td>-0.0100</td>\n",
       "      <td>NaN</td>\n",
       "      <td>NaN</td>\n",
       "    </tr>\n",
       "    <tr>\n",
       "      <th>BP110 P50</th>\n",
       "      <td>0.91</td>\n",
       "      <td>0.480</td>\n",
       "      <td>0.9100</td>\n",
       "      <td>0.0000</td>\n",
       "      <td>0.0</td>\n",
       "      <td>0.025347</td>\n",
       "    </tr>\n",
       "    <tr>\n",
       "      <th>BP110 P90</th>\n",
       "      <td>0.91</td>\n",
       "      <td>0.526</td>\n",
       "      <td>0.9100</td>\n",
       "      <td>0.0000</td>\n",
       "      <td>NaN</td>\n",
       "      <td>NaN</td>\n",
       "    </tr>\n",
       "    <tr>\n",
       "      <th>Mann-Whitney U statistic</th>\n",
       "      <td>507.50</td>\n",
       "      <td>14.500</td>\n",
       "      <td>522.5000</td>\n",
       "      <td>635.0000</td>\n",
       "      <td>NaN</td>\n",
       "      <td>NaN</td>\n",
       "    </tr>\n",
       "    <tr>\n",
       "      <th>p-value (two-sided)</th>\n",
       "      <td>0.09</td>\n",
       "      <td>0.000</td>\n",
       "      <td>0.1943</td>\n",
       "      <td>0.6757</td>\n",
       "      <td>NaN</td>\n",
       "      <td>NaN</td>\n",
       "    </tr>\n",
       "  </tbody>\n",
       "</table>\n",
       "</div>"
      ],
      "text/plain": [
       "                          AC_path  BC_path  AC&BC_path  diff_combi_AC  \\\n",
       "BAHA5P P10                   0.90    0.550      0.9000        -0.0100   \n",
       "BAHA5P P50                   0.91    0.610      0.9100         0.0000   \n",
       "BAHA5P P90                   0.91    0.630      0.9100         0.0000   \n",
       "BP110 P10                    0.90    0.450      0.9000        -0.0100   \n",
       "BP110 P50                    0.91    0.480      0.9100         0.0000   \n",
       "BP110 P90                    0.91    0.526      0.9100         0.0000   \n",
       "Mann-Whitney U statistic   507.50   14.500    522.5000       635.0000   \n",
       "p-value (two-sided)          0.09    0.000      0.1943         0.6757   \n",
       "\n",
       "                          Wilcoxon s-r test diff_combi_AC  p-value (2s)  \n",
       "BAHA5P P10                                            NaN           NaN  \n",
       "BAHA5P P50                                            0.0      0.023141  \n",
       "BAHA5P P90                                            NaN           NaN  \n",
       "BP110 P10                                             NaN           NaN  \n",
       "BP110 P50                                             0.0      0.025347  \n",
       "BP110 P90                                             NaN           NaN  \n",
       "Mann-Whitney U statistic                              NaN           NaN  \n",
       "p-value (two-sided)                                   NaN           NaN  "
      ]
     },
     "execution_count": 19,
     "metadata": {},
     "output_type": "execute_result"
    }
   ],
   "source": [
    "# make dataframe with all results\n",
    "analysis_output = pd.concat([q, mwu])\n",
    "analysis_output = pd.concat([analysis_output, dfx], axis = 1)\n",
    "analysis_output"
   ]
  },
  {
   "cell_type": "code",
   "execution_count": 20,
   "metadata": {},
   "outputs": [],
   "source": [
    "# write to xlsx file\n",
    "analysis_output.to_excel(\"/media/guido/LACIE/Cingle_Guido/Project_band/Analysis_results/analysis_CVC_Sbest65_Nfront65.xlsx\",\n",
    "                         sheet_name='CVC_Sbest65_Nfront65')  "
   ]
  },
  {
   "cell_type": "code",
   "execution_count": 21,
   "metadata": {},
   "outputs": [
    {
     "data": {
      "image/png": "[encoded data removed]",
      "text/plain": [
       "<Figure size 864x432 with 1 Axes>"
      ]
     },
     "metadata": {
      "needs_background": "light"
     },
     "output_type": "display_data"
    }
   ],
   "source": [
    "# make a figure to plot CVC-score for the 3 paths\n",
    "ttl = 'BP110: CVC-score for the combination path, air conduction path, bone conduction path, S at best side 65 dB, N in front 65 dB'\n",
    "cvc_combi = cvc_bp110['AC&BC_path']\n",
    "cvc_ac = cvc_bp110['AC_path']\n",
    "cvc_bc = cvc_bp110['BC_path']\n",
    "tp = pd.melt(pd.DataFrame( {'AC & BC' : cvc_combi, 'AC' : cvc_ac, 'BC' : cvc_bc }), \n",
    "             var_name = 'Transmission path', value_name = 'Speech Intelligibility Index') \n",
    "\n",
    "fig, ax = plt.subplots(constrained_layout=True)\n",
    "\n",
    "fig.set_figheight(6)\n",
    "fig.set_figwidth(12)\n",
    "\n",
    "ax = sns.swarmplot(data = tp, x = 'Transmission path', y = 'Speech Intelligibility Index', \n",
    "              hue = 'Transmission path', size=5, palette={'silver', 'grey', 'black'})\n",
    "\n",
    "ax.set_title(ttl)\n",
    "plt.legend(bbox_to_anchor=(0.15, 0.25), fontsize='large')\n",
    "\n",
    "# save figure to file\n",
    "plt.savefig('/media/guido/LACIE/Cingle_Guido/Project_band/Analysis_results/BP110_CVC_Sbest65_Nfront65.tiff', \n",
    "           transparent=False, dpi=500, bbox_inches=\"tight\")\n",
    "\n",
    "plt.show()"
   ]
  },
  {
   "cell_type": "code",
   "execution_count": 22,
   "metadata": {},
   "outputs": [
    {
     "data": {
      "image/png": "[encoded data removed]",
      "text/plain": [
       "<Figure size 864x432 with 1 Axes>"
      ]
     },
     "metadata": {
      "needs_background": "light"
     },
     "output_type": "display_data"
    }
   ],
   "source": [
    "# make a figure to plot cvc-score for the 3 paths\n",
    "ttl = 'BAHA5P: CVC-score for the combination path, air conduction path, bone conduction path, S at best ear side 65 dB, N in front 65 dB'\n",
    "cvc_combi = cvc_bh5['AC&BC_path']\n",
    "cvc_ac = cvc_bh5['AC_path']\n",
    "cvc_bc = cvc_bh5['BC_path']\n",
    "tp = pd.melt(pd.DataFrame( {'AC & BC' : cvc_combi, 'AC' : cvc_ac, 'BC' : cvc_bc }), \n",
    "             var_name = 'Transmission path', value_name = 'Speech Intelligibility Index') \n",
    "\n",
    "fig, ax = plt.subplots(constrained_layout=True)\n",
    "\n",
    "fig.set_figheight(6)\n",
    "fig.set_figwidth(12)\n",
    "\n",
    "ax = sns.swarmplot(data = tp, x = 'Transmission path', y = 'Speech Intelligibility Index', \n",
    "              hue = 'Transmission path', size=5, palette={'silver', 'grey', 'black'})\n",
    "\n",
    "ax.set_title(ttl)\n",
    "plt.legend(bbox_to_anchor=(0.15, 0.25), fontsize='large')\n",
    "\n",
    "# save figure to file\n",
    "plt.savefig('/media/guido/LACIE/Cingle_Guido/Project_band/Analysis_results/BAHA5P_CVC_Sbest65_Nfront65.tiff', \n",
    "           transparent=False, dpi=500, bbox_inches=\"tight\")\n",
    "\n",
    "plt.show()"
   ]
  }
 ],
 "metadata": {
  "kernelspec": {
   "display_name": "Python 3 (ipykernel)",
   "language": "python",
   "name": "python3"
  },
  "language_info": {
   "codemirror_mode": {
    "name": "ipython",
    "version": 3
   },
   "file_extension": ".py",
   "mimetype": "text/x-python",
   "name": "python",
   "nbconvert_exporter": "python",
   "pygments_lexer": "ipython3",
   "version": "3.8.12"
  }
 },
 "nbformat": 4,
 "nbformat_minor": 4
}
