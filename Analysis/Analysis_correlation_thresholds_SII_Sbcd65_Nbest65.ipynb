{
 "cells": [
  {
   "cell_type": "markdown",
   "metadata": {},
   "source": [
    "# Analysis Relation SII in noise & AC  and BC direct thresholds in the situation Sbcd65_Nbest65"
   ]
  },
  {
   "cell_type": "markdown",
   "metadata": {},
   "source": [
    "25 January 2021 Guido Cattani"
   ]
  },
  {
   "cell_type": "code",
   "execution_count": 1,
   "metadata": {},
   "outputs": [],
   "source": [
    "from pathlib import Path\n",
    "import pandas as pd\n",
    "import numpy as np\n",
    "import matplotlib\n",
    "import matplotlib.pyplot as plt\n",
    "import matplotlib.lines as mlines\n",
    "import matplotlib.patches as mpatches\n",
    "from scipy.stats import linregress as linregress"
   ]
  },
  {
   "cell_type": "code",
   "execution_count": 2,
   "metadata": {},
   "outputs": [],
   "source": [
    "def read_AC_thresholds():\n",
    "    # read measured thresholds\n",
    "    f_in = '/media/guido/LACIE/Cingle_Guido/Master/AC_thresholds.xlsx'\n",
    "    p_in = Path(f_in)   \n",
    "    df = pd.read_excel(p_in, sheet_name=0, header=0, index_col= 1, nrows=85)\n",
    "    df = df.drop(['Unnamed: 0'], axis=1)\n",
    "    type_dict = {'Device': 'str',\n",
    "             'AC_125':'float32', 'AC_250':'float32', 'AC_500':'float32', \n",
    "             'AC_1000': 'float32', 'AC_2000': 'float32', \n",
    "             'AC_4000': 'float32', 'AC_8000': 'float32'}\n",
    "    df = df.astype(type_dict)\n",
    "    new_dict ={'AC_500': 'AC_500_Hz', 'AC_1000': 'AC_1000_Hz', \n",
    "               'AC_2000': 'AC_2000_Hz', 'AC_4000': 'AC_4000_Hz'}\n",
    "    df = df.rename(columns=new_dict)\n",
    "    df = df.fillna(pd.NA)\n",
    "    return df"
   ]
  },
  {
   "cell_type": "code",
   "execution_count": 3,
   "metadata": {},
   "outputs": [],
   "source": [
    "def present_AC_thresholds():\n",
    "    ac = read_AC_thresholds()\n",
    "    ac1 = ac[['Device', 'AC_500_Hz', 'AC_1000_Hz', \n",
    "              'AC_2000_Hz', 'AC_4000_Hz']].copy()\n",
    "    pta = ac1.iloc[:, 1:].mean(axis='columns')\n",
    "    ac1.insert(5, column= 'PTA (0.5-4 kHz)', value=pta)\n",
    "    pta_hf = ac1.iloc[:, 2:].mean(axis='columns')\n",
    "    ac1.insert(6, column= 'PTA_HF (1-4 kHz)', value=pta_hf)\n",
    "    return ac1"
   ]
  },
  {
   "cell_type": "code",
   "execution_count": 4,
   "metadata": {},
   "outputs": [],
   "source": [
    "def read_BC_direct():\n",
    "    f_in = '/media/guido/LACIE/Cingle_Guido/Master/BC_direct_thresholds.xlsx'\n",
    "    p_in = Path(f_in)   \n",
    "    df = pd.read_excel(p_in, sheet_name=0, header=0, index_col= 1, nrows=85)\n",
    "    df = df.drop(['Unnamed: 0'], axis=1)\n",
    "    type_dict = {'Device': 'str',\n",
    "             'BCd_250':'float32', 'BCd_250':'float32', 'BCd_500':'float32', \n",
    "             'BCd_1000': 'float32', 'BCd_1500': 'float32', 'BCd_2000': 'float32', 'BCd_3000': 'float32', \n",
    "             'BCd_4000': 'float32'}\n",
    "    new_dict ={'BCd_500': 'BCd_500_Hz', 'BCd_1000': 'BCd_1000_Hz', \n",
    "               'BCd_2000': 'BCd_2000_Hz', 'BCd_4000': 'BCd_4000_Hz'}\n",
    "    df = df.astype(type_dict)\n",
    "    df = df.rename(columns=new_dict)\n",
    "    df = df.fillna(pd.NA)\n",
    "    return df"
   ]
  },
  {
   "cell_type": "code",
   "execution_count": 5,
   "metadata": {},
   "outputs": [],
   "source": [
    "def present_BCdirect_thresholds():\n",
    "    bc = read_BC_direct()\n",
    "    bc1 = bc[['Device', 'BCd_500_Hz', 'BCd_1000_Hz', 'BCd_2000_Hz', 'BCd_4000_Hz']].copy()\n",
    "    pta = bc1.iloc[:, 1:].mean(axis='columns')\n",
    "    bc1.insert(5, column= 'PTA (0.5-4 kHz)', value=pta)\n",
    "    pta_hf = bc1.iloc[:, 2:].mean(axis='columns')\n",
    "    bc1.insert(6, column= 'PTA_HF (1-4 kHz)', value=pta_hf)\n",
    "    bc1.dropna(inplace=True)\n",
    "    return bc1"
   ]
  },
  {
   "cell_type": "code",
   "execution_count": 6,
   "metadata": {},
   "outputs": [],
   "source": [
    "def read_SII():\n",
    "    f_in =  '/media/guido/LACIE/Cingle_Guido/Master/SII_Sbcd65_Nbest65.xlsx'\n",
    "    p_in = Path(f_in)   \n",
    "    df = pd.read_excel(p_in, sheet_name='SII_Sbcd65_Nbest65', header=0, index_col= 1, nrows=85)\n",
    "    df = df.drop(['Unnamed: 0',], axis=1)\n",
    "    df = df.fillna(pd.NA)\n",
    "    return df"
   ]
  },
  {
   "cell_type": "code",
   "execution_count": 7,
   "metadata": {},
   "outputs": [],
   "source": [
    "def select_bp110(df):\n",
    "    # select BP110 data\n",
    "    is_bp110 =  df['Device']=='BP110'\n",
    "    df_bp110 = df[is_bp110]\n",
    "    df_bp110.pop('Device')\n",
    "    return(df_bp110)"
   ]
  },
  {
   "cell_type": "code",
   "execution_count": 8,
   "metadata": {},
   "outputs": [],
   "source": [
    "def select_bh5(df):\n",
    "    # select BAHA5P data\n",
    "    is_baha5p =  df['Device']=='BAHA5P'\n",
    "    df_baha5p = df[is_baha5p]\n",
    "    df_baha5p.pop('Device')\n",
    "    return(df_baha5p)"
   ]
  },
  {
   "cell_type": "code",
   "execution_count": 9,
   "metadata": {},
   "outputs": [],
   "source": [
    "def select_cases():\n",
    "    sii = read_SII()\n",
    "    idx = sii.index\n",
    "    return idx"
   ]
  },
  {
   "cell_type": "code",
   "execution_count": 10,
   "metadata": {},
   "outputs": [],
   "source": [
    "def select_ac_thresholds():\n",
    "    act = present_AC_thresholds()\n",
    "    idx = select_cases()\n",
    "    act1 = act.loc[idx]\n",
    "    return act1"
   ]
  },
  {
   "cell_type": "code",
   "execution_count": 11,
   "metadata": {},
   "outputs": [],
   "source": [
    "def select_bc_thresholds():\n",
    "    bct = present_BCdirect_thresholds()\n",
    "    idx = select_cases()\n",
    "    bct1 = bct.loc[idx]\n",
    "    return bct1"
   ]
  },
  {
   "cell_type": "code",
   "execution_count": 12,
   "metadata": {},
   "outputs": [],
   "source": [
    "# SII combi per Device type, as numpy array, presented as tuple\n",
    "def sii_device():\n",
    "    sii = read_SII()\n",
    "    sii_bp110 = (select_bp110(sii).iloc[:, 2]).to_numpy(dtype='float')\n",
    "    sii_bh5 = (select_bh5(sii).iloc[:, 2]).to_numpy(dtype='float')\n",
    "    t = (sii_bp110, sii_bh5)\n",
    "    return t"
   ]
  },
  {
   "cell_type": "code",
   "execution_count": 13,
   "metadata": {},
   "outputs": [],
   "source": [
    "# AC thresholds per Device type, as numpy array, presented as tuple\n",
    "def act_device():\n",
    "    act = select_ac_thresholds()\n",
    "    act_bp110 = select_bp110(act)\n",
    "    act_bh5 = select_bh5(act)\n",
    "    t = (act_bp110, act_bh5)\n",
    "    return t"
   ]
  },
  {
   "cell_type": "code",
   "execution_count": 14,
   "metadata": {},
   "outputs": [],
   "source": [
    "# BC direct thresholds per Device type, as numpy array, presented as tuple\n",
    "def bct_device():\n",
    "    bct = select_bc_thresholds()\n",
    "    bct_bp110 = select_bp110(bct)\n",
    "    bct_bh5 = select_bh5(bct)\n",
    "    t = (bct_bp110, bct_bh5)\n",
    "    return t"
   ]
  },
  {
   "cell_type": "code",
   "execution_count": 15,
   "metadata": {},
   "outputs": [],
   "source": [
    "# lin. reg. SII combination path (si) function thresholds (df)\n",
    "def lreg_SII(thr, si):\n",
    "    l = list(thr.columns)\n",
    "    d = dict()\n",
    "    for j in range(6):\n",
    "        thres = (thr.iloc[:, j]).to_numpy(dtype='float')\n",
    "        lrgrs = linregress(thres, si)\n",
    "        r = lrgrs[2]\n",
    "        r2 = round(r**2, 3)\n",
    "        r = round(r, 3)\n",
    "        p = round(lrgrs[3], 3)\n",
    "        se = round(lrgrs[4], 4)\n",
    "        print(l[j], 'r square =', r2, ' r =', r, ' p =', p, ' se =', se)\n",
    "        de = {l[j] : (r, r2)}\n",
    "        d.update(de)\n",
    "    df = pd.DataFrame.from_dict(d, orient='index')\n",
    "    return df"
   ]
  },
  {
   "cell_type": "code",
   "execution_count": 16,
   "metadata": {},
   "outputs": [],
   "source": [
    "(sii_bp110, sii_bh5) = sii_device()\n",
    "(act_bp110, act_bh5) = act_device()\n",
    "(bct_bp110, bct_bh5) = bct_device()"
   ]
  },
  {
   "cell_type": "code",
   "execution_count": 17,
   "metadata": {},
   "outputs": [
    {
     "name": "stdout",
     "output_type": "stream",
     "text": [
      "AC_500_Hz r square = 0.025  r = -0.159  p = 0.36  se = 0.001\n",
      "AC_1000_Hz r square = 0.013  r = -0.113  p = 0.518  se = 0.001\n",
      "AC_2000_Hz r square = 0.436  r = 0.661  p = 0.0  se = 0.0007\n",
      "AC_4000_Hz r square = 0.245  r = 0.495  p = 0.002  se = 0.0004\n",
      "PTA (0.5-4 kHz) r square = 0.133  r = 0.365  p = 0.031  se = 0.001\n",
      "PTA_HF (1-4 kHz) r square = 0.209  r = 0.457  p = 0.006  se = 0.0009\n"
     ]
    }
   ],
   "source": [
    "# BAHA5P: relation sii combination path vs. AC thresholds\n",
    "lr_bh5_ac = lreg_SII(act_bh5, sii_bh5)"
   ]
  },
  {
   "cell_type": "code",
   "execution_count": 18,
   "metadata": {},
   "outputs": [
    {
     "name": "stdout",
     "output_type": "stream",
     "text": [
      "AC_500_Hz r square = 0.014  r = 0.12  p = 0.493  se = 0.0007\n",
      "AC_1000_Hz r square = 0.083  r = 0.288  p = 0.093  se = 0.0007\n",
      "AC_2000_Hz r square = 0.001  r = 0.027  p = 0.879  se = 0.0006\n",
      "AC_4000_Hz r square = 0.071  r = 0.266  p = 0.123  se = 0.0003\n",
      "PTA (0.5-4 kHz) r square = 0.091  r = 0.302  p = 0.078  se = 0.0008\n",
      "PTA_HF (1-4 kHz) r square = 0.091  r = 0.302  p = 0.078  se = 0.0007\n"
     ]
    }
   ],
   "source": [
    "# BP110: relation sii combination path vs. AC thresholds\n",
    "lr_bp110_ac = lreg_SII(act_bp110, sii_bp110)"
   ]
  },
  {
   "cell_type": "code",
   "execution_count": 19,
   "metadata": {},
   "outputs": [
    {
     "name": "stdout",
     "output_type": "stream",
     "text": [
      "BCd_500_Hz r square = 0.017  r = 0.129  p = 0.461  se = 0.0008\n",
      "BCd_1000_Hz r square = 0.156  r = 0.394  p = 0.019  se = 0.001\n",
      "BCd_2000_Hz r square = 0.004  r = -0.066  p = 0.707  se = 0.0008\n",
      "BCd_4000_Hz r square = 0.005  r = 0.07  p = 0.691  se = 0.0006\n",
      "PTA (0.5-4 kHz) r square = 0.024  r = 0.155  p = 0.374  se = 0.0011\n",
      "PTA_HF (1-4 kHz) r square = 0.021  r = 0.143  p = 0.411  se = 0.0011\n"
     ]
    }
   ],
   "source": [
    "# BAHA5P: relation sii combination path vs. BC direct thresholds\n",
    "lr_bh5_bc = lreg_SII(bct_bh5, sii_bh5)"
   ]
  },
  {
   "cell_type": "code",
   "execution_count": 20,
   "metadata": {},
   "outputs": [
    {
     "name": "stdout",
     "output_type": "stream",
     "text": [
      "BCd_500_Hz r square = 0.093  r = -0.305  p = 0.075  se = 0.0006\n",
      "BCd_1000_Hz r square = 0.054  r = -0.232  p = 0.18  se = 0.0006\n",
      "BCd_2000_Hz r square = 0.089  r = -0.298  p = 0.082  se = 0.0006\n",
      "BCd_4000_Hz r square = 0.038  r = -0.196  p = 0.26  se = 0.0004\n",
      "PTA (0.5-4 kHz) r square = 0.158  r = -0.398  p = 0.018  se = 0.0008\n",
      "PTA_HF (1-4 kHz) r square = 0.135  r = -0.368  p = 0.03  se = 0.0008\n"
     ]
    }
   ],
   "source": [
    "# BP110: relation sii combination path vs. BC direct thresholds\n",
    "lr_bp110_bc = lreg_SII(bct_bp110, sii_bp110)"
   ]
  },
  {
   "cell_type": "code",
   "execution_count": 21,
   "metadata": {},
   "outputs": [
    {
     "data": {
      "image/png": "[encoded data removed]",
      "text/plain": [
       "<Figure size 432x288 with 1 Axes>"
      ]
     },
     "metadata": {
      "needs_background": "light"
     },
     "output_type": "display_data"
    }
   ],
   "source": [
    "pta4_bp110 = (bct_bp110.iloc[:, 4]).to_numpy(dtype='float')\n",
    "lrgrs = linregress(pta4_bp110, sii_bp110)\n",
    "slope = lrgrs[0]\n",
    "intercept = lrgrs[1]\n",
    "r2 = round(lrgrs[2]**2, 3)\n",
    "s = 'r square = '+ str(r2)\n",
    "\n",
    "plt.scatter(pta4_bp110, sii_bp110, c='black')\n",
    "plt.title(\"BP110: Relation between BC direct thresholds PTA (0.5-4 kHz) and SII combination path\")\n",
    "plt.xlabel(\"BC direct thresholds PTA (0.5-4 kHz [dB]\")\n",
    "plt.ylabel(\"SII combination path\")\n",
    "plt.plot(pta4_bp110, slope*pta4_bp110 + intercept, color='grey')\n",
    "plt.text(16, 0.26, s)\n",
    "plt.show()"
   ]
  },
  {
   "cell_type": "code",
   "execution_count": 22,
   "metadata": {},
   "outputs": [
    {
     "data": {
      "image/png": "[encoded data removed]",
      "text/plain": [
       "<Figure size 432x288 with 1 Axes>"
      ]
     },
     "metadata": {
      "needs_background": "light"
     },
     "output_type": "display_data"
    }
   ],
   "source": [
    "ac4_bh5 = (act_bh5.iloc[:, 2]).to_numpy(dtype='float')\n",
    "lrgrs = linregress(ac4_bh5, sii_bh5)\n",
    "slope = lrgrs[0]\n",
    "intercept = lrgrs[1]\n",
    "r2 = round(lrgrs[2]**2, 3)\n",
    "s = 'r square = '+ str(r2)\n",
    "\n",
    "plt.scatter(ac4_bh5, sii_bh5, c='black')\n",
    "plt.title(\"BAHA5P: Relation between AC thresholds at 2 kHz and SII combination path\")\n",
    "plt.xlabel(\"BC direct thresholds PTA (0.5-4 kHz [dB]\")\n",
    "plt.ylabel(\"SII combination path\")\n",
    "plt.plot(ac4_bh5, slope*ac4_bh5 + intercept, color='grey')\n",
    "plt.text(22, 0.285, s)\n",
    "plt.show()"
   ]
  }
 ],
 "metadata": {
  "kernelspec": {
   "display_name": "Python 3 (ipykernel)",
   "language": "python",
   "name": "python3"
  },
  "language_info": {
   "codemirror_mode": {
    "name": "ipython",
    "version": 3
   },
   "file_extension": ".py",
   "mimetype": "text/x-python",
   "name": "python",
   "nbconvert_exporter": "python",
   "pygments_lexer": "ipython3",
   "version": "3.8.12"
  }
 },
 "nbformat": 4,
 "nbformat_minor": 4
}
